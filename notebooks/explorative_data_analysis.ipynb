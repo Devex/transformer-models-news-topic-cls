{
 "cells": [
  {
   "cell_type": "code",
   "execution_count": 218,
   "metadata": {},
   "outputs": [
    {
     "name": "stdout",
     "output_type": "stream",
     "text": [
      "No Apex Import\n"
     ]
    }
   ],
   "source": [
    "from sklearn.preprocessing import LabelEncoder, MultiLabelBinarizer\n",
    "import pandas as pd\n",
    "from transformers import BertTokenizer, AlbertTokenizer, XLNetTokenizer, GPT2Tokenizer, LongformerTokenizer\n",
    "\n",
    "import matplotlib.pyplot as plt\n",
    "import seaborn as sns\n",
    "import nltk\n",
    "from wordcloud import WordCloud, STOPWORDS\n",
    "import re\n",
    "import itertools\n",
    "\n",
    "import nlpaug.augmenter.word as naw\n",
    "import nlpaug.model.word_stats as nmw\n",
    "from googletrans import Translator\n",
    "from langdetect import detect\n",
    "from httpcore._exceptions import ProtocolError\n",
    "\n",
    "from nlpaug.util import Action\n",
    "from nlpaug.util.file.download import DownloadUtil as dutil\n",
    "\n",
    "import numpy as np\n",
    "import math\n",
    "import time\n",
    "\n",
    "import os\n",
    "from tqdm.notebook import tqdm\n",
    "import logging\n",
    "from IPython.core.debugger import set_trace\n",
    "\n",
    "%run -i \"../news-topic-cls/core/models/base.py\"\n",
    "%run -i \"../news-topic-cls/core/models/extension.py\"\n",
    "%run -i \"../news-topic-cls/core/data/data.py\"\n",
    "%run -i \"../news-topic-cls/core/utils/optim.py\"\n",
    "%run -i \"../news-topic-cls/core/utils/utils.py\"\n",
    "%run -i \"../news-topic-cls/core/data/augmentation.py\"\n",
    "%run -i \"../news-topic-cls/core/data/augment_dataframe.py\""
   ]
  },
  {
   "cell_type": "markdown",
   "metadata": {},
   "source": [
    "### Results of SVM Benchmark"
   ]
  },
  {
   "cell_type": "code",
   "execution_count": 194,
   "metadata": {},
   "outputs": [],
   "source": [
    "import json\n",
    "with open(\"/Users/bradloff/Documents/masterthesis/devex/monkeylearn_gold_standard_evaluation-news-topics_articles.json\", \"r\") as cls_eval:\n",
    "    evals = json.load(cls_eval)"
   ]
  },
  {
   "cell_type": "code",
   "execution_count": 295,
   "metadata": {},
   "outputs": [
    {
     "name": "stdout",
     "output_type": "stream",
     "text": [
      "0.3333333333333333 0.5 0.25 0.24523251799691578\n"
     ]
    }
   ],
   "source": [
    "tp = 0\n",
    "fp = 0\n",
    "fn = 0\n",
    "tn = 0\n",
    "labels = [\"ED\"]\n",
    "for key, value in evals[\"category_results\"].items():\n",
    "    if key[1:3] in labels:\n",
    "        tp += value[\"tp\"]\n",
    "        fn += value[\"fn\"]\n",
    "        fp += value[\"fp\"]\n",
    "        tn += (77 - value[\"tp\"] - value[\"fn\"] - value[\"fp\"])\n",
    "\n",
    "recall = tp/(tp+fp)\n",
    "prec = tp/(tp+fn)\n",
    "\n",
    "f1 = 2*(recall*prec)/(prec+recall)\n",
    "mcc = (tp * tn - fp * fn)/math.sqrt((tp + fp)*(tp+fn)*(tn+fp)*(tn+fn))\n",
    "\n",
    "print(f1, prec, recall, mcc)"
   ]
  },
  {
   "cell_type": "code",
   "execution_count": 288,
   "metadata": {},
   "outputs": [],
   "source": [
    "all_labels = ['AG', 'BF', 'CE', 'ED', 'EN', 'FU', 'GH', 'HA', 'HR', 'ID', 'II', 'IN', 'MC', 'NR', 'PM', 'PS', 'RE', 'SD', 'TP', 'UD', 'WS']"
   ]
  },
  {
   "cell_type": "code",
   "execution_count": 361,
   "metadata": {},
   "outputs": [
    {
     "name": "stdout",
     "output_type": "stream",
     "text": [
      "Accuracy Single-Label-AG: 0.922077922077922\n",
      "Accuracy Single-Label-BF: 0.8961038961038961\n",
      "Accuracy Single-Label-CE: 0.935064935064935\n",
      "Accuracy Single-Label-ED: 0.7922077922077922\n",
      "Accuracy Single-Label-EN: 0.922077922077922\n",
      "Accuracy Single-Label-FU: 0.8311688311688312\n",
      "Accuracy Single-Label-GH: 0.935064935064935\n",
      "Accuracy Single-Label-HA: 0.8831168831168831\n",
      "Accuracy Single-Label-HR: 0.8961038961038961\n",
      "Accuracy Single-Label-ID: 0.9090909090909091\n",
      "Accuracy Single-Label-II: 0.8831168831168831\n",
      "Accuracy Single-Label-IN: 0.8831168831168831\n",
      "Accuracy Single-Label-MC: 0.935064935064935\n",
      "Accuracy Single-Label-NR: 0.8701298701298701\n",
      "Accuracy Single-Label-PM: 0.948051948051948\n",
      "Accuracy Single-Label-PS: 0.8311688311688312\n",
      "Accuracy Single-Label-RE: 0.961038961038961\n",
      "Accuracy Single-Label-SD: 0.8311688311688312\n",
      "Accuracy Single-Label-TP: 0.8051948051948052\n",
      "Accuracy Single-Label-UD: 0.948051948051948\n",
      "Accuracy Single-Label-WS: 0.961038961038961\n",
      "-----------------------------\n",
      "Overall estimated Accuracy: 0.09246498990415747\n"
     ]
    }
   ],
   "source": [
    "overall_acc = 1.0\n",
    "for label in all_labels:\n",
    "    correct = 0\n",
    "    labels = [label]\n",
    "    for result in evals[\"sample_results\"]:\n",
    "        preds = [cls[1:3] for cls in result[\"classifications\"]]\n",
    "        targets = [tar[1:3] for tar in result[\"gold_standard_classifications\"]]\n",
    "\n",
    "        filtered_preds = [pred for pred in preds if pred in labels]\n",
    "        filtered_targets = [target for target in targets if target in labels]\n",
    "\n",
    "        if sorted(filtered_preds) == sorted(filtered_targets):\n",
    "            correct += 1\n",
    "    acc = correct/77\n",
    "    overall_acc *= acc\n",
    "    print(\"Accuracy Single-Label-{}: {}\".format(label, acc))\n",
    "print(\"-----------------------------\")\n",
    "print(\"Overall estimated Accuracy: {}\".format(overall_acc))"
   ]
  },
  {
   "cell_type": "code",
   "execution_count": 286,
   "metadata": {},
   "outputs": [
    {
     "name": "stdout",
     "output_type": "stream",
     "text": [
      "Accuracy Single-Label: 0.948051948051948\n",
      "Accuracy 5-Labels: 0.42857142857142855\n",
      "Accuracy 21-Labels: 0.06493506493506493\n"
     ]
    }
   ],
   "source": [
    "correct = 0\n",
    "labels = [\"UD\"]\n",
    "for result in evals[\"sample_results\"]:\n",
    "    preds = [cls[1:3] for cls in result[\"classifications\"]]\n",
    "    targets = [tar[1:3] for tar in result[\"gold_standard_classifications\"]]\n",
    "    \n",
    "    filtered_preds = [pred for pred in preds if pred in labels]\n",
    "    filtered_targets = [target for target in targets if target in labels]\n",
    "    \n",
    "    if sorted(filtered_preds) == sorted(filtered_targets):\n",
    "        correct += 1\n",
    "print(\"Accuracy Single-Label: {}\".format(correct/77))\n",
    "\n",
    "correct = 0\n",
    "labels = ['FU', 'GH', 'TP', 'SD', 'ID']\n",
    "for result in evals[\"sample_results\"]:\n",
    "    preds = [cls[1:3] for cls in result[\"classifications\"]]\n",
    "    targets = [tar[1:3] for tar in result[\"gold_standard_classifications\"]]\n",
    "    \n",
    "    filtered_preds = [pred for pred in preds if pred in labels]\n",
    "    filtered_targets = [target for target in targets if target in labels]\n",
    "    \n",
    "    if sorted(filtered_preds) == sorted(filtered_targets):\n",
    "        correct += 1\n",
    "print(\"Accuracy 5-Labels: {}\".format(correct/77))\n",
    "\n",
    "correct_cls = 0\n",
    "for value in evals[\"sample_results\"]:\n",
    "    if sorted(value[\"gold_standard_classifications\"]) == sorted(value[\"classifications\"]):\n",
    "        correct_cls += 1\n",
    "print(\"Accuracy 21-Labels: {}\".format(correct_cls/77))"
   ]
  },
  {
   "cell_type": "markdown",
   "metadata": {},
   "source": [
    "### Averaging Metrics for Training Runs"
   ]
  },
  {
   "cell_type": "code",
   "execution_count": 64,
   "metadata": {},
   "outputs": [],
   "source": [
    "def average_metrics(acc=[], f1=[], prec=[], rec=[], mcc=[], loss=[]):\n",
    "    if acc!=[]:\n",
    "        print(\"Accuracy: {}\".format(np.array(acc).mean()))\n",
    "    if f1!=[]:\n",
    "        print(\"F1: {}\".format(np.array(f1).mean()))\n",
    "    if prec!=[]:\n",
    "        print(\"Precision: {}\".format(np.array(prec).mean()))\n",
    "    if rec!=[]:\n",
    "        print(\"Recall: {}\".format(np.array(rec).mean()))\n",
    "    if mcc!=[]:\n",
    "        print(\"MCC: {}\".format(np.array(mcc).mean()))\n",
    "    if loss!=[]:\n",
    "        print(\"Loss: {}\".format(np.array(loss).mean()))"
   ]
  },
  {
   "cell_type": "code",
   "execution_count": 370,
   "metadata": {},
   "outputs": [],
   "source": [
    "acc = [0.7685, 0.8631, 0.8144, 0.857, 0.8288]\n",
    "f1 = [0.3807, 0.4574, 0.4759, 0.5415, 0.4648]\n",
    "prec = [0.2614, 0.3493, 0.341, 0.4688, 0.3646]\n",
    "rec = [0.7, 0.6623, 0.7872, 0.641, 0.6408]\n",
    "mcc = [0.3233, 0.4137, 0.4343, 0.4668, 0.3925]\n",
    "loss = [0.2976, 0.2345, 0.2862, 0.2511, 0.2816]"
   ]
  },
  {
   "cell_type": "code",
   "execution_count": 371,
   "metadata": {},
   "outputs": [
    {
     "name": "stdout",
     "output_type": "stream",
     "text": [
      "Accuracy: 0.82636\n",
      "F1: 0.46406000000000003\n",
      "Precision: 0.35702\n",
      "Recall: 0.68626\n",
      "MCC: 0.40612000000000004\n",
      "Loss: 0.2702\n"
     ]
    }
   ],
   "source": [
    "average_metrics(acc=acc, f1=f1, prec=prec, rec=rec, mcc=mcc, loss=loss)"
   ]
  },
  {
   "cell_type": "markdown",
   "metadata": {},
   "source": [
    "## Data "
   ]
  },
  {
   "cell_type": "code",
   "execution_count": 372,
   "metadata": {},
   "outputs": [],
   "source": [
    "data_path = \"../data/article_confirmed.csv\"\n",
    "if \"test\" in data_path:\n",
    "    df = pd.read_csv(data_path).drop(labels=\"Unnamed: 0\", axis=1)\n",
    "else:\n",
    "    df = pd.read_csv(data_path)\n",
    "df, label_encoder = encode_labels(df)\n",
    "abbrev_mapping = get_abbreveation_mapping(label_encoder)\n",
    "df = binarize_labels(df, abbrev_mapping)\n",
    "df.head()\n",
    "original_df = df"
   ]
  },
  {
   "cell_type": "code",
   "execution_count": 373,
   "metadata": {},
   "outputs": [
    {
     "data": {
      "text/plain": [
       "4425"
      ]
     },
     "execution_count": 373,
     "metadata": {},
     "output_type": "execute_result"
    }
   ],
   "source": [
    "len(df)"
   ]
  },
  {
   "cell_type": "code",
   "execution_count": 374,
   "metadata": {},
   "outputs": [],
   "source": [
    "config_name = \"roberta-base\"\n",
    "transformer = TransformerOptions(config_name)"
   ]
  },
  {
   "cell_type": "markdown",
   "metadata": {},
   "source": [
    "# Data Engineering"
   ]
  },
  {
   "cell_type": "code",
   "execution_count": 375,
   "metadata": {},
   "outputs": [
    {
     "name": "stdout",
     "output_type": "stream",
     "text": [
      "Original Length: 4425\n"
     ]
    }
   ],
   "source": [
    "print(\"Original Length: {}\".format(len(original_df)))"
   ]
  },
  {
   "cell_type": "code",
   "execution_count": 376,
   "metadata": {},
   "outputs": [],
   "source": [
    "def clean_data(dataframe):\n",
    "    id_list = [62094]\n",
    "    cleaned_df = dataframe[~dataframe.id.isin(id_list)]\n",
    "    \"\"\"\n",
    "    event_preview_ids = []\n",
    "    for index, row in tqdm(dataframe.iterrows()):\n",
    "        if row.text[:15] == \"Events preview:\":\n",
    "            event_preview_ids.append(row.id)\n",
    "    long_enumeration_ids = [94003]\n",
    "    cleaned_df = cleaned_df[~cleaned_df.id.isin(long_enumeration_ids + event_preview_ids)]\n",
    "    \"\"\"\n",
    "    cleaned_df.replace(\"<.*>\", \"\", regex=True, inplace=True)\n",
    "    return cleaned_df"
   ]
  },
  {
   "cell_type": "code",
   "execution_count": 377,
   "metadata": {},
   "outputs": [
    {
     "name": "stderr",
     "output_type": "stream",
     "text": [
      "/opt/anaconda3/envs/thesis/lib/python3.7/site-packages/pandas/core/frame.py:4172: SettingWithCopyWarning: \n",
      "A value is trying to be set on a copy of a slice from a DataFrame\n",
      "\n",
      "See the caveats in the documentation: https://pandas.pydata.org/pandas-docs/stable/user_guide/indexing.html#returning-a-view-versus-a-copy\n",
      "  method=method,\n"
     ]
    },
    {
     "data": {
      "text/plain": [
       "4424"
      ]
     },
     "execution_count": 377,
     "metadata": {},
     "output_type": "execute_result"
    }
   ],
   "source": [
    "df = clean_data(original_df)\n",
    "len(df)"
   ]
  },
  {
   "cell_type": "code",
   "execution_count": 378,
   "metadata": {},
   "outputs": [],
   "source": [
    "class IncreasedLoggingLevel():\n",
    "    def __init__(self, logger_name, target_level=logging.ERROR):\n",
    "        self.logger = logging.getLogger(logger_name)\n",
    "        self.target_level = logging.ERROR\n",
    "        self.original_level = self.logger.getEffectiveLevel()\n",
    "    def __enter__(self):\n",
    "        self.logger.setLevel(self.target_level)\n",
    "    def __exit__(self, type, value, traceback):\n",
    "        self.logger.setLevel(self.original_level)        "
   ]
  },
  {
   "cell_type": "code",
   "execution_count": 379,
   "metadata": {},
   "outputs": [],
   "source": [
    "with IncreasedLoggingLevel(\"transformers.tokenization_utils_base\") as x:\n",
    "    input_ids = [transformer.tokenizer(text)[\"input_ids\"] for text in df.text.values]"
   ]
  },
  {
   "cell_type": "markdown",
   "metadata": {},
   "source": [
    "### Spell Checker"
   ]
  },
  {
   "cell_type": "code",
   "execution_count": null,
   "metadata": {},
   "outputs": [],
   "source": [
    "from spellchecker import SpellChecker"
   ]
  },
  {
   "cell_type": "code",
   "execution_count": null,
   "metadata": {},
   "outputs": [],
   "source": [
    "is_id = df.id == 85826\n",
    "article = df[is_id].text.values[0]"
   ]
  },
  {
   "cell_type": "code",
   "execution_count": null,
   "metadata": {},
   "outputs": [],
   "source": [
    "words = nltk.word_tokenize(article)"
   ]
  },
  {
   "cell_type": "code",
   "execution_count": null,
   "metadata": {},
   "outputs": [],
   "source": [
    "checker = SpellChecker()\n",
    "checker.unknown(words)"
   ]
  },
  {
   "cell_type": "code",
   "execution_count": null,
   "metadata": {},
   "outputs": [],
   "source": [
    "text = \"Below is a nonexhaustive selection of some of the city’s most prominent INGOs working to support development: Amnesty International Founded: 1961 Director: Kate Allen Annual budget: 24.8 million pounds (\\$36.9 million) Staff: 170 across the U.K. Activities: human rights, advocacy The name Amnesty International has long been associated with human rights and justice for those whose rights have been violated around the world.\"\n",
    "tokens = transformer.tokenizer.tokenize(\"diarrhea\")"
   ]
  },
  {
   "cell_type": "code",
   "execution_count": null,
   "metadata": {},
   "outputs": [],
   "source": [
    "tokens"
   ]
  },
  {
   "cell_type": "markdown",
   "metadata": {},
   "source": [
    "### Long Enumerations"
   ]
  },
  {
   "cell_type": "code",
   "execution_count": 434,
   "metadata": {},
   "outputs": [],
   "source": [
    "def postprocess_sentences(sentences):\n",
    "    for index, sentence in enumerate(sentences):\n",
    "        if sentence.count(\",\") > 15:\n",
    "            tokens = nltk.word_tokenize(sentence)\n",
    "            word_counter = len(tokens)\n",
    "            if word_counter >= 200:\n",
    "                sentences[index] = \"List of upcoming events.\"\n",
    "\n",
    "    return sentences\n",
    "\n",
    "def sentenize(article):\n",
    "    sentences = nltk.tokenize.sent_tokenize(article)\n",
    "    for index, sentence in enumerate(sentences):\n",
    "        quotes = find_quotes(sentence)\n",
    "        sentences[index] = quotes\n",
    "\n",
    "    def flatten(list_): return [item for sublist in list_ for item in sublist]\n",
    "    return flatten(sentences)\n",
    "\n",
    "def find_quotes(sentence):\n",
    "    condition = re.compile(\".*?”\")\n",
    "    matches = condition.finditer(sentence)\n",
    "    quotes = [match.group().strip() for match in matches]\n",
    "    if quotes == []:\n",
    "        return [sentence]\n",
    "    last_match = quotes[-1]\n",
    "    lower_bound = sum([len(quote) for quote in quotes]) - len(last_match)\n",
    "    last_match_end = sentence.find(last_match, lower_bound) + len(last_match)\n",
    "    after_quotes = sentence[last_match_end:].strip()\n",
    "    if after_quotes != \"\":\n",
    "        quotes.append(after_quotes)\n",
    "    return quotes"
   ]
  },
  {
   "cell_type": "code",
   "execution_count": 435,
   "metadata": {},
   "outputs": [],
   "source": [
    "is_id = df.id == id_\n",
    "article = df[is_id].text.values[0]\n",
    "sentences = sentenize(article)"
   ]
  },
  {
   "cell_type": "code",
   "execution_count": 462,
   "metadata": {
    "scrolled": true
   },
   "outputs": [
    {
     "name": "stdout",
     "output_type": "stream",
     "text": [
      "ID: 94029\n",
      "_____________________\n",
      "Long Story Short #39: What COP24 means for global development Guests: Michael Igoe, senior reporter and Andrew Green, freelance contributor Host: Kate Midden, engagement editor This year’s United Nations climate talks in Katowice have raised major questions about the influence of fossil fuel companies on global climate policy, the ability of negotiators to push forward an ambitious climate agenda, and the fortitude of the Paris Agreement. Against a conflicting backdrop of alarming new climate science and pro-coal superpowers working against the tide of progress, the fate of the Paris Rulebook — the guiding document for implementing the Paris Agreement — hangs in the balance. From the heart of Polish coal country, Devex’s Michael Igoe, Andrew Green, and Kate Midden explore major stories from the Conference of Parties so far — and what this year’s negotiations mean for global development. Additional reading: • 4 things to watch at COP24 • Activists sound alarm as human rights guidelines are dropped at COP • Why the World Bank decided against an emissions target • Opinion: Can transition countries become climate leaders?\n",
      "_____________________\n",
      "Labels:\n",
      "Democracy, Human Rights & Governance\n",
      "Environment & Natural Resources\n",
      "Trade & Policy\n"
     ]
    }
   ],
   "source": [
    "id_ = 94029\n",
    "print_article_with_labels(id_=id_)"
   ]
  },
  {
   "cell_type": "code",
   "execution_count": 446,
   "metadata": {},
   "outputs": [
    {
     "name": "stdout",
     "output_type": "stream",
     "text": [
      "ID: 93200\n",
      "_____________________\n",
      "Long Story Short #23: Inside the global HIV/AIDS response Check out the video of this episode on our Facebook page. Want to listen to this episode on the go? Listen and subscribe: iTunes | SoundCloud Guests: Mercy Ngulube, youth advocate and trustee, Sophia Forum Sophie Edwards, reporter, Devex Host: Kate Midden, engagement editor, Devex Ahead of the International AIDS conference in Amsterdam, experts warned that progress on HIV/AIDS is stalling. What’s behind the concerning trend — and what will it take to get on track to meet ambitious targets for 2020 and 2030? Live from AIDS 2018, this conversation covers the top stories to watch in the HIV/AIDS response — from youth engagement to integration of programming with tuberculosis, sexual and reproductive health, and more. Additional reading: • The 'end of AIDS' is not even nearly in sight, experts warn • Launch of $1.2B coalition to expand HIV services for men • UNAIDS chief confronted by anti-harassment protestors on stage in Amsterdam • Christians and the new age of AIDS • Ambassador Birx on PEPFAR's budget, country ownership, and how to tackle the epidemic • A look at PEPFAR's strategy: Controversies and motivations\n",
      "_____________________\n",
      "Labels:\n",
      "Global Health\n",
      "Humanitarian Aid\n",
      "Democracy, Human Rights & Governance\n"
     ]
    }
   ],
   "source": [
    "id_ = 93200\n",
    "print_article_with_labels(id_=id_)"
   ]
  },
  {
   "cell_type": "code",
   "execution_count": 447,
   "metadata": {},
   "outputs": [
    {
     "name": "stdout",
     "output_type": "stream",
     "text": [
      "ID: 94029\n",
      "_____________________\n",
      "Long Story Short #39: What COP24 means for global development Guests: Michael Igoe, senior reporter and Andrew Green, freelance contributor Host: Kate Midden, engagement editor This year’s United Nations climate talks in Katowice have raised major questions about the influence of fossil fuel companies on global climate policy, the ability of negotiators to push forward an ambitious climate agenda, and the fortitude of the Paris Agreement. Against a conflicting backdrop of alarming new climate science and pro-coal superpowers working against the tide of progress, the fate of the Paris Rulebook — the guiding document for implementing the Paris Agreement — hangs in the balance. From the heart of Polish coal country, Devex’s Michael Igoe, Andrew Green, and Kate Midden explore major stories from the Conference of Parties so far — and what this year’s negotiations mean for global development. Additional reading: • 4 things to watch at COP24 • Activists sound alarm as human rights guidelines are dropped at COP • Why the World Bank decided against an emissions target • Opinion: Can transition countries become climate leaders?\n",
      "_____________________\n",
      "Labels:\n",
      "Democracy, Human Rights & Governance\n",
      "Environment & Natural Resources\n",
      "Trade & Policy\n"
     ]
    }
   ],
   "source": [
    "id_ = 94029\n",
    "print_article_with_labels(id_=id_)"
   ]
  },
  {
   "cell_type": "code",
   "execution_count": 459,
   "metadata": {},
   "outputs": [
    {
     "name": "stdout",
     "output_type": "stream",
     "text": [
      "ID: 94178\n",
      "_____________________\n",
      "Satellites for Sustainability: A deeper look Space technologies are increasingly important to address some of the most pressing global challenges. Over the past year, Devex has explored three humanitarian and development projects harnessing satellite communications technology for impact — from disaster response to digital health and sustainable fishing. Revisit our coverage in this visual feature. Read more about the impact of satellites in development work on our Satellites for Sustainability site.\n",
      "_____________________\n",
      "Labels:\n",
      "Innovation & ICT\n",
      "Media And Communications\n",
      "Private Sector\n"
     ]
    }
   ],
   "source": [
    "id_ = 94178\n",
    "print_article_with_labels(id_=id_)"
   ]
  },
  {
   "cell_type": "code",
   "execution_count": 454,
   "metadata": {},
   "outputs": [],
   "source": [
    "text = \"Brazil as an Emerging Donor: Huge Potential and Growing Pains EDITOR’S NOTE: Considered an emerging donor, Brazil has focused its aid program on Africa, with nearly 40 percent of its technical cooperation grants in 2009 benefiting 19 African countries, according to Paulo Sotero, director of the Brazil Institute at the Woodrow Wilson International Center for Scholars. It follows a philosophy that differs considerably from other donors, even with fellow emerging economies such as China, because its development cooperation is not motivated by economic interests. A few excerpts: President Luiz Inacio Lula da Silva could not hide his disappointment when he visited Maputo, last October (2008). He had expected to see signs of progress in the construction of a $23 million plant to produce generic drugs for the treatment of HIV/AIDS, which his administration had donated to Mozambique. As the most ambitious foreign assistance project ever launched by Brazil, the plant’s project was announced with some fanfare during the Brazilian president’s first visit to Maputo, in 2003. It was to have been built in four phases, with an operational start date in 2010, Lula’s last year in office. Brazil allocated $4 million for the project’s first phase. The project was launched on the basis of Brazil’s international stature as a model country in the combat of HIV/AIDS, earned as a result of the work of the Oswaldo Cruz Foundation, known as Fiocruz, which is attached to the country’s Ministry of Health. Bringing the project to Africa, the continent most afflicted by the AIDS pandemic, was a bold political decision on the part of the current Brazilian administration, calculated to give meaning and substance to Lula’s government strategy to expand Brazil’s presence in the southern hemisphere. Five years later, there was nothing to be measured or seen. During a closed-door meeting with Mozambican president Armando Ermílio Guebuza, Lula blamed the slow pace of the project’s implementation on his own Ministry of External Relations, which coordinates foreign assistance in the federal government through its Agência Brasileira de Cooperação, or ABC. Speaking at the inauguration of a Maputo office of Fiocruz, Lula promised that, in the event of any future obstacles, “we shall clear the path, we shall unblock matters so that we can come to Mozambique in 2010 and definitively inaugurate the Fiocruz laboratory and the anti-retroviral factory.” The plant, planned for the southern Mozambican city of Matola, is to supply AIDS drugs across Africa. To leave no doubt about the president’s frustration with his government’s poor management of the project, Lula’s office played the tape of his conversation with Guebuza to the Brazilian journalists covering the trip. Virtues and challenges The episode is emblematic of both the virtues and the challenges confronting Brazil as an emerging provider of international assistance, alongside China, India, South Africa and a few others. The Matola project involves an area in which Brazil, a developing country still struggling to reduce poverty and inequality, has achieved success and has knowledge to share with other developing countries on issues that really matter to them. In this sense, it reflects the spirit of genuine solidarity that guides Brazil’s foreign assistance. It also indicates a social and political—rather than economic—motivation in Brazilian international cooperation initiatives. Farmanguinhos, a Fiocruz laboratory, will supply the technology and training for the production of the anti-retroviral drugs in Matola. The chemicals and other ingredients will come in part from India, which has worked with Brazil and South Africa to bring a developing nation’s vision and sensitivity to poverty reduction and other matters of interest to the nations of the southern hemisphere. “What is striking about the current portfolio of commitments made by ABC is that it doesn’t show commercial and/or business interests. Just the opposite, the commitments respond to demands made by the government of recipient countries to the Brazilian Ministry of Foreign Affairs,” says Maristela Baioni, the Program Coordinator for the United Nations Development Program (UNDP) in Brasilia. “A portfolio review shows that no links can be established between the growing number of Brazilian global companies now bringing investments and providing services in Latin America, Africa and parts of Asia and the technical cooperation promoted by the government of Brazil.” In this sense, Brazil international cooperation contrasts with the tied-aid of the traditional model of North-South cooperation and even with the policies of other BRIC countries, such as China. “Another important contrast is that Brazilian South-South cooperation provides technical assistance with a much better understanding of development contexts than traditional North-South cooperation. Brazilian experience, expertise and training transferred to Portuguese speaking countries have the comparative advantage of sharing common language and cultural aspects,” notes Baioni. “This makes Brazilian foreign assistance initiatives both innovative and welcome by the beneficiary countries—with greater chances of being effective when implemented.” The country’s traditional emphasis on technical cooperation and its active high-technology sector has contributed to give to Brazilian development assistance a more significant and focused development dimension, according to Dane Rowlands, of Carleton University’s Norman Paterson School of International Affairs, in Ottawa. Rowlands summarized the qualities and deficiencies of Brazil’s foreign assistance in a comparative study of emerging donors published last year by the International Development Research Center. “India and China have been reluctant to collaborate extensively with foreign partners due to the fear of losing policy independence,” he wrote in a recent paper. “Brazil and South Africa have been much more cooperative in their overall development programs, as well as in research for development.” In Rowlands’ view, the original motivations and strategic objectives of Brazil’s assistance efforts also set the country apart. These, however, are evolving. “In contrast to China and India, Brazil’s development assistance program seemed to emerge more directly from its affinity with other less developed countries and less from immediate political or diplomatic ambitions,” he wrote. While Brasilia does respond to strong pressures to give priority to its immediate neighbors in order to increase its influence and elevate its profile in regional affairs, its assistance program was expanded to other regions as the country’s global stature increased. Brazil’s initiatives Indeed, Africa—more than Latin America—has become the focus of Brazil’s initiatives as an emerging donor. Of its 318 technical cooperation initiatives abroad, 125 involve programs in 19 African countries, namely Angola, Algeria, Benin, Botswana, Burkina-Faso, Cape Verde, Cameron, Egypt, Gambia, Guinea-Bissau, Mali, Morocco, Mozambique, Namibia, Nigeria, Kenya, San Tome & Principe, Senegal, Zambia and Zimbabwe. The total investment by the Brazilian government has amounted to slightly more than half of the $22 million it allotted to such programs. In comparison, Brazil lists 119 projects with its nine immediate neighbors in South America, plus Ecuador. Another 22 cooperation projects are in other South American countries and 58 activities carried out with Belize, Costa Rica, El Salvador, Honduras, Nicaragua, Panama, Cuba, Haiti, Jamaica, Dominican Republic, as well as nine Caribbean countries. Brazil’s international cooperation initiatives have also been extended to Timor Leste, a former Portuguese colony, and to Lebanon, the country of origin of most of the estimated 10 million Brazilians of Arab ancestry. According to ABC, the bulk of Brazil’s international cooperation, measured by cost, involves professional qualification in recipient countries (22 percent) in the two areas where Brazilian development activities have produced impressive outcomes at home: health (18 percent) and agriculture and livestock (15 percent). Other fields include education (10 percent), social development (7 percent) and legislative assistance (6 percent). The more challenging aspect of Brazil as an emerging donor is the dispersion of its aid, reflected in the number of initiatives and the variety of fields covered. The problem is compounded by the multiplicity of agencies involved in the implementation and an insufficient cadre of international cooperation experts at ABC. The technical knowledge available at the agency is provided mostly through a cooperative relationship with the Brasilia office of the UNDP. Divided into seven coordinating units headed by professional diplomats whose assignments change every three or four years, ABC also suffers from a lack of both administrative autonomy and political clout. Knowledgeable sources also see the need for better coordination among the various agencies involved in the planning and execution of projects. The rapid expansion of Brazil’s international cooperation activities under the Lula government has highlighted these shortcomings. They do not diminish, however, the essentially positive nature of Brazil’s development outreach and its promising impact in the beneficiary nations. Re-published with permission by the World Bank. Visit the original article.\""
   ]
  },
  {
   "cell_type": "code",
   "execution_count": 455,
   "metadata": {},
   "outputs": [
    {
     "data": {
      "text/plain": [
       "1640"
      ]
     },
     "execution_count": 455,
     "metadata": {},
     "output_type": "execute_result"
    }
   ],
   "source": [
    "len(nltk.word_tokenize(text))"
   ]
  },
  {
   "cell_type": "code",
   "execution_count": 464,
   "metadata": {
    "scrolled": false
   },
   "outputs": [
    {
     "name": "stdout",
     "output_type": "stream",
     "text": [
      "ID: 45755\n",
      "_____________________\n",
      "North Korea Gets Food Aid from Germany Germany answered the World Food Program?s petition for aid to feed starving people in North Korea. German Development Minister Heidemarie Wieczorek-Zeul announced that Berlin is contributing $620,000 to the operations of the United Nations food agency in the communist state, which the minister said had to cut daily rice handouts to 40 percent of the minimum recommended calories as per international standards. According to Wieczorek-Zeul, \"the North Korean people are threatened by a famine similar to the one it suffered in 1990.\" The WFP estimated that undernourishment plagues over half of the 23.7 million people living the Asian country. Source: Germany offers food aid to North Korea (AFP)\n",
      "_____________________\n",
      "Labels:\n",
      "Agriculture & Rural Development\n",
      "Humanitarian Aid\n",
      "-----------------\n",
      "ID: 58663\n",
      "_____________________\n",
      "IDB Aid to Promote Clean Energy in Caribbean Caribbean nations will benefit from four Inter-American Development Bank grants to promote energy security through the use of renewable energy sources. According to the , two technical cooperation grants worth a combined USD 1.45 million will be made available to the Bahamas to bolster the institutional capacity of its Ministry of the Environment, which manages the energy sector, and enable the Bahamas Electricity Company to explore energy efficiency and renewable energy alternatives. Barbados will also receive a USD1 million grant to help develop a national sustainable energy network that will allow the government to test energy efficiency and renewable energy solutions, explore bioenergy and solar alternatives, and design regulatory and financial incentives to promote clean energy. Meanwhile, the Caribbean Hotel Energy Efficiency Action Program will be established through a USD1 million IDB grant to back the use of energy saving technologies in the region's small, medium and large hotels.\n",
      "_____________________\n",
      "Labels:\n",
      "Energy\n",
      "Funding\n",
      "-----------------\n",
      "ID: 66402\n",
      "_____________________\n",
      "Donor Backing for Water, Sanitation Initiatives Declining The share of financing for water and sanitation services in the overall development aid shrunk over the past decade, according to the United Nations-Water Global Annual Assessment of Sanitation and Drinking-Water report. Projects in the health, education, transport, energy and agriculture sectors, the report emphasized, received greater financing from donors than water and sanitation between 1997 and 2008. “Unsafe water, inadequate sanitation and the lack of hygiene claim the lives of an estimated 2.2 million children under the age of five every year. Of these deaths, 1.5 million are due to diarrhea, the second leading contributor to the global burden of disease,” WHO director of public health and environment Maria Neira said during the launch of the report. “The impact of diarrheal disease in children under 15 is greater than the combined impact of HIV and AIDS, malaria and tuberculosis.” Improving access to water and sanitation services increases a nation’s gross domestic product approximately by 2 percent to 7 percent, the report added.\n",
      "_____________________\n",
      "Labels:\n",
      "Agriculture & Rural Development\n",
      "Banking & Finance\n",
      "Energy\n",
      "Funding\n",
      "Global Health\n",
      "Water & Sanitation\n",
      "-----------------\n",
      "ID: 70805\n",
      "_____________________\n",
      "ADB President Urges Asia to Tap Savings for Infrastructure Finance Asia should tap its savings and mobilize private sector support to finance the new infrastructure it needs to sustain regional growth over the next few years, Asian Development Bank President Haruhiko Kuroda has urged. “We must work diligently to be innovative, yet financially responsible, in mobilizing Asian savings to deliver successful, sustainable and robust infrastructure projects,” Kuroda said at an infrastructure finance forum held Nov. 7 in Japan. Kuroda explained that Asia can make use of infrastructure, provident and pension funds to channel its underutilized savings to help fund public-private infrastructure projects. ADB said Asia’s savings reached some USD4 trillion in 2009. According to an ADB news release, Asia needs some USD8 trillion worth of new infrastructure investments to support economic growth through 2020. The bank noted that 40 percent of this sum covers infrastructure for the energy and electricity sector while transport accounts for some 25 percent. Infrastructure for health, water, education and other social services will take up 25 percent while the remaining balance will cover telecommunications.\n",
      "_____________________\n",
      "Labels:\n",
      "Banking & Finance\n",
      "Energy\n",
      "Infrastructure\n",
      "-----------------\n",
      "ID: 72054\n",
      "_____________________\n",
      "New Research Scheme Eyes Increased Food Security in Developing World Several donors have teamed up for an innovative research initiative that aims to improve food security in developing countries. The U.K. Department for International Development, Bill & Melinda Gates Foundation and Indian Department of Biotechnology have contributed USD32 million toward the Sustainable Crop Production Research for International Development Initiative. The project aims to back “high-quality basic and strategic biological and biotechnological research” that can help boost the production of major food crops in the developing world within the next five to 10 years. The U.K. Biotechnology and Biological Sciences Research Council, which oversees the program, is inviting researchers to submit proposals for SCPRID funding. The application period ends March 31, 2010. More information on the grant competition can be found here.\n",
      "_____________________\n",
      "Labels:\n",
      "Agriculture & Rural Development\n",
      "Funding\n",
      "Global Health\n",
      "Research\n",
      "-----------------\n",
      "ID: 72768\n",
      "_____________________\n",
      "In UK, Research Strategy for Global Food Security Unveiled Major public funders of national and international food-related research in the U.K. unveiled Feb. 10 a strategy on using research to help avert potential food crises. Research councils, government departments and other public bodies are now coordinating their research activities related to food and agriculture through the Global Food Security program. The program’s strategy focuses on four cross-disciplinary research themes for food security: economic resilience, resource efficiency, sustainable food production and supply, and sustainable, healthy, safe diets. “Research that helps farmers grow crops resistant to drought or in areas prone to flooding can mean the difference between life and death for some of the world’s poorest people,” U.K. Parliamentary Undersecretary of State for International Development Stephen O’Brien said in a Feb. 10 statement. “The new strategy will ensure that this sort of research works harder for people in developing countries by avoiding duplication and pushing in to areas where new research is needed,” he added. Read more development aid news.\n",
      "_____________________\n",
      "Labels:\n",
      "Agriculture & Rural Development\n",
      "Global Health\n",
      "Environment & Natural Resources\n",
      "Research\n",
      "-----------------\n",
      "ID: 74463\n",
      "_____________________\n",
      "In Philippines, JICA Approves Reallocation of Loan Savings for Infrastructure Repair The Japan International Cooperation Agency has allowed the Philippines to use some 493 million Philippine pesos ($11.5 million) it saved from previous JICA loans for the rehabilitation of more bridges, roads and flood control facilities damaged by floods that hit the country in 2009. According to the Philippine Department of Public Works and Highways, the savings were acquired through the rebidding of 19 projects under loans provided by JICA in 2010 for the reconstruction of infrastructure damaged by floods caused by typhoons Ketsana and Parma, GMA News reports. “JICA has granted the DPWH request to rehabilitate new additional roads, bridges and flood control damaged by typhoon ‘Ondoy’ and ‘Pepeng’ using the JICA-funded Post Ondoy and Pepeng Short term Infrastructure Rehabilitation Project (POPSTIRP) balance or savings,” the department said. Read more development aid news.\n",
      "_____________________\n",
      "Labels:\n",
      "Funding\n",
      "Infrastructure\n",
      "-----------------\n",
      "ID: 83771\n",
      "_____________________\n",
      "10 tips to boost impact investing The U.S. government has a critical role to play in helping to expand and support impact investing — but how can this have the greatest effect? A new report published this week by the U.S. National Advisory Board on Impact Investing lays out a series of steps the government could take to help promote impact investing and potentially make available additional, innovative development financing. Check out the above Slideshow above outlining 10 of the key recommendations outlined by the NAB report, entitled “Private Capital Public Good: How smart federal policy can galvanize impact investing — and why it’s urgent.” Want to know more? Below is my video report from the launch event, including comments from a few U.S. government representatives. This story is part of a series on impact investing. For more, check out our Storify page on “Impact Investing 2.0: The evolving social finance landscape” and tweet @DevexImpact using #impinv.\n",
      "_____________________\n",
      "Labels:\n",
      "Banking & Finance\n",
      "Institutional Development\n",
      "-----------------\n",
      "ID: 85131\n",
      "_____________________\n",
      "Tips for NGOs to survive the 'middle-income trap' With more donors redirecting their aid money to least-developed countries, nongovernmental organizations in middle-income nations that still have development challenges need to get creative to access donor funding. In Botswana, an upper-middle-income country, the Kalahari Conservation Society faced the same dilemma, Felix Monggae told Devex Associate Editor Richard Jones in this video interview in the Mokolodi national park in advance of the Annual Democracy Forum 2014 in Gaborone, Botswana. How did the organization find a way to survive? Watch the above clip to find out and learn more insights from Monggae on what types of projects KCS pursued and the transformation they went through in the process. #DemocracyMatters is a three-week series exploring the intersection of democracy, development and natural resources management in partnership with International IDEA, the Institute for Democracy and Electoral Assistance. Join the Devex community and access more in-depth analysis, breaking news and business advice — and a host of other services — on international development, humanitarian aid and global health.\n",
      "_____________________\n",
      "Labels:\n",
      "Funding\n",
      "Institutional Development\n",
      "-----------------\n"
     ]
    },
    {
     "name": "stdout",
     "output_type": "stream",
     "text": [
      "ID: 89826\n",
      "_____________________\n",
      "Transitioning to a global development job? Here's how to write your CV While the global development sector is highly competitive, a growing demand for specific skills and expertise is creating job opportunities for transitioning professionals from a range of backgrounds. CV expectations for jobs in global development differ from that of other sectors. If you are trying to make the move into a career in the sector, make sure your CV is not holding you back. Here are some top tips for writing a CV and translating your experience for the global development sector. Looking to make a career move? Visit our career center for expert advice on how to navigate your job search — all you need is a Devex Career Account to get started.\n",
      "_____________________\n",
      "Labels:\n",
      "Careers & Education\n",
      "Economic Development\n",
      "Project Management\n",
      "-----------------\n",
      "ID: 91675\n",
      "_____________________\n",
      "Digital Event: Inside the investigation of USAID's $9.5B health project WASHINGTON — In 2016, Chemonics International began implementing the largest contract in USAID history — a $9.5 billion agreement to deliver lifesaving health supplies to millions of people in more than 50 countries. A year into the project, on-time delivery rates for the health supplies — from condoms to HIV treatments — dropped as low as 7 percent. In an exclusive event, Devex Managing Editor Paul Harris interviewed Senior Reporter Michael Igoe, who broke the story for Devex, about our investigation into the project. We’ll explore the structural missteps that led to Chemonics’ problems — and the lessons revealed both for the organizations delivering on these contracts and for the agencies that tender them. Devex first reported the story back in August, and ongoing coverage detailing the significant operational failures involved in the contract have resulted in calls for congressional hearings, a renewed focus on USAID procurement reform, and a management restructuring of the project at Chemonics. Here’s the full event:\n",
      "_____________________\n",
      "Labels:\n",
      "Global Health\n",
      "Project Management\n",
      "-----------------\n",
      "ID: 92483\n",
      "_____________________\n",
      "Long Story Short #10: What NGOs should do when donations become disasters Check out the video of this episode on our Facebook page. Want to listen to this episode on the go? Listen and subscribe: via iTunes | via SoundCloud Guests: Juanita Rilling, humanitarian adviser and former director of USAID Center for International Disaster Information Host: Kate Wathen, Devex engagement editor When a major disaster unfolds, people around the world gather donations to send to survivors. But acts of compassion can quickly turn into a logistical nightmare for NGOs and disaster responders working to support survivors on the ground. Humanitarian adviser Juanita Rilling joins Long Story Short to explain what disaster relief organizations need to know about handling these donations — from the tax implications to preventing them in the first place. Additional reading: • Opinion: Avoiding a second disaster in Sierra Leone • CBS: When disaster relief brings anything but relief • Center for International Disaster Information: Donations toolkit for Organizations\n",
      "_____________________\n",
      "Labels:\n",
      "Humanitarian Aid\n",
      "Media And Communications\n",
      "-----------------\n",
      "ID: 92641\n",
      "_____________________\n",
      "Webinar: Engaging ultra high net worth individuals On April 27, Devex convened a panel of experts to highlight best practices — and common mistakes — for organizations looking to raise money from philanthropists whose gifts could be transformative to their work. Three things you’ll learn from the webinar: • Trends in giving among ultra high net worth donors • Tips for incorporating these philanthropists into your fundraising strategy • Examples of successful models of engaging ultra high net worth individuals Panel: • Kate Roberts, Co-Founder, Maverick Collective & Senior VP of Corporate Partnerships and Philanthropy, PSI • Alison Powell, Senior Director of Philanthropy, Bridgespan Group • Atul Tandon, Chief Executive Officer, Opportunity International • Catherine Cheney, West Coast Correspondent, Devex (moderator) Watch the full webinar below:\n",
      "_____________________\n",
      "Labels:\n",
      "Funding\n",
      "Private Sector\n",
      "-----------------\n",
      "ID: 92696\n",
      "_____________________\n",
      "Long Story Short #13: What's in store for Asia's development? Check out the video of this episode on our Facebook page. Want to listen to this episode on the go? Listen and subscribe: iTunes | SoundCloud Guest: Jenny Lei Ravelo, Devex reporter Host: Kate Midden Wathen, Devex engagement editor The Asian Development Bank annual meetings are underway — and in its 51st year, ADB is strategizing for the future. As leaders gather in Manila, there’s a lot to discuss — from the role of Chinese aid, to how Asia is planning for an aging population. In this episode, engagement editor Kate Midden Wathen and reporter Jenny Lei Ravelo take you inside the ADB annual meetings’ top stories. Additional reading: • ADB annual meeting preview: What we're looking into • Q&A: An in-depth look at ADB's development effectiveness review • How ADB is working to get 'both engines firing' on regional cooperation • Q&A: AIIB CFO on what to expect from the new bank\n",
      "_____________________\n",
      "Labels:\n",
      "Banking & Finance\n",
      "Innovation & ICT\n",
      "-----------------\n",
      "ID: 92766\n",
      "_____________________\n",
      "Video: A sugar tax to tackle NCDs? The World Health Organization believes imposing a tax on sugary drinks and other refined sugar products could help tackle noncommunicable diseases. But is a so-called \"sin tax\" — also referred to as a “health tax” or “STAX” (sugar, tobacco and alcohol tax) — just a bandaid for a much bigger problem? Does it disproportionately impact poorer people? And is it unfairly punishing an industry? Watch above as Devex takes a closer look. For more coverage of NCDs, visit the Taking the Pulse series here.\n",
      "_____________________\n",
      "Labels:\n",
      "Banking & Finance\n",
      "Global Health\n",
      "Institutional Development\n",
      "-----------------\n",
      "ID: 92810\n",
      "_____________________\n",
      "Long Story Short #15: The global response to Venezuela's humanitarian crisis Check out the video of this episode on our Facebook page. Want to listen to this episode on the go? Listen and subscribe: iTunes Guest: Teresa Welsh, Devex reporter Host: Kate Midden, Devex engagement editor The situation in Venezuela has been deteriorating rapidly. Almost 90 percent of Venezuelans are living below the poverty line, and 50,000 Venezuelans cross the border to Colombia each day. The IMF projects inflation will reach more than 13,000 percent this year. Devex Engagement Editor Kate Midden and Reporter Teresa Welsh discuss how Venezuela reached this point, and the complexities for local, regional, and global entities responding to the crisis. Additional reading: • Maduro victory in Venezuela leaves aid organizations bracing for more refugees • US announces additional $18.5M for Venezuela response while calling for regime change • Aid in Colombia isn't a magnet for fleeing Venezuelans • Colombia aid groups under strain as Venezuela crisis spills over\n",
      "_____________________\n",
      "Labels:\n",
      "Humanitarian Aid\n",
      "Democracy, Human Rights & Governance\n",
      "-----------------\n",
      "ID: 92891\n",
      "_____________________\n",
      "Video: The tech jobs changing development Technology is rapidly transforming the world in which we live and work in. For global development, it’s thought technology will be the biggest contributor — and achiever — in most efforts over the next decade. But technology is also expected to be the sector that will experience the biggest changes in required skills. So which technologies will be most sought after? And how are they used for development work? According to Devex’s recent Next Generation Professional report, produced in collaboration with the United States Agency for International Development and DAI, geographical information systems — or GIS — and big data are the technologies most in demand for the next generation of global development professionals to know and utilize. In the video above, find out how these technologies work and the potential they offer for global development. To read the full report and find out what the future for development workers looks like, click here.\n",
      "_____________________\n",
      "Labels:\n",
      "Economic Development\n",
      "Innovation & ICT\n",
      "Private Sector\n",
      "-----------------\n",
      "ID: 92897\n",
      "_____________________\n",
      "Long Story Short #18: What the European Development Days mean for development — and women This week’s episode is audio-only. Listen and subscribe: iTunes | SoundCloud Guests: Vince Chadwick, Devex reporter Host: Kate Midden, Devex engagement editor 8,000 professionals gathered in Brussels this week for the European Development Days. This year’s theme was gender equality, with conversations surrounding the fundamental inequality that underpins discrimination, violence, and imbalances: the inequality of power. In this week’s special edition episode, Devex reporter Vince Chadwick weighs in on whether the European Development Days matter — and what might come of them. We also hear from advocates and leaders, including comedienne Nidhi Goyal and Oxfam Executive Director Winnie Byanyima on the #MeToo movement, and European Investment Bank Head of Strategy Maria Shaw-Barragan on EIB’s gender strategy. Additional reading: • Do the European Development Days matter? • EU greenlights Oxfam but poised to suspend others over safeguarding concerns • Opinion: EU can stop the global rollback of girls' rights\n",
      "_____________________\n",
      "Labels:\n",
      "Democracy, Human Rights & Governance\n",
      "Institutional Development\n",
      "Social-Inclusive Development\n",
      "-----------------\n",
      "ID: 92912\n",
      "_____________________\n",
      "Funding Insights webinar: World Bank procurement Fragile states. The “learning crisis.” Digital economies in Africa. Earlier this year, the World Bank Spring Meetings offered a glimpse at the institution’s major priorities. How do these priorities stack up to past disbursements — and how might they be operationalized moving forward? In the wake of the World Bank’s $13 billion capital increase, Devex convened a panel of World Bank and development data experts to discuss the trends — and future — of World Bank procurement. This one-hour webinar covered: • Insights into World Bank funding trends — including top countries and sectors • New projects in the funding pipeline • The impacts of the latest procurement reforms Guests Diomedes Berroa, lead procurement specialist, World Bank Raquel Alcega, development data manager, Devex Have follow-up questions? Send them to webinars@devex.com. Watch the full webinar:\n",
      "_____________________\n",
      "Labels:\n",
      "Banking & Finance\n",
      "Funding\n",
      "Project Management\n",
      "-----------------\n"
     ]
    },
    {
     "name": "stdout",
     "output_type": "stream",
     "text": [
      "ID: 93117\n",
      "_____________________\n",
      "Long Story Short #21: The biggest trends in impact investing Check out the video of this episode on our Facebook page. Want to listen to this episode on the go? Listen and subscribe: iTunes | SoundCloud Guests: Adva Saldinger, associate editor, Devex Host: Amy Lieberman, reporter, Devex In the face of increasing uncertainty from traditional donors — and a looming 2030 deadline for achieving the Sustainable Development Goals — the development industry is looking to private investors to finance development. One of the fastest-growing practices? Impact investing. On the heels of the Vatican Impact Investing Conference, reporter Amy Lieberman and associate editor Adva Saldinger discuss what impact investing has accomplished, how it’s evolving, and what’s in store next. Additional reading: • Impact investing growth continues as industry begins tracking to SDGs • Can a UN social impact fund spark further reform at the organization? • Leveraging impact investing to achieve the SDGs\n",
      "_____________________\n",
      "Labels:\n",
      "Banking & Finance\n",
      "Careers & Education\n",
      "Economic Development\n",
      "Private Sector\n",
      "-----------------\n",
      "ID: 93139\n",
      "_____________________\n",
      "Funding Insights webinar: Emerging donors Global development funding is undergoing a period of transformation. New donors like Turkey, South Africa, the Asian Infrastructure Investment Bank and the Green Climate Fund are expanding the foreign aid funding pool — and filling the gaps as traditional donors shrink and shift priorities. New research by Devex estimates that funding from these donors has increased by a staggering 47 percent in just five years — from $5.7 billion in 2010 to $8.4 billion in 2015. Devex convened a panel of experts to discuss trends among these emerging donors — and how implementers can leverage this moment. The one-hour webinar covered: • Trends in giving among 11 emerging donors • The priorities of these donors, including regions and sectors • How organizations should think about tapping into this funding Guest: Pete Troilo, director of global advisory and analysis, Devex Moderator: Manola De Vos, project lead of surveys and advisory services, Devex Have follow-up questions? Send them to webinars@devex.com. Watch the full webinar:\n",
      "_____________________\n",
      "Labels:\n",
      "Banking & Finance\n",
      "Funding\n",
      "-----------------\n",
      "ID: 93154\n",
      "_____________________\n",
      "Long Story Short #22: Can foreign aid curb the Central America crisis? Check out the video of this episode on our Facebook page. Want to listen to this episode on the go? Listen and subscribe: iTunes | SoundCloud Guest: Teresa Welsh, reporter, Devex Host: Kate Midden, engagement editor, Devex The United States’ policy of separating families at the U.S. border has brought renewed global attention to the Central America crisis. In this episode, reporter Teresa Welsh and engagement editor Kate Midden discuss foreign aid's mixed impact in Central America, the root causes of migration and displacement, how donors and multilateral organizations have responded so far, and how the response strategy has changed over the past few months. Additional reading: • UN, international NGOs boost Central America presence amid migrant and refugee crisis • 'Play the long game:' US must continue aid in Central America, analysts say • Trump's Central America threat backs USAID chief into a corner\n",
      "_____________________\n",
      "Labels:\n",
      "Humanitarian Aid\n",
      "Democracy, Human Rights & Governance\n",
      "Trade & Policy\n",
      "-----------------\n",
      "ID: 93199\n",
      "_____________________\n",
      "Video: Meeting the SDGs for maternal and child health During Devex World 2018 in Washington, D.C., on June 12, we caught up with MSD for Mothers Executive Director Mary-Ann Etiebet on meeting the Sustainable Development Goals for maternal and child health. In order to eradicate preventable maternal deaths, the private sector and the development community must come together to develop a relationship of mutual trust, Etiebet said, adding that shared language, shared understanding, and respect for different motivations and investments are all needed. Also important is how to assess both the social and financial return of a project so that it benefits both parties. In the video above, Etiebet talks about forging partnerships outside the traditional development space, experimentation, and some of the issues that can arise when seeking new private sector partners. Devex, with financial support from our partner MSD for Mothers, is exploring how the private sector is driving innovations in global health. Visit the Focus on: Future of Health Partnerships page for more.\n",
      "_____________________\n",
      "Labels:\n",
      "Economic Development\n",
      "Global Health\n",
      "Private Sector\n",
      "-----------------\n",
      "ID: 93276\n",
      "_____________________\n",
      "Long Story Short #24: Breastfeeding in humanitarian crises Check out the video of this episode on our Facebook page. Want to listen to this episode on the go? Listen and subscribe: iTunes | SoundCloud Guests: Teresa Welsh, reporter, Devex Host: Kate Midden, engagement editor, Devex In the midst of crisis — when many lack access to basic needs such as food, shelter, and health care — breastfeeding can be a life-saving intervention for infants. During World Breastfeeding Week, Reporter Teresa Welsh and Engagement Editor Kate Midden discussed how humanitarian organizations are working to ensure mothers can continue to breastfeed, even in emergency situations. Additional reading: • Breast is best even in emergency situations, humanitarian orgs say • New UN guidance aims to boost exclusive breastfeeding worldwide • Opinion: Breast-feeding for economic growth and prosperity • Breast milk for newborns: A key to sustainable development • Opinion: We must improve the global state of breastfeeding\n",
      "_____________________\n",
      "Labels:\n",
      "Global Health\n",
      "Humanitarian Aid\n",
      "Social-Inclusive Development\n",
      "-----------------\n",
      "ID: 93279\n",
      "_____________________\n",
      "Long Story Short #25: Can development assistance combat violent extremism? Check out the video of this episode on our Facebook page. Want to listen to this episode on the go? Listen and subscribe: iTunes | SoundCloud Guests: Michael Igoe, reporter, Devex Host: Kate Midden, engagement editor, Devex On Aug. 7, 1998, Al Qaeda-linked terrorists attacked United States embassies in Kenya and Tanzania, signaling a major shift: Directing overseas development assistance toward efforts to counter violent extremism. Twenty years after the attacks, Devex Reporter Michael Igoe and Engagement Editor Kate Midden discuss how development organizations became involved in countering violent extremism, what they’ve accomplished — and what’s ahead for these efforts. Additional reading: • 20 years after a shocking attack, US aid groups grapple with countering violent extremism • Why more groups are calling on comedy to counter violent extremism • Faith-based groups concerned over US education strategy link to countering extremism • Opinion: 5 tips to improve programs that tackle violent extremism\n",
      "_____________________\n",
      "Labels:\n",
      "Humanitarian Aid\n",
      "Democracy, Human Rights & Governance\n",
      "Trade & Policy\n",
      "-----------------\n",
      "ID: 93280\n",
      "_____________________\n",
      "Events preview: This week in development cooperation EVENTS IN THE NEXT 7 DAYS Youth 20 Summit (Y20 2018) Aug. 13-19 Córdoba, Argentina Breaking the silence: promoting action on aid worker mental health Aug. 16 London, United Kingdom; Online Webinar: Implementing an injectable-free regimen for drug-resistant tuberculosis Aug. 16 Online Regional Consultation Forum: Innovation for Health Economic Zones and Border Area Development in the Greater Mekong Subregion Aug. 16-17 Ho Chi Minh, Vietnam ReGeneration 2030 Summit Aug. 18-19 Åland Islands, Finland Singularity University Global Summit Aug. 20-22 San Francisco, California, United States INTERNATIONAL OBSERVANCES World Humanitarian Day Aug. 19 International Day of Remembrance and Tribute to the Victims of Terrorism Aug. 21 Know of an upcoming event that might be of interest to the international development community? Leave a comment below or email us at news@devex.com.\n",
      "_____________________\n",
      "Labels:\n",
      "Global Health\n",
      "Media And Communications\n",
      "-----------------\n",
      "ID: 93320\n",
      "_____________________\n",
      "Events preview: This week in development cooperation EVENTS IN THE NEXT 7 DAYS Singularity University Global Summit Aug. 20-22 San Francisco, California, United States 3rd AFR100 Annual Partnership Meeting Aug. 26-28 Nairobi, Kenya International Conference on Emerging Infectious Diseases 2018 Aug. 26-29 Atlanta, Georgia, United States 68th Session of the Regional Committee for Africa Aug. 27-31 Dakar, Senegal ADB Online Career Event Aug. 29 Online Sustainable Development Goals, HIV & Human Rights: Advancing Equality, Inclusion and Justice Aug. 29 Los Angeles, California, United States Global Landscapes Forum Aug. 29-30 Nairobi, Kenya 13th International Rotavirus Symposium Aug. 29-31 Minsk, Belarus SDG-Conference: “Towards Zero Hunger: Partnerships for Impact” Aug. 30-31 Wageningen, The Netherlands Global Shapers Annual Summit Aug. 31-Sep. 3 Geneva, Switzerland INTERNATIONAL OBSERVANCES International Day for the Remembrance of the Slave Trade and its Abolition Aug. 23 World Water Week Aug. 26-31 Know of an upcoming event that might be of interest to the international development community? Leave a comment below or email us at news@devex.com.\n",
      "_____________________\n",
      "Labels:\n",
      "Agriculture & Rural Development\n",
      "Energy\n",
      "Media And Communications\n",
      "-----------------\n"
     ]
    },
    {
     "name": "stdout",
     "output_type": "stream",
     "text": [
      "ID: 93399\n",
      "_____________________\n",
      "Long Story Short #26: What global development can learn from Nike Check out the video of this episode on our Facebook page. Want to listen to this episode on the go? Listen and subscribe: iTunes | SoundCloud Guest: Carine Umuhumuza, Devex associate director for communications Host: Kate Midden, Devex engagement editor In honor of 30 years of #JustDoIt, Nike unveiled a controversial new face for its signature campaign: Activist and former NFL quarterback Colin Kaepernick. Announced with a simple tweet, the move generated an outpouring of online responses, leading to an estimated $43 million in free advertising for the company. What can global development learn from Nike’s high-risk, high-return campaign refresh? In this episode, Devex communications guru Carine Umuhumuza shares four key lessons for organizations working to create engaging, share-worthy content. Additional reading: • On Message: Creating community with intention • PATH's rebrand: A scalable focus on the future • On Message: Promoting progress in the social media era • 5 lessons from humanitarian storytellers\n",
      "_____________________\n",
      "Labels:\n",
      "Careers & Education\n",
      "Media And Communications\n",
      "Private Sector\n",
      "-----------------\n",
      "ID: 93434\n",
      "_____________________\n",
      "Long Story Short #27: How the UN is rethinking its response to sexual harassment Check out the audio of this episode on: iTunes | SoundCloud Guest: Amy Lieberman, Devex reporter Host: Kate Midden, Devex engagement editor Some who have reported sexual abuse at the United Nations have described challenging bureaucratic hurdles, inconsistent processes, and deep emotional and professional stress as a result of their complaints. How are things changing at the U.N. and will these changes have an impact? In this episode, U.N. correspondent Amy Lieberman weighs in from New York. Additional reading: • The murky process of reporting sexual harassment at the UN • For UN whistleblowers and survivors, reporting can have costly, emotional toll • UN report finds gaps, lack of protection for whistleblowers • Q&A: UN Women's first spokesperson on sexual harassment talks necessary changes at UN • UN launches staff helpline to address sexual misconduct information gaps\n",
      "_____________________\n",
      "Labels:\n",
      "Institutional Development\n",
      "Social-Inclusive Development\n",
      "-----------------\n",
      "ID: 93441\n",
      "_____________________\n",
      "Webinar: An investor's guide to gender equality Twenty percent of global development organizations have zero female leaders — a significant figure for an industry increasingly focused on gender programming and issues. How can global development turn talk into action and what role do investors have to play? Devex convened a panel of experts from TheBoardroom Africa and CDC Group to discuss how organizations can create strategies for gender equality — and what investors can do to drive change. This one-hour webinar covered: • Root causes of gender inequality in leadership and how to spot them. • Practical guidance for building a more gender-equal leadership team. • Strategies for investors to drive gender equality. Guests: • Marcia Ashong, co-founder and executive director, TheBoardroom Africa • Tamsin Jones, co-founder and executive director, TheBoardroom Africa • Nick O'Donohoe, CEO, CDC Group Moderator: Carine Umuhumuza, associate director for communications, Devex Have follow-up questions? Send them to webinars@devex.com.\n",
      "_____________________\n",
      "Labels:\n",
      "Careers & Education\n",
      "Social-Inclusive Development\n",
      "-----------------\n",
      "ID: 93481\n",
      "_____________________\n",
      "Long Story Short #28: What's next for climate action? Check out the audio of this episode on: iTunes | SoundCloud Guest: Catherine Cheney, Devex reporter Host: Kate Midden, Devex engagement editor Climate negotiations in Bangkok. The announcement of a United Nations climate summit in 2019. The Global Climate Action Summit in San Francisco. It’s been a big month for climate action. What do the key stories from the convenings, commitments, and announcements reveal about the direction of climate change advocacy and action? West Coast Correspondent Catherine Cheney and Engagement Editor Kate Midden discuss the future of climate action in between the Global Climate Action Summit and the U.N. General Assembly. Additional reading: • Global health community steps up climate action • Q&A: UN disaster risk reduction expert Jo Scheuer explains why a new approach is key • Bangkok climate talk leaves 'heavy lifting' to Poland COP24 • How Bill Gates thinks about climate change, innovation, and the SDGs • Feeding a growing world as it faces climate change\n",
      "_____________________\n",
      "Labels:\n",
      "Global Health\n",
      "Environment & Natural Resources\n",
      "Trade & Policy\n",
      "-----------------\n",
      "ID: 93504\n",
      "_____________________\n",
      "Webinar: How to subcontract with USAID For organizations looking to work with the United States Agency for International Development, subcontracting may present an ideal entry point — or an opportunity to shift an existing engagement strategy. How can organizations apply to subcontracts — and how can they be successful in these pursuits? On Sept. 18, Devex convened a panel of funding experts to discuss best practices for USAID subcontracting. This one-hour webinar covered: • How to apply for — and win — USAID subcontracts. • Tips for approaching prime implementers. • Best practices for tracking USAID procurement data. The panelists also answered audience questions on air, including: • What is your advice for introducing ourselves to prime contractors? • What would be your suggestions to get in touch with a prime if we haven't worked with USAID yet but we have done relevant work? • What is more compelling — long-term country expertise or being a registered local entity?\n",
      "_____________________\n",
      "Labels:\n",
      "Funding\n",
      "Media And Communications\n",
      "Project Management\n",
      "Trade & Policy\n",
      "-----------------\n",
      "ID: 93515\n",
      "_____________________\n",
      "#UNGA73: Live from the Concordia Summit NEW YORK — Today marks day two of the Concordia Summit, Concordia’s annual signature event taking place alongside the United Nations General Assembly. Tune in below to watch some of the biggest names in development — Rwandan President Paul Kagame, Maltese President Marie Louise Coleiro Preca, and USAID Administrator Mark Green — deliver thoughtful analysis and remarks on everything from global partnerships, humanitarian challenges, and closing the gender gap. Check out the agenda and watch live here: This livestream is brought to you as part of a media partnership between Concordia Summit and Devex. For more information about our media partnerships, please send a note to kate.midden@devex.com.\n",
      "_____________________\n",
      "Labels:\n",
      "Humanitarian Aid\n",
      "Institutional Development\n",
      "Media And Communications\n",
      "Trade & Policy\n",
      "-----------------\n",
      "ID: 93548\n",
      "_____________________\n",
      "Long Story Short #29: Top stories from the 73rd UN General Assembly Check out the video of this episode on our Facebook page. Want to listen to this episode on the go? Listen and subscribe: iTunes | SoundCloud Guest: Amy Lieberman, Devex U.N. correspondent Host: Kate Midden, Devex engagement editor A lukewarm high-level meeting on tuberculosis. NCDs. Trump’s foreign assistance review. It’s been an eventful week at the 73rd U.N. General Assembly and Global Goals Week. Live from New York, U.N. Correspondent Amy Lieberman and Engagement Editor Kate Midden unpack the biggest stories from one of the biggest events for the global development community. Additional reading: • As UNGA kicks off, Guterres calls for urgency • At NCD summit, a push to address ignored disease burden • In Trump's US aid review, can development principles prevail? • UN warns of worsening famine in Yemen • UN chief António Guterres cautions financing will impact reform process\n",
      "_____________________\n",
      "Labels:\n",
      "Global Health\n",
      "Humanitarian Aid\n",
      "Democracy, Human Rights & Governance\n",
      "Institutional Development\n",
      "Trade & Policy\n",
      "-----------------\n",
      "ID: 93589\n",
      "_____________________\n",
      "Long Story Short #30: The new US development finance institution, explained Want to listen to this episode on the go? Listen and subscribe: iTunes | SoundCloud Guest: Adva Saldinger, associate editor, Devex Host: Kate Midden, engagement editor, Devex After almost a year of discussion and debate, the BUILD Act — which, if enacted would create a new United States development finance institution — passed on Oct. 3. The U.S. International Development Finance Corporation would absorb the Overseas Private Investment Corporation as well as several U.S. Agency for International Development functions. Last week, Associate Editor Adva Saldinger and Engagement Editor Kate Midden explored what it took to get to this point, how the bank will function, and what it means for the future of development financing. Additional reading: • A new US development finance agency takes flight • Exclusive: Plans underway for new US development finance bank • Exclusive: New US DFI expected to get strong White House support • Q&A: OPIC's Ray Washburne on the proposed US development finance institution\n",
      "_____________________\n",
      "Labels:\n",
      "Banking & Finance\n",
      "Economic Development\n",
      "Private Sector\n",
      "-----------------\n",
      "ID: 93597\n",
      "_____________________\n",
      "Webinar: The rebranding playbook An organization's brand is often synonymous with its identity — and when it's time to change things up, the journey can be long and complicated. Why rebrand? And what does it take to transition successfully? Devex discusses practical tips for navigating the process with PATH Chief Marketing and Communications Officer Carla Sandine and Devex Associate Director for Communications Carine Umuhumuza. This one-hour webinar covered: • How to decide whether a rebrand is appropriate. • How to get buy-in from stakeholders to move forward. • Lessons learned from a recent organizational rebrand.\n",
      "_____________________\n",
      "Labels:\n",
      "Careers & Education\n",
      "Institutional Development\n",
      "Media And Communications\n",
      "-----------------\n"
     ]
    },
    {
     "name": "stdout",
     "output_type": "stream",
     "text": [
      "ID: 93691\n",
      "_____________________\n",
      "Long Story Short #32: Responding to Indonesia's dual disaster Listen to this episode: on iTunes | on SoundCloud Guest: Kelli Rogers, Devex Asia correspondent Host: Deborah Charles, Devex news editor Late last month, a devastating dual disaster struck the Indonesian island of Sulawesi. Thousands were injured and tens of thousands required assistance following the magnitude 7.5 earthquake and tsunami featuring 6-meter high waves hitting communities in Palu and Dongala. The subsequent devastation has proved challenging for the response and raised questions about the country’s disaster preparedness. In this episode, Asia Correspondent Kelli Rogers and News Editor Deborah Charles discuss what unfolded, how the catastrophe compared to others in the disaster-prone Asia-Pacific region — and what it means for disaster resilience and preparedness moving forward. Additional reading: • Indonesia disaster reveals community preparedness shortfalls • In Palu, relief teams push to reach worst-hit areas on foot • Asia-Pacific should look inward to foster disaster preparedness, expert says • 3,000 Rohingya refugees train to tackle natural disasters\n",
      "_____________________\n",
      "Labels:\n",
      "Infrastructure\n",
      "Environment & Natural Resources\n",
      "Trade & Policy\n",
      "-----------------\n",
      "ID: 93912\n",
      "_____________________\n",
      "Long Story Short #37: US foreign assistance review, explained Guest: Michael Igoe, Devex reporter Host: Kate Midden, Devex engagement editor Earlier this year, United States President Donald Trump alluded to a foreign aid review — the outcome of which is expected to set the tone for another round of harsh White House budget proposals. Since the announcement, little has been revealed about the process and the few signals the administration has sent have been mixed. In this episode, senior reporter Michael Igoe and engagement editor Kate Midden discuss what we know about the foreign aid review, what we don’t — and what it means for U.S. aid. Go in-depth: • In Trump's US aid review, can development principles prevail? • The next battle for US aid is about to begin • Opinion: The White House foreign aid review is long overdue. Here's how to get reform right. • USAID adopts a hard line on China's development approach\n",
      "_____________________\n",
      "Labels:\n",
      "Humanitarian Aid\n",
      "Democracy, Human Rights & Governance\n",
      "Trade & Policy\n",
      "-----------------\n",
      "ID: 94055\n",
      "_____________________\n",
      "Events preview: This week in development cooperation EVENTS IN THE NEXT 7 DAYS First Global Forum for Heat and Health Dec. 17-20 Hong Kong Uncertainty in Future Poverty and Inequality: Some Implications of Growth and Natural Resources Dec. 20 Kuala Lumpur, Malaysia; Online Investing in people for a better future in the Middle East and North Africa Dec. 21 Tunis, Tunisia INTERNATIONAL CELEBRATIONS International Migrants Day Dec. 18 International Human Solidarity Day Dec. 20 Know of an upcoming event that might be of interest to the international development community? Leave a comment below or email us at news@devex.com.\n",
      "_____________________\n",
      "Labels:\n",
      "Economic Development\n",
      "Media And Communications\n",
      "Environment & Natural Resources\n",
      "-----------------\n",
      "ID: 94670\n",
      "_____________________\n",
      "Video: DFIs are on the rise and here's why we can't ignore them Growing efforts to mobilize private capital and attract more investors to developing countries has helped spur the rise and influence of development finance institutions. There are more DFIs today than ever before, and they are managing more money — about $65 billion in 2017, a roughly 57 percent increase from 2012. As they have grown in numbers and resources, their place in the development landscape has also changed. Devex’s Adva Saldinger explains more about the rise of DFIs. Explore the series.\n",
      "_____________________\n",
      "Labels:\n",
      "Banking & Finance\n",
      "Economic Development\n",
      "Private Sector\n",
      "-----------------\n",
      "ID: 94832\n",
      "_____________________\n",
      "Video: How school meals can fight malnutrition Across low- and middle-income countries, 66 million primary school-age children arrive at school hungry. This can have a knock-on effect on a child’s ability to further education and employment, which ultimately impacts a country’s economy as a whole. Sustainable Development Goal 2 aims to end hunger, achieve food security, improve nutrition, and promote sustainable agriculture by 2030. School feeding programs could be one way to drive progress in this area. While typically this has been implemented through food assistance via an organization like the World Food Programme, governments are increasingly taking on the task to ensure sustainability. But what does it take to ensure school meals go beyond just feeding children, to actually nourishing them? Watch the full video to find out how school meals can fight malnutrition. This focus area, powered by DSM, is exploring innovative solutions to improve nutrition, tackle malnutrition, and influence policies and funding. Visit the Focus on: Improving Nutrition page for more.\n",
      "_____________________\n",
      "Labels:\n",
      "Global Health\n",
      "Trade & Policy\n",
      "-----------------\n",
      "ID: 95003\n",
      "_____________________\n",
      "How social entrepreneurs are using technology to accelerate change OXFORD, United Kingdom — Advances in mobile technology, artificial intelligence, and machine learning have given rise to a whole new way of approaching — and solving — real-world problems. And as the number of mobile internet users continues to grow, so do the possibilities of reaching more people with new solutions. This year’s Skoll World Forum and the annual Skoll Awards for Social Entrepreneurship showcased stellar examples of social entrepreneurs at the forefront of bridging the gap between tech promises and real problem-solving in their communities. Read more about this year’s cohort of Skoll Awardees and how they’re using technology and data to solve issues ranging from tackling counterfeit drugs and seeds to improving drug supply chains and mental health. Explore the visual feature.\n",
      "_____________________\n",
      "Labels:\n",
      "Innovation & ICT\n",
      "Social-Inclusive Development\n",
      "-----------------\n",
      "ID: 95005\n",
      "_____________________\n",
      "How can digital health help us achieve UHC? BARCELONA — In 2015, United Nations member states committed to achieving universal health coverage by 2030, but given that half of the world’s population still lacks essential health services, this is a big task requiring input and effort from multiple stakeholders. The barriers are particularly significant for underserved communities, where a lack of medicines, equipment, and workforce can be an issue. Digital health solutions are helping to tackle these challenges, but what exactly does digital health look like in practice and to what extent can it push forward progress toward UHC? Watch above as Devex takes a closer look. For a closer look at the innovative solutions designed to push for progress on universal health coverage around the globe, visit the Healthy Access series here.\n",
      "_____________________\n",
      "Labels:\n",
      "Global Health\n",
      "Innovation & ICT\n",
      "Private Sector\n",
      "-----------------\n",
      "ID: 95040\n",
      "_____________________\n",
      "#WDLive: Building a disability inclusive humanitarian response Women with disabilities in conflict, disaster, or post-disaster environments are some of the world’s most vulnerable people. In recent years, the humanitarian system has taken steps toward building a more inclusive humanitarian response structure — but have we seen progress? If so, where and how? Devex Associate Editor Kelli Rogers speaks to International Committee of the Red Cross’ Dr. Mina Mojtahedi and National Union of Women with Disabilities in Uganda’s Rose Achayo Obol, for insights on how development can do better on disability inclusion. Watch the recording of the livestream below.\n",
      "_____________________\n",
      "Labels:\n",
      "Humanitarian Aid\n",
      "Social-Inclusive Development\n",
      "-----------------\n",
      "ID: 95299\n",
      "_____________________\n",
      "Bridging the linguistic gap in innovative financing New and innovative financing mechanisms are helping to bridge the $2.5 trillion financing gap in international development. But despite all these tools, unlocking new capital is easier said than done. The thing is, there’s not only a cultural divide between the global development and finance communities, but there's also a linguistic gap. Watch this video to find out more. The Maternity Matters series is sponsored by MSD for Mothers, MSD’s $500 million initiative to help create a world where no woman has to die giving life. The content of this article is the responsibility of the author(s) and does not necessarily represent the official views of MSD. MSD for Mothers is an initiative of Merck & Co., Inc. Kenilworth, N.J., U.S.A.\n",
      "_____________________\n",
      "Labels:\n",
      "Banking & Finance\n",
      "Innovation & ICT\n",
      "Private Sector\n",
      "-----------------\n"
     ]
    },
    {
     "name": "stdout",
     "output_type": "stream",
     "text": [
      "ID: 96016\n",
      "_____________________\n",
      "DevExplains: The Overseas Contingency Operations account and its role in US aid funding WASHINGTON — The Overseas Contingency Operations account is a somewhat obscure mechanism that has proven to be a critical tool in maintaining the international affairs budget in the United States. The account, originally intended to help the Department of Defense pay for the wars in Iraq and Afghanistan, is considered an emergency account and is not subject to the budget caps imposed on U.S. appropriators. In the years since its creation, the OCO account has been used for an increasingly broad range of U.S. programs, and even some of the U.S. Agency for International Development’s operating expenses. The fund has often drawn ire from people on both sides of the political spectrum who have criticized its use. Recently Democratic presidential candidate, Senator Elizabeth Warren, suggested eliminating the account as part of her proposal to fund her Medicare for All plan. Watch this explainer video to find out more about the OCO account, how it was created and the role it plays today in U.S. aid funding.\n",
      "_____________________\n",
      "Labels:\n",
      "Banking & Finance\n",
      "Funding\n",
      "-----------------\n",
      "ID: 96153\n",
      "_____________________\n",
      "Safeguarding the future of yellow fever vaccination Recent high-profile outbreaks of infectious diseases such as Ebola and Zika have highlighted once again the devastating impacts that known viruses can have on populations. Faced with renewed threats caused by diseases whose epidemiology is evolving, the global health community must adapt its responses through better surveillance, prevention, and treatment. One of those diseases is yellow fever, a mosquito-borne disease that emerged hundreds of years ago and is endemic to 33 countries in Africa and 11 countries in South America. While a successful vaccine was developed in the 1930s, reported cases have been on the rise due to increased movements of populations between rural and urban areas, and changing climate conditions, which have allowed mosquito populations to spread. How can the global health community ramp up its efforts to safeguard the vaccine, including through the fostering of innovation, and stimulate vaccination programs to reach better coverage rates? Continue reading the full multimedia feature story on safeguarding the future of yellow fever vaccination.\n",
      "_____________________\n",
      "Labels:\n",
      "Global Health\n",
      "Innovation & ICT\n",
      "-----------------\n",
      "ID: 96265\n",
      "_____________________\n",
      "Changing of the guard — key leadership changes in the past year A number of key development institutions named or announced new leaders in 2019. We’ve compiled some of the biggest and most controversial ones. This included two new development bank executives, both of whom ran unchallenged for the positions; two high-profile women who took over the leadership of embattled U.N. organizations; and one senior ministerial post that has been vacated thrice in the course of the year — and remains empty for now. Read the rest of the visual story here. Vince Chadwick, Catherine Cheney, Michael Igoe, Sara Jerving, and Adva Saldinger contributed reporting to this article.\n",
      "_____________________\n",
      "Labels:\n",
      "Banking & Finance\n",
      "Funding\n",
      "Institutional Development\n",
      "-----------------\n",
      "ID: 96422\n",
      "_____________________\n",
      "The complete interview with Gavi CEO Seth Berkley DAVOS, Switzerland – Gavi, the Vaccine Alliance, is celebrating its 20th anniversary as it looks ahead to a replenishment later this year and contemplates a new strategy. Devex President and Editor-in-Chief Raj Kumar interviewed Gavi CEO Seth Berkley about what has made the alliance successful so far and what the future may look like. “Gavi’s been very successful. It’s started to launch new vaccines,” Berkley said. “What we would like to do is focus in on leaving no one behind … Of course what we want is to have every child, every family, to be vaccinated.” Watch the full interview with the Gavi CEO. Read more about what Berkley has to say ahead of the Gavi replenishment.\n",
      "_____________________\n",
      "Labels:\n",
      "Funding\n",
      "Global Health\n",
      "Institutional Development\n",
      "-----------------\n",
      "ID: 96492\n",
      "_____________________\n",
      "Devex LIVE: A conversation with Ambassador Deborah Birx Devex and Chemonics are hosting an exclusive conversation with Ambassador Deborah Birx to shed light on what's in store for the U.S. President's Emergency Plan for AIDS Relief in the year ahead. Birx, the U.S. global AIDS coordinator and special representative for global health diplomacy, sits down with Devex President and Editor-in-Chief Raj Kumar to discuss what’s happening at PEPFAR, following stagnating levels of funding and proposed budget cuts — against the backdrop of the 2020 presidential elections. Uncertainty around PEPFAR’s funding and future remain an important concern to global health organizations and those impacted by PEPFAR funding changes. This exclusive interview with Birx sheds light on some of these issues, as well as what's to come. Watch the livestream. Join the online conversation using #NewsmakerBirx and #DevexLIVE, as well as tagging @Devex and our event underwriter @Chemonics.\n",
      "_____________________\n",
      "Labels:\n",
      "Funding\n",
      "Democracy, Human Rights & Governance\n",
      "Trade & Policy\n",
      "-----------------\n"
     ]
    }
   ],
   "source": [
    "labels = ['AG', 'BF', 'CE', 'ED', 'EN', 'FU', 'GH', 'HA', 'HR', 'ID', 'II', 'IN', 'MC', 'NR', 'PM', 'PS', 'RE', 'SD', 'TP', 'UD', 'WS']\n",
    "\n",
    "for index, row in df.iterrows():\n",
    "    active_labels = [label for label in labels if row.loc[label]==1]\n",
    "    word_counter = len(nltk.word_tokenize(row.text))\n",
    "    if len(active_labels) > 1 and word_counter <= 200 and word_counter >= 100:\n",
    "        #print(active_labels)\n",
    "        print_article_with_labels(id_=row.id)\n",
    "        print(\"-----------------\")"
   ]
  },
  {
   "cell_type": "code",
   "execution_count": 425,
   "metadata": {
    "scrolled": true
   },
   "outputs": [
    {
     "name": "stderr",
     "output_type": "stream",
     "text": [
      "34it [00:00, 151.34it/s]"
     ]
    },
    {
     "name": "stdout",
     "output_type": "stream",
     "text": [
      "ID: 29186\n",
      "Commas: 1\n",
      "Colons: 5\n",
      "_________________________________\n",
      "ID: 70197\n",
      "Commas: 20\n",
      "Colons: 0\n",
      "_________________________________\n"
     ]
    },
    {
     "name": "stderr",
     "output_type": "stream",
     "text": [
      "65it [00:00, 150.30it/s]"
     ]
    },
    {
     "name": "stdout",
     "output_type": "stream",
     "text": [
      "ID: 76466\n",
      "Commas: 4\n",
      "Colons: 7\n",
      "_________________________________\n"
     ]
    },
    {
     "name": "stderr",
     "output_type": "stream",
     "text": [
      "137it [00:00, 129.20it/s]"
     ]
    },
    {
     "name": "stdout",
     "output_type": "stream",
     "text": [
      "ID: 85826\n",
      "Commas: 1\n",
      "Colons: 6\n",
      "_________________________________\n",
      "ID: 85826\n",
      "Commas: 0\n",
      "Colons: 4\n",
      "_________________________________\n",
      "ID: 85826\n",
      "Commas: 2\n",
      "Colons: 5\n",
      "_________________________________\n",
      "ID: 85826\n",
      "Commas: 2\n",
      "Colons: 5\n",
      "_________________________________\n",
      "ID: 85826\n",
      "Commas: 10\n",
      "Colons: 6\n",
      "_________________________________\n",
      "ID: 85826\n",
      "Commas: 0\n",
      "Colons: 4\n",
      "_________________________________\n",
      "ID: 85826\n",
      "Commas: 2\n",
      "Colons: 5\n",
      "_________________________________\n",
      "ID: 85826\n",
      "Commas: 0\n",
      "Colons: 4\n",
      "_________________________________\n",
      "ID: 85826\n",
      "Commas: 5\n",
      "Colons: 5\n",
      "_________________________________\n",
      "ID: 85882\n",
      "Commas: 6\n",
      "Colons: 4\n",
      "_________________________________\n",
      "ID: 85882\n",
      "Commas: 5\n",
      "Colons: 4\n",
      "_________________________________\n",
      "ID: 85882\n",
      "Commas: 8\n",
      "Colons: 4\n",
      "_________________________________\n",
      "ID: 85882\n",
      "Commas: 5\n",
      "Colons: 4\n",
      "_________________________________\n",
      "ID: 85882\n",
      "Commas: 7\n",
      "Colons: 4\n",
      "_________________________________\n",
      "ID: 85882\n",
      "Commas: 7\n",
      "Colons: 5\n",
      "_________________________________\n",
      "ID: 85882\n",
      "Commas: 5\n",
      "Colons: 4\n",
      "_________________________________\n",
      "ID: 85882\n",
      "Commas: 5\n",
      "Colons: 4\n",
      "_________________________________\n",
      "ID: 85882\n",
      "Commas: 5\n",
      "Colons: 4\n",
      "_________________________________\n",
      "ID: 85882\n",
      "Commas: 7\n",
      "Colons: 4\n",
      "_________________________________\n",
      "ID: 85945\n",
      "Commas: 1\n",
      "Colons: 4\n",
      "_________________________________\n",
      "ID: 85945\n",
      "Commas: 1\n",
      "Colons: 4\n",
      "_________________________________\n",
      "ID: 85945\n",
      "Commas: 1\n",
      "Colons: 4\n",
      "_________________________________\n",
      "ID: 85945\n",
      "Commas: 4\n",
      "Colons: 4\n",
      "_________________________________\n",
      "ID: 85945\n",
      "Commas: 4\n",
      "Colons: 4\n",
      "_________________________________\n",
      "ID: 85945\n",
      "Commas: 1\n",
      "Colons: 4\n",
      "_________________________________\n",
      "ID: 85945\n",
      "Commas: 1\n",
      "Colons: 4\n",
      "_________________________________\n",
      "ID: 85945\n",
      "Commas: 1\n",
      "Colons: 4\n",
      "_________________________________\n",
      "ID: 85945\n",
      "Commas: 2\n",
      "Colons: 4\n",
      "_________________________________\n",
      "ID: 85945\n",
      "Commas: 2\n",
      "Colons: 4\n",
      "_________________________________\n",
      "ID: 85989\n",
      "Commas: 3\n",
      "Colons: 4\n",
      "_________________________________\n",
      "ID: 85989\n",
      "Commas: 2\n",
      "Colons: 8\n",
      "_________________________________\n",
      "ID: 85989\n",
      "Commas: 1\n",
      "Colons: 4\n",
      "_________________________________\n",
      "ID: 85989\n",
      "Commas: 3\n",
      "Colons: 8\n",
      "_________________________________\n",
      "ID: 85989\n",
      "Commas: 1\n",
      "Colons: 4\n",
      "_________________________________\n",
      "ID: 85989\n",
      "Commas: 2\n",
      "Colons: 4\n",
      "_________________________________\n",
      "ID: 85989\n",
      "Commas: 2\n",
      "Colons: 4\n",
      "_________________________________\n",
      "ID: 85989\n",
      "Commas: 1\n",
      "Colons: 4\n",
      "_________________________________\n",
      "ID: 85989\n",
      "Commas: 2\n",
      "Colons: 4\n",
      "_________________________________\n",
      "ID: 86790\n",
      "Commas: 2\n",
      "Colons: 6\n",
      "_________________________________\n",
      "ID: 86790\n",
      "Commas: 3\n",
      "Colons: 5\n",
      "_________________________________\n",
      "ID: 86790\n",
      "Commas: 3\n",
      "Colons: 5\n",
      "_________________________________\n",
      "ID: 86790\n",
      "Commas: 2\n",
      "Colons: 5\n",
      "_________________________________\n",
      "ID: 86790\n",
      "Commas: 5\n",
      "Colons: 5\n",
      "_________________________________\n",
      "ID: 86790\n",
      "Commas: 2\n",
      "Colons: 5\n",
      "_________________________________\n",
      "ID: 86790\n",
      "Commas: 2\n",
      "Colons: 4\n",
      "_________________________________\n",
      "ID: 86790\n",
      "Commas: 2\n",
      "Colons: 4\n",
      "_________________________________\n",
      "ID: 86790\n",
      "Commas: 2\n",
      "Colons: 5\n",
      "_________________________________\n",
      "ID: 86790\n",
      "Commas: 4\n",
      "Colons: 5\n",
      "_________________________________\n",
      "ID: 86790\n",
      "Commas: 2\n",
      "Colons: 5\n",
      "_________________________________\n",
      "ID: 86790\n",
      "Commas: 9\n",
      "Colons: 5\n",
      "_________________________________\n",
      "ID: 86790\n",
      "Commas: 2\n",
      "Colons: 5\n",
      "_________________________________\n",
      "ID: 86790\n",
      "Commas: 1\n",
      "Colons: 5\n",
      "_________________________________\n",
      "ID: 86790\n",
      "Commas: 5\n",
      "Colons: 5\n",
      "_________________________________\n"
     ]
    },
    {
     "name": "stderr",
     "output_type": "stream",
     "text": [
      "164it [00:01, 113.53it/s]"
     ]
    },
    {
     "name": "stdout",
     "output_type": "stream",
     "text": [
      "ID: 87742\n",
      "Commas: 8\n",
      "Colons: 5\n",
      "_________________________________\n",
      "ID: 87742\n",
      "Commas: 9\n",
      "Colons: 5\n",
      "_________________________________\n",
      "ID: 87742\n",
      "Commas: 9\n",
      "Colons: 5\n",
      "_________________________________\n",
      "ID: 87742\n",
      "Commas: 9\n",
      "Colons: 5\n",
      "_________________________________\n",
      "ID: 87742\n",
      "Commas: 9\n",
      "Colons: 5\n",
      "_________________________________\n",
      "ID: 87742\n",
      "Commas: 8\n",
      "Colons: 5\n",
      "_________________________________\n",
      "ID: 87742\n",
      "Commas: 7\n",
      "Colons: 5\n",
      "_________________________________\n",
      "ID: 87742\n",
      "Commas: 12\n",
      "Colons: 5\n",
      "_________________________________\n",
      "ID: 87742\n",
      "Commas: 15\n",
      "Colons: 5\n",
      "_________________________________\n",
      "ID: 87742\n",
      "Commas: 6\n",
      "Colons: 5\n",
      "_________________________________\n",
      "ID: 87742\n",
      "Commas: 8\n",
      "Colons: 5\n",
      "_________________________________\n",
      "ID: 87742\n",
      "Commas: 8\n",
      "Colons: 5\n",
      "_________________________________\n",
      "ID: 87742\n",
      "Commas: 15\n",
      "Colons: 5\n",
      "_________________________________\n",
      "ID: 87742\n",
      "Commas: 8\n",
      "Colons: 5\n",
      "_________________________________\n",
      "ID: 87742\n",
      "Commas: 12\n",
      "Colons: 5\n",
      "_________________________________\n",
      "ID: 87742\n",
      "Commas: 6\n",
      "Colons: 5\n",
      "_________________________________\n",
      "ID: 87742\n",
      "Commas: 8\n",
      "Colons: 5\n",
      "_________________________________\n",
      "ID: 87742\n",
      "Commas: 3\n",
      "Colons: 5\n",
      "_________________________________\n",
      "ID: 87742\n",
      "Commas: 6\n",
      "Colons: 5\n",
      "_________________________________\n",
      "ID: 87742\n",
      "Commas: 1\n",
      "Colons: 5\n",
      "_________________________________\n",
      "ID: 87742\n",
      "Commas: 3\n",
      "Colons: 5\n",
      "_________________________________\n"
     ]
    },
    {
     "name": "stderr",
     "output_type": "stream",
     "text": [
      "227it [00:01, 100.99it/s]"
     ]
    },
    {
     "name": "stdout",
     "output_type": "stream",
     "text": [
      "ID: 89422\n",
      "Commas: 15\n",
      "Colons: 4\n",
      "_________________________________\n"
     ]
    },
    {
     "name": "stderr",
     "output_type": "stream",
     "text": [
      "278it [00:02, 104.23it/s]"
     ]
    },
    {
     "name": "stdout",
     "output_type": "stream",
     "text": [
      "ID: 89896\n",
      "Commas: 20\n",
      "Colons: 6\n",
      "_________________________________\n"
     ]
    },
    {
     "name": "stderr",
     "output_type": "stream",
     "text": [
      "336it [00:02, 105.02it/s]"
     ]
    },
    {
     "name": "stdout",
     "output_type": "stream",
     "text": [
      "ID: 90355\n",
      "Commas: 6\n",
      "Colons: 11\n",
      "_________________________________\n",
      "ID: 90355\n",
      "Commas: 4\n",
      "Colons: 4\n",
      "_________________________________\n",
      "ID: 90355\n",
      "Commas: 4\n",
      "Colons: 4\n",
      "_________________________________\n",
      "ID: 90355\n",
      "Commas: 6\n",
      "Colons: 4\n",
      "_________________________________\n",
      "ID: 90355\n",
      "Commas: 6\n",
      "Colons: 4\n",
      "_________________________________\n",
      "ID: 90355\n",
      "Commas: 4\n",
      "Colons: 4\n",
      "_________________________________\n",
      "ID: 90355\n",
      "Commas: 6\n",
      "Colons: 4\n",
      "_________________________________\n",
      "ID: 90355\n",
      "Commas: 5\n",
      "Colons: 5\n",
      "_________________________________\n",
      "ID: 90355\n",
      "Commas: 4\n",
      "Colons: 4\n",
      "_________________________________\n",
      "ID: 90355\n",
      "Commas: 5\n",
      "Colons: 4\n",
      "_________________________________\n",
      "ID: 90472\n",
      "Commas: 21\n",
      "Colons: 8\n",
      "_________________________________\n",
      "ID: 90472\n",
      "Commas: 15\n",
      "Colons: 5\n",
      "_________________________________\n",
      "ID: 90594\n",
      "Commas: 16\n",
      "Colons: 0\n",
      "_________________________________\n"
     ]
    },
    {
     "name": "stderr",
     "output_type": "stream",
     "text": [
      "390it [00:03, 90.73it/s] "
     ]
    },
    {
     "name": "stdout",
     "output_type": "stream",
     "text": [
      "ID: 90914\n",
      "Commas: 12\n",
      "Colons: 6\n",
      "_________________________________\n",
      "ID: 90914\n",
      "Commas: 2\n",
      "Colons: 5\n",
      "_________________________________\n",
      "ID: 90914\n",
      "Commas: 4\n",
      "Colons: 6\n",
      "_________________________________\n"
     ]
    },
    {
     "name": "stderr",
     "output_type": "stream",
     "text": [
      "425it [00:03, 88.58it/s] "
     ]
    },
    {
     "name": "stdout",
     "output_type": "stream",
     "text": [
      "ID: 91175\n",
      "Commas: 20\n",
      "Colons: 9\n",
      "_________________________________\n",
      "ID: 91175\n",
      "Commas: 20\n",
      "Colons: 3\n",
      "_________________________________\n"
     ]
    },
    {
     "name": "stderr",
     "output_type": "stream",
     "text": [
      "474it [00:04, 94.33it/s] "
     ]
    },
    {
     "name": "stdout",
     "output_type": "stream",
     "text": [
      "ID: 91600\n",
      "Commas: 12\n",
      "Colons: 4\n",
      "_________________________________\n",
      "ID: 91600\n",
      "Commas: 3\n",
      "Colons: 4\n",
      "_________________________________\n",
      "ID: 91600\n",
      "Commas: 13\n",
      "Colons: 4\n",
      "_________________________________\n",
      "ID: 91600\n",
      "Commas: 11\n",
      "Colons: 4\n",
      "_________________________________\n",
      "ID: 91600\n",
      "Commas: 3\n",
      "Colons: 4\n",
      "_________________________________\n",
      "ID: 91600\n",
      "Commas: 22\n",
      "Colons: 5\n",
      "_________________________________\n",
      "ID: 91600\n",
      "Commas: 1\n",
      "Colons: 4\n",
      "_________________________________\n",
      "ID: 91600\n",
      "Commas: 14\n",
      "Colons: 4\n",
      "_________________________________\n",
      "ID: 91600\n",
      "Commas: 9\n",
      "Colons: 4\n",
      "_________________________________\n",
      "ID: 91600\n",
      "Commas: 5\n",
      "Colons: 4\n",
      "_________________________________\n",
      "ID: 91600\n",
      "Commas: 6\n",
      "Colons: 4\n",
      "_________________________________\n",
      "ID: 91600\n",
      "Commas: 7\n",
      "Colons: 4\n",
      "_________________________________\n",
      "ID: 91602\n",
      "Commas: 8\n",
      "Colons: 4\n",
      "_________________________________\n",
      "ID: 91602\n",
      "Commas: 10\n",
      "Colons: 6\n",
      "_________________________________\n",
      "ID: 91628\n",
      "Commas: 36\n",
      "Colons: 9\n",
      "_________________________________\n"
     ]
    },
    {
     "name": "stderr",
     "output_type": "stream",
     "text": [
      "554it [00:05, 102.93it/s]"
     ]
    },
    {
     "name": "stdout",
     "output_type": "stream",
     "text": [
      "ID: 91689\n",
      "Commas: 25\n",
      "Colons: 12\n",
      "_________________________________\n"
     ]
    },
    {
     "name": "stderr",
     "output_type": "stream",
     "text": [
      "589it [00:05, 106.79it/s]"
     ]
    },
    {
     "name": "stdout",
     "output_type": "stream",
     "text": [
      "ID: 91733\n",
      "Commas: 21\n",
      "Colons: 6\n",
      "_________________________________\n",
      "ID: 91735\n",
      "Commas: 21\n",
      "Colons: 4\n",
      "_________________________________\n",
      "ID: 91735\n",
      "Commas: 15\n",
      "Colons: 4\n",
      "_________________________________\n",
      "ID: 91735\n",
      "Commas: 24\n",
      "Colons: 4\n",
      "_________________________________\n",
      "ID: 91735\n",
      "Commas: 9\n",
      "Colons: 4\n",
      "_________________________________\n",
      "ID: 91735\n",
      "Commas: 10\n",
      "Colons: 4\n",
      "_________________________________\n",
      "ID: 91735\n",
      "Commas: 11\n",
      "Colons: 4\n",
      "_________________________________\n",
      "ID: 91735\n",
      "Commas: 22\n",
      "Colons: 4\n",
      "_________________________________\n",
      "ID: 91735\n",
      "Commas: 7\n",
      "Colons: 4\n",
      "_________________________________\n",
      "ID: 91735\n",
      "Commas: 11\n",
      "Colons: 4\n",
      "_________________________________\n",
      "ID: 91735\n",
      "Commas: 6\n",
      "Colons: 5\n",
      "_________________________________\n",
      "ID: 91735\n",
      "Commas: 6\n",
      "Colons: 5\n",
      "_________________________________\n",
      "ID: 91735\n",
      "Commas: 16\n",
      "Colons: 5\n",
      "_________________________________\n"
     ]
    },
    {
     "name": "stderr",
     "output_type": "stream",
     "text": [
      "696it [00:06, 105.91it/s]"
     ]
    },
    {
     "name": "stdout",
     "output_type": "stream",
     "text": [
      "ID: 91890\n",
      "Commas: 14\n",
      "Colons: 5\n",
      "_________________________________\n"
     ]
    },
    {
     "name": "stderr",
     "output_type": "stream",
     "text": [
      "733it [00:06, 114.00it/s]"
     ]
    },
    {
     "name": "stdout",
     "output_type": "stream",
     "text": [
      "ID: 91930\n",
      "Commas: 3\n",
      "Colons: 4\n",
      "_________________________________\n",
      "ID: 91936\n",
      "Commas: 8\n",
      "Colons: 6\n",
      "_________________________________\n",
      "ID: 91936\n",
      "Commas: 16\n",
      "Colons: 5\n",
      "_________________________________\n"
     ]
    },
    {
     "name": "stderr",
     "output_type": "stream",
     "text": [
      "774it [00:07, 118.84it/s]"
     ]
    },
    {
     "name": "stdout",
     "output_type": "stream",
     "text": [
      "ID: 91984\n",
      "Commas: 19\n",
      "Colons: 3\n",
      "_________________________________\n",
      "ID: 91984\n",
      "Commas: 19\n",
      "Colons: 5\n",
      "_________________________________\n"
     ]
    },
    {
     "name": "stderr",
     "output_type": "stream",
     "text": [
      "826it [00:07, 117.87it/s]"
     ]
    },
    {
     "name": "stdout",
     "output_type": "stream",
     "text": [
      "ID: 92040\n",
      "Commas: 23\n",
      "Colons: 11\n",
      "_________________________________\n",
      "ID: 92072\n",
      "Commas: 1\n",
      "Colons: 6\n",
      "_________________________________\n"
     ]
    },
    {
     "name": "stderr",
     "output_type": "stream",
     "text": [
      "902it [00:08, 103.14it/s]"
     ]
    },
    {
     "name": "stdout",
     "output_type": "stream",
     "text": [
      "ID: 92139\n",
      "Commas: 3\n",
      "Colons: 4\n",
      "_________________________________\n",
      "ID: 92139\n",
      "Commas: 2\n",
      "Colons: 4\n",
      "_________________________________\n",
      "ID: 92139\n",
      "Commas: 2\n",
      "Colons: 4\n",
      "_________________________________\n",
      "ID: 92139\n",
      "Commas: 2\n",
      "Colons: 4\n",
      "_________________________________\n",
      "ID: 92139\n",
      "Commas: 2\n",
      "Colons: 4\n",
      "_________________________________\n",
      "ID: 92139\n",
      "Commas: 2\n",
      "Colons: 4\n",
      "_________________________________\n",
      "ID: 92139\n",
      "Commas: 2\n",
      "Colons: 4\n",
      "_________________________________\n",
      "ID: 92139\n",
      "Commas: 2\n",
      "Colons: 4\n",
      "_________________________________\n",
      "ID: 92139\n",
      "Commas: 2\n",
      "Colons: 4\n",
      "_________________________________\n",
      "ID: 92139\n",
      "Commas: 4\n",
      "Colons: 4\n",
      "_________________________________\n",
      "ID: 92143\n",
      "Commas: 16\n",
      "Colons: 0\n",
      "_________________________________\n",
      "ID: 92145\n",
      "Commas: 2\n",
      "Colons: 4\n",
      "_________________________________\n",
      "ID: 92147\n",
      "Commas: 2\n",
      "Colons: 4\n",
      "_________________________________\n",
      "ID: 92162\n",
      "Commas: 20\n",
      "Colons: 6\n",
      "_________________________________"
     ]
    },
    {
     "name": "stderr",
     "output_type": "stream",
     "text": [
      "928it [00:08, 109.44it/s]"
     ]
    },
    {
     "name": "stdout",
     "output_type": "stream",
     "text": [
      "\n",
      "ID: 92185\n",
      "Commas: 0\n",
      "Colons: 4\n",
      "_________________________________\n"
     ]
    },
    {
     "name": "stderr",
     "output_type": "stream",
     "text": [
      "971it [00:08, 121.92it/s]"
     ]
    },
    {
     "name": "stdout",
     "output_type": "stream",
     "text": [
      "ID: 92213\n",
      "Commas: 21\n",
      "Colons: 6\n",
      "_________________________________\n"
     ]
    },
    {
     "name": "stderr",
     "output_type": "stream",
     "text": [
      "1010it [00:09, 119.67it/s]"
     ]
    },
    {
     "name": "stdout",
     "output_type": "stream",
     "text": [
      "ID: 92254\n",
      "Commas: 0\n",
      "Colons: 4\n",
      "_________________________________\n",
      "ID: 92254\n",
      "Commas: 0\n",
      "Colons: 7\n",
      "_________________________________\n",
      "ID: 92261\n",
      "Commas: 0\n",
      "Colons: 9\n",
      "_________________________________\n",
      "ID: 92262\n",
      "Commas: 17\n",
      "Colons: 2\n",
      "_________________________________\n",
      "ID: 92262\n",
      "Commas: 19\n",
      "Colons: 4\n",
      "_________________________________\n",
      "ID: 92272\n",
      "Commas: 0\n",
      "Colons: 5\n",
      "_________________________________\n",
      "ID: 92272\n",
      "Commas: 0\n",
      "Colons: 5\n",
      "_________________________________\n"
     ]
    },
    {
     "name": "stderr",
     "output_type": "stream",
     "text": [
      "1078it [00:09, 111.74it/s]"
     ]
    },
    {
     "name": "stdout",
     "output_type": "stream",
     "text": [
      "ID: 92325\n",
      "Commas: 30\n",
      "Colons: 12\n",
      "_________________________________\n",
      "ID: 92346\n",
      "Commas: 1\n",
      "Colons: 6\n",
      "_________________________________\n"
     ]
    },
    {
     "name": "stderr",
     "output_type": "stream",
     "text": [
      "1103it [00:09, 111.78it/s]"
     ]
    },
    {
     "name": "stdout",
     "output_type": "stream",
     "text": [
      "ID: 92362\n",
      "Commas: 4\n",
      "Colons: 6\n",
      "_________________________________\n",
      "ID: 92374\n",
      "Commas: 7\n",
      "Colons: 4\n",
      "_________________________________\n",
      "ID: 92374\n",
      "Commas: 6\n",
      "Colons: 4\n",
      "_________________________________\n",
      "ID: 92374\n",
      "Commas: 4\n",
      "Colons: 4\n",
      "_________________________________\n",
      "ID: 92374\n",
      "Commas: 6\n",
      "Colons: 4\n",
      "_________________________________\n",
      "ID: 92374\n",
      "Commas: 5\n",
      "Colons: 4\n",
      "_________________________________\n",
      "ID: 92374\n",
      "Commas: 5\n",
      "Colons: 4\n",
      "_________________________________\n",
      "ID: 92374\n",
      "Commas: 4\n",
      "Colons: 4\n",
      "_________________________________\n",
      "ID: 92374\n",
      "Commas: 6\n",
      "Colons: 4\n",
      "_________________________________\n",
      "ID: 92374\n",
      "Commas: 5\n",
      "Colons: 4\n",
      "_________________________________\n",
      "ID: 92374\n",
      "Commas: 6\n",
      "Colons: 4\n",
      "_________________________________\n",
      "ID: 92380\n",
      "Commas: 7\n",
      "Colons: 4\n",
      "_________________________________\n",
      "ID: 92380\n",
      "Commas: 9\n",
      "Colons: 5\n",
      "_________________________________\n"
     ]
    },
    {
     "name": "stderr",
     "output_type": "stream",
     "text": [
      "1142it [00:10, 122.23it/s]"
     ]
    },
    {
     "name": "stdout",
     "output_type": "stream",
     "text": [
      "ID: 92408\n",
      "Commas: 2\n",
      "Colons: 4\n",
      "_________________________________\n",
      "ID: 92408\n",
      "Commas: 0\n",
      "Colons: 4\n",
      "_________________________________\n"
     ]
    },
    {
     "name": "stderr",
     "output_type": "stream",
     "text": [
      "1195it [00:10, 119.82it/s]"
     ]
    },
    {
     "name": "stdout",
     "output_type": "stream",
     "text": [
      "ID: 92469\n",
      "Commas: 26\n",
      "Colons: 8\n",
      "_________________________________\n",
      "ID: 92483\n",
      "Commas: 0\n",
      "Colons: 4\n",
      "_________________________________\n"
     ]
    },
    {
     "name": "stderr",
     "output_type": "stream",
     "text": [
      "1239it [00:10, 131.80it/s]"
     ]
    },
    {
     "name": "stdout",
     "output_type": "stream",
     "text": [
      "ID: 92505\n",
      "Commas: 28\n",
      "Colons: 7\n",
      "_________________________________\n",
      "ID: 92507\n",
      "Commas: 20\n",
      "Colons: 0\n",
      "_________________________________\n"
     ]
    },
    {
     "name": "stderr",
     "output_type": "stream",
     "text": [
      "1280it [00:11, 115.99it/s]"
     ]
    },
    {
     "name": "stdout",
     "output_type": "stream",
     "text": [
      "ID: 92556\n",
      "Commas: 46\n",
      "Colons: 9\n",
      "_________________________________\n",
      "ID: 92557\n",
      "Commas: 1\n",
      "Colons: 6\n",
      "_________________________________\n",
      "ID: 92583\n",
      "Commas: 5\n",
      "Colons: 4\n",
      "_________________________________\n"
     ]
    },
    {
     "name": "stderr",
     "output_type": "stream",
     "text": [
      "1320it [00:11, 119.17it/s]"
     ]
    },
    {
     "name": "stdout",
     "output_type": "stream",
     "text": [
      "ID: 92611\n",
      "Commas: 19\n",
      "Colons: 2\n",
      "_________________________________\n",
      "ID: 92611\n",
      "Commas: 11\n",
      "Colons: 6\n",
      "_________________________________\n"
     ]
    },
    {
     "name": "stderr",
     "output_type": "stream",
     "text": [
      "1361it [00:11, 115.89it/s]"
     ]
    },
    {
     "name": "stdout",
     "output_type": "stream",
     "text": [
      "ID: 92659\n",
      "Commas: 24\n",
      "Colons: 6\n",
      "_________________________________\n"
     ]
    },
    {
     "name": "stderr",
     "output_type": "stream",
     "text": [
      "1404it [00:12, 126.32it/s]"
     ]
    },
    {
     "name": "stdout",
     "output_type": "stream",
     "text": [
      "ID: 92696\n",
      "Commas: 0\n",
      "Colons: 4\n",
      "_________________________________\n",
      "ID: 92713\n",
      "Commas: 13\n",
      "Colons: 4\n",
      "_________________________________\n"
     ]
    },
    {
     "name": "stderr",
     "output_type": "stream",
     "text": [
      "1443it [00:12, 116.75it/s]"
     ]
    },
    {
     "name": "stdout",
     "output_type": "stream",
     "text": [
      "ID: 92755\n",
      "Commas: 18\n",
      "Colons: 6\n",
      "_________________________________\n",
      "ID: 92755\n",
      "Commas: 10\n",
      "Colons: 4\n",
      "_________________________________\n"
     ]
    },
    {
     "name": "stderr",
     "output_type": "stream",
     "text": [
      "1467it [00:12, 106.69it/s]"
     ]
    },
    {
     "name": "stdout",
     "output_type": "stream",
     "text": [
      "ID: 92783\n",
      "Commas: 11\n",
      "Colons: 5\n",
      "_________________________________\n",
      "ID: 92783\n",
      "Commas: 8\n",
      "Colons: 4\n",
      "_________________________________\n",
      "ID: 92783\n",
      "Commas: 8\n",
      "Colons: 5\n",
      "_________________________________\n",
      "ID: 92783\n",
      "Commas: 35\n",
      "Colons: 14\n",
      "_________________________________\n",
      "ID: 92783\n",
      "Commas: 8\n",
      "Colons: 7\n",
      "_________________________________\n",
      "ID: 92783\n",
      "Commas: 16\n",
      "Colons: 6\n",
      "_________________________________\n",
      "ID: 92783\n",
      "Commas: 12\n",
      "Colons: 7\n",
      "_________________________________\n",
      "ID: 92783\n",
      "Commas: 6\n",
      "Colons: 5\n",
      "_________________________________\n",
      "ID: 92783\n",
      "Commas: 12\n",
      "Colons: 7\n",
      "_________________________________\n",
      "ID: 92783\n",
      "Commas: 33\n",
      "Colons: 7\n",
      "_________________________________\n",
      "ID: 92783\n",
      "Commas: 8\n",
      "Colons: 4\n",
      "_________________________________\n",
      "ID: 92783\n",
      "Commas: 17\n",
      "Colons: 7\n",
      "_________________________________\n",
      "ID: 92803\n",
      "Commas: 17\n",
      "Colons: 4\n",
      "_________________________________\n",
      "ID: 92803\n",
      "Commas: 26\n",
      "Colons: 9\n",
      "_________________________________\n",
      "ID: 92803\n",
      "Commas: 23\n",
      "Colons: 5\n",
      "_________________________________\n"
     ]
    },
    {
     "name": "stderr",
     "output_type": "stream",
     "text": [
      "1523it [00:13, 117.46it/s]"
     ]
    },
    {
     "name": "stdout",
     "output_type": "stream",
     "text": [
      "ID: 92846\n",
      "Commas: 18\n",
      "Colons: 4\n",
      "_________________________________\n"
     ]
    },
    {
     "name": "stderr",
     "output_type": "stream",
     "text": [
      "1550it [00:13, 119.47it/s]"
     ]
    },
    {
     "name": "stdout",
     "output_type": "stream",
     "text": [
      "ID: 92884\n",
      "Commas: 27\n",
      "Colons: 8\n",
      "_________________________________\n",
      "ID: 92908\n",
      "Commas: 2\n",
      "Colons: 6\n",
      "_________________________________\n"
     ]
    },
    {
     "name": "stderr",
     "output_type": "stream",
     "text": [
      "1593it [00:13, 123.52it/s]"
     ]
    },
    {
     "name": "stdout",
     "output_type": "stream",
     "text": [
      "ID: 92924\n",
      "Commas: 22\n",
      "Colons: 8\n",
      "_________________________________\n",
      "ID: 92924\n",
      "Commas: 7\n",
      "Colons: 5\n",
      "_________________________________\n"
     ]
    },
    {
     "name": "stderr",
     "output_type": "stream",
     "text": [
      "1619it [00:14, 124.15it/s]"
     ]
    },
    {
     "name": "stdout",
     "output_type": "stream",
     "text": [
      "ID: 92957\n",
      "Commas: 14\n",
      "Colons: 7\n",
      "_________________________________\n",
      "ID: 92957\n",
      "Commas: 17\n",
      "Colons: 4\n",
      "_________________________________\n"
     ]
    },
    {
     "name": "stderr",
     "output_type": "stream",
     "text": [
      "1659it [00:14, 124.62it/s]"
     ]
    },
    {
     "name": "stdout",
     "output_type": "stream",
     "text": [
      "ID: 93004\n",
      "Commas: 13\n",
      "Colons: 4\n",
      "_________________________________\n",
      "ID: 93033\n",
      "Commas: 1\n",
      "Colons: 4\n",
      "_________________________________\n"
     ]
    },
    {
     "name": "stderr",
     "output_type": "stream",
     "text": [
      "1689it [00:14, 128.91it/s]"
     ]
    },
    {
     "name": "stdout",
     "output_type": "stream",
     "text": [
      "ID: 93045\n",
      "Commas: 10\n",
      "Colons: 8\n",
      "_________________________________\n"
     ]
    },
    {
     "name": "stderr",
     "output_type": "stream",
     "text": [
      "1768it [00:15, 117.18it/s]"
     ]
    },
    {
     "name": "stdout",
     "output_type": "stream",
     "text": [
      "ID: 93125\n",
      "Commas: 17\n",
      "Colons: 6\n",
      "_________________________________\n"
     ]
    },
    {
     "name": "stderr",
     "output_type": "stream",
     "text": [
      "1793it [00:15, 112.47it/s]"
     ]
    },
    {
     "name": "stdout",
     "output_type": "stream",
     "text": [
      "ID: 93167\n",
      "Commas: 16\n",
      "Colons: 6\n",
      "_________________________________\n"
     ]
    },
    {
     "name": "stderr",
     "output_type": "stream",
     "text": [
      "1887it [00:16, 116.85it/s]"
     ]
    },
    {
     "name": "stdout",
     "output_type": "stream",
     "text": [
      "ID: 93276\n",
      "Commas: 1\n",
      "Colons: 4\n",
      "_________________________________\n",
      "ID: 93279\n",
      "Commas: 7\n",
      "Colons: 4\n",
      "_________________________________\n",
      "ID: 93280\n",
      "Commas: 6\n",
      "Colons: 4\n",
      "_________________________________\n"
     ]
    },
    {
     "name": "stderr",
     "output_type": "stream",
     "text": [
      "1929it [00:16, 128.78it/s]"
     ]
    },
    {
     "name": "stdout",
     "output_type": "stream",
     "text": [
      "ID: 93320\n",
      "Commas: 12\n",
      "Colons: 4\n",
      "_________________________________\n",
      "ID: 93335\n",
      "Commas: 5\n",
      "Colons: 4\n",
      "_________________________________\n",
      "ID: 93335\n",
      "Commas: 3\n",
      "Colons: 4\n",
      "_________________________________\n",
      "ID: 93335\n",
      "Commas: 4\n",
      "Colons: 4\n",
      "_________________________________\n",
      "ID: 93335\n",
      "Commas: 5\n",
      "Colons: 4\n",
      "_________________________________\n",
      "ID: 93335\n",
      "Commas: 5\n",
      "Colons: 5\n",
      "_________________________________\n",
      "ID: 93335\n",
      "Commas: 4\n",
      "Colons: 4\n",
      "_________________________________\n",
      "ID: 93335\n",
      "Commas: 4\n",
      "Colons: 4\n",
      "_________________________________\n",
      "ID: 93335\n",
      "Commas: 4\n",
      "Colons: 4\n",
      "_________________________________\n",
      "ID: 93335\n",
      "Commas: 8\n",
      "Colons: 4\n",
      "_________________________________\n",
      "ID: 93335\n",
      "Commas: 9\n",
      "Colons: 4\n",
      "_________________________________\n"
     ]
    },
    {
     "name": "stderr",
     "output_type": "stream",
     "text": [
      "1958it [00:16, 123.32it/s]"
     ]
    },
    {
     "name": "stdout",
     "output_type": "stream",
     "text": [
      "ID: 93359\n",
      "Commas: 22\n",
      "Colons: 5\n",
      "_________________________________\n"
     ]
    },
    {
     "name": "stderr",
     "output_type": "stream",
     "text": [
      "1984it [00:17, 113.13it/s]"
     ]
    },
    {
     "name": "stdout",
     "output_type": "stream",
     "text": [
      "ID: 93399\n",
      "Commas: 3\n",
      "Colons: 4\n",
      "_________________________________\n",
      "ID: 93399\n",
      "Commas: 0\n",
      "Colons: 4\n",
      "_________________________________\n",
      "ID: 93409\n",
      "Commas: 6\n",
      "Colons: 5\n",
      "_________________________________\n",
      "ID: 93409\n",
      "Commas: 9\n",
      "Colons: 5\n",
      "_________________________________\n",
      "ID: 93409\n",
      "Commas: 2\n",
      "Colons: 4\n",
      "_________________________________\n",
      "ID: 93409\n",
      "Commas: 3\n",
      "Colons: 8\n",
      "_________________________________\n",
      "ID: 93409\n",
      "Commas: 8\n",
      "Colons: 8\n",
      "_________________________________\n",
      "ID: 93409\n",
      "Commas: 7\n",
      "Colons: 7\n",
      "_________________________________\n",
      "ID: 93409\n",
      "Commas: 5\n",
      "Colons: 7\n",
      "_________________________________\n",
      "ID: 93409\n",
      "Commas: 9\n",
      "Colons: 10\n",
      "_________________________________\n",
      "ID: 93409\n",
      "Commas: 5\n",
      "Colons: 6\n",
      "_________________________________\n",
      "ID: 93409\n",
      "Commas: 8\n",
      "Colons: 6\n",
      "_________________________________\n",
      "ID: 93409\n",
      "Commas: 3\n",
      "Colons: 5\n",
      "_________________________________\n",
      "ID: 93409\n",
      "Commas: 4\n",
      "Colons: 4\n",
      "_________________________________\n",
      "ID: 93409\n",
      "Commas: 1\n",
      "Colons: 4\n",
      "_________________________________\n",
      "ID: 93409\n",
      "Commas: 6\n",
      "Colons: 4\n",
      "_________________________________\n"
     ]
    },
    {
     "name": "stderr",
     "output_type": "stream",
     "text": [
      "2013it [00:17, 124.27it/s]"
     ]
    },
    {
     "name": "stdout",
     "output_type": "stream",
     "text": [
      "ID: 93434\n",
      "Commas: 4\n",
      "Colons: 4\n",
      "_________________________________\n"
     ]
    },
    {
     "name": "stderr",
     "output_type": "stream",
     "text": [
      "2094it [00:17, 142.21it/s]"
     ]
    },
    {
     "name": "stdout",
     "output_type": "stream",
     "text": [
      "ID: 93517\n",
      "Commas: 18\n",
      "Colons: 4\n",
      "_________________________________\n",
      "ID: 93551\n",
      "Commas: 6\n",
      "Colons: 5\n",
      "_________________________________\n",
      "ID: 93551\n",
      "Commas: 8\n",
      "Colons: 4\n",
      "_________________________________\n",
      "ID: 93551\n",
      "Commas: 12\n",
      "Colons: 4\n",
      "_________________________________\n",
      "ID: 93551\n",
      "Commas: 6\n",
      "Colons: 4\n",
      "_________________________________\n",
      "ID: 93551\n",
      "Commas: 9\n",
      "Colons: 4\n",
      "_________________________________\n",
      "ID: 93551\n",
      "Commas: 31\n",
      "Colons: 1\n",
      "_________________________________\n",
      "ID: 93551\n",
      "Commas: 3\n",
      "Colons: 4\n",
      "_________________________________\n"
     ]
    },
    {
     "name": "stderr",
     "output_type": "stream",
     "text": [
      "2126it [00:18, 146.12it/s]"
     ]
    },
    {
     "name": "stdout",
     "output_type": "stream",
     "text": [
      "ID: 93567\n",
      "Commas: 18\n",
      "Colons: 6\n",
      "_________________________________\n",
      "ID: 93589\n",
      "Commas: 0\n",
      "Colons: 4\n",
      "_________________________________\n"
     ]
    },
    {
     "name": "stderr",
     "output_type": "stream",
     "text": [
      "2171it [00:18, 143.33it/s]"
     ]
    },
    {
     "name": "stdout",
     "output_type": "stream",
     "text": [
      "ID: 93618\n",
      "Commas: 2\n",
      "Colons: 4\n",
      "_________________________________\n",
      "ID: 93618\n",
      "Commas: 3\n",
      "Colons: 4\n",
      "_________________________________\n",
      "ID: 93618\n",
      "Commas: 12\n",
      "Colons: 4\n",
      "_________________________________\n",
      "ID: 93618\n",
      "Commas: 5\n",
      "Colons: 4\n",
      "_________________________________\n",
      "ID: 93618\n",
      "Commas: 7\n",
      "Colons: 4\n",
      "_________________________________\n",
      "ID: 93618\n",
      "Commas: 2\n",
      "Colons: 4\n",
      "_________________________________\n",
      "ID: 93618\n",
      "Commas: 2\n",
      "Colons: 4\n",
      "_________________________________\n",
      "ID: 93618\n",
      "Commas: 9\n",
      "Colons: 4\n",
      "_________________________________\n",
      "ID: 93618\n",
      "Commas: 23\n",
      "Colons: 4\n",
      "_________________________________\n"
     ]
    },
    {
     "name": "stderr",
     "output_type": "stream",
     "text": [
      "2219it [00:18, 151.89it/s]"
     ]
    },
    {
     "name": "stdout",
     "output_type": "stream",
     "text": [
      "ID: 93678\n",
      "Commas: 5\n",
      "Colons: 4\n",
      "_________________________________\n",
      "ID: 93678\n",
      "Commas: 5\n",
      "Colons: 4\n",
      "_________________________________\n",
      "ID: 93678\n",
      "Commas: 5\n",
      "Colons: 4\n",
      "_________________________________\n",
      "ID: 93678\n",
      "Commas: 5\n",
      "Colons: 4\n",
      "_________________________________\n",
      "ID: 93678\n",
      "Commas: 5\n",
      "Colons: 4\n",
      "_________________________________\n",
      "ID: 93678\n",
      "Commas: 2\n",
      "Colons: 4\n",
      "_________________________________\n",
      "ID: 93678\n",
      "Commas: 3\n",
      "Colons: 4\n",
      "_________________________________\n",
      "ID: 93678\n",
      "Commas: 3\n",
      "Colons: 4\n",
      "_________________________________\n",
      "ID: 93678\n",
      "Commas: 2\n",
      "Colons: 4\n",
      "_________________________________\n",
      "ID: 93678\n",
      "Commas: 3\n",
      "Colons: 4\n",
      "_________________________________\n",
      "ID: 93678\n",
      "Commas: 3\n",
      "Colons: 4\n",
      "_________________________________\n",
      "ID: 93678\n",
      "Commas: 2\n",
      "Colons: 4\n",
      "_________________________________\n",
      "ID: 93678\n",
      "Commas: 3\n",
      "Colons: 4\n",
      "_________________________________\n",
      "ID: 93678\n",
      "Commas: 3\n",
      "Colons: 4\n",
      "_________________________________\n",
      "ID: 93678\n",
      "Commas: 3\n",
      "Colons: 4\n",
      "_________________________________\n",
      "ID: 93691\n",
      "Commas: 3\n",
      "Colons: 4\n",
      "_________________________________\n"
     ]
    },
    {
     "name": "stderr",
     "output_type": "stream",
     "text": [
      "2250it [00:19, 134.52it/s]"
     ]
    },
    {
     "name": "stdout",
     "output_type": "stream",
     "text": [
      "ID: 93718\n",
      "Commas: 19\n",
      "Colons: 7\n",
      "_________________________________\n",
      "ID: 93729\n",
      "Commas: 4\n",
      "Colons: 4\n",
      "_________________________________\n"
     ]
    },
    {
     "name": "stderr",
     "output_type": "stream",
     "text": [
      "2292it [00:19, 128.17it/s]"
     ]
    },
    {
     "name": "stdout",
     "output_type": "stream",
     "text": [
      "ID: 93768\n",
      "Commas: 3\n",
      "Colons: 4\n",
      "_________________________________\n",
      "ID: 93788\n",
      "Commas: 17\n",
      "Colons: 7\n",
      "_________________________________\n",
      "ID: 93788\n",
      "Commas: 18\n",
      "Colons: 3\n",
      "_________________________________\n"
     ]
    },
    {
     "name": "stderr",
     "output_type": "stream",
     "text": [
      "2334it [00:19, 127.71it/s]"
     ]
    },
    {
     "name": "stdout",
     "output_type": "stream",
     "text": [
      "ID: 93807\n",
      "Commas: 3\n",
      "Colons: 4\n",
      "_________________________________\n",
      "ID: 93807\n",
      "Commas: 0\n",
      "Colons: 4\n",
      "_________________________________\n"
     ]
    },
    {
     "name": "stderr",
     "output_type": "stream",
     "text": [
      "2407it [00:20, 134.34it/s]"
     ]
    },
    {
     "name": "stdout",
     "output_type": "stream",
     "text": [
      "ID: 93904\n",
      "Commas: 9\n",
      "Colons: 6\n",
      "_________________________________\n"
     ]
    },
    {
     "name": "stderr",
     "output_type": "stream",
     "text": [
      "2449it [00:20, 128.91it/s]"
     ]
    },
    {
     "name": "stdout",
     "output_type": "stream",
     "text": [
      "ID: 93952\n",
      "Commas: 7\n",
      "Colons: 4\n",
      "_________________________________\n",
      "ID: 93952\n",
      "Commas: 6\n",
      "Colons: 4\n",
      "_________________________________\n",
      "ID: 93952\n",
      "Commas: 16\n",
      "Colons: 5\n",
      "_________________________________\n",
      "ID: 93952\n",
      "Commas: 5\n",
      "Colons: 4\n",
      "_________________________________\n",
      "ID: 93952\n",
      "Commas: 6\n",
      "Colons: 5\n",
      "_________________________________\n",
      "ID: 93952\n",
      "Commas: 10\n",
      "Colons: 4\n",
      "_________________________________\n",
      "ID: 93952\n",
      "Commas: 8\n",
      "Colons: 4\n",
      "_________________________________\n",
      "ID: 93952\n",
      "Commas: 17\n",
      "Colons: 5\n",
      "_________________________________\n",
      "ID: 93952\n",
      "Commas: 12\n",
      "Colons: 5\n",
      "_________________________________\n",
      "ID: 93952\n",
      "Commas: 13\n",
      "Colons: 5\n",
      "_________________________________\n",
      "ID: 93952\n",
      "Commas: 2\n",
      "Colons: 4\n",
      "_________________________________\n",
      "ID: 93952\n",
      "Commas: 10\n",
      "Colons: 4\n",
      "_________________________________\n",
      "ID: 93952\n",
      "Commas: 5\n",
      "Colons: 4\n",
      "_________________________________\n",
      "ID: 93952\n",
      "Commas: 5\n",
      "Colons: 4\n",
      "_________________________________\n",
      "ID: 93955\n",
      "Commas: 26\n",
      "Colons: 5\n",
      "_________________________________\n"
     ]
    },
    {
     "name": "stderr",
     "output_type": "stream",
     "text": [
      "2494it [00:20, 119.60it/s]"
     ]
    },
    {
     "name": "stdout",
     "output_type": "stream",
     "text": [
      "ID: 94003\n",
      "Commas: 70\n",
      "Colons: 11\n",
      "_________________________________\n"
     ]
    },
    {
     "name": "stderr",
     "output_type": "stream",
     "text": [
      "2580it [00:21, 129.45it/s]"
     ]
    },
    {
     "name": "stdout",
     "output_type": "stream",
     "text": [
      "ID: 94095\n",
      "Commas: 2\n",
      "Colons: 4\n",
      "_________________________________\n",
      "ID: 94095\n",
      "Commas: 3\n",
      "Colons: 6\n",
      "_________________________________\n",
      "ID: 94095\n",
      "Commas: 4\n",
      "Colons: 4\n",
      "_________________________________\n",
      "ID: 94095\n",
      "Commas: 2\n",
      "Colons: 4\n",
      "_________________________________\n",
      "ID: 94095\n",
      "Commas: 5\n",
      "Colons: 5\n",
      "_________________________________\n",
      "ID: 94095\n",
      "Commas: 22\n",
      "Colons: 5\n",
      "_________________________________\n",
      "ID: 94095\n",
      "Commas: 23\n",
      "Colons: 5\n",
      "_________________________________\n",
      "ID: 94095\n",
      "Commas: 8\n",
      "Colons: 4\n",
      "_________________________________\n",
      "ID: 94095\n",
      "Commas: 6\n",
      "Colons: 5\n",
      "_________________________________\n",
      "ID: 94095\n",
      "Commas: 10\n",
      "Colons: 4\n",
      "_________________________________\n",
      "ID: 94095\n",
      "Commas: 10\n",
      "Colons: 6\n",
      "_________________________________\n",
      "ID: 94095\n",
      "Commas: 6\n",
      "Colons: 4\n",
      "_________________________________\n",
      "ID: 94095\n",
      "Commas: 10\n",
      "Colons: 4\n",
      "_________________________________\n",
      "ID: 94095\n",
      "Commas: 8\n",
      "Colons: 4\n",
      "_________________________________\n",
      "ID: 94095\n",
      "Commas: 4\n",
      "Colons: 4\n",
      "_________________________________\n",
      "ID: 94095\n",
      "Commas: 8\n",
      "Colons: 5\n",
      "_________________________________\n"
     ]
    },
    {
     "name": "stderr",
     "output_type": "stream",
     "text": [
      "2609it [00:21, 126.50it/s]"
     ]
    },
    {
     "name": "stdout",
     "output_type": "stream",
     "text": [
      "ID: 94144\n",
      "Commas: 8\n",
      "Colons: 6\n",
      "_________________________________\n",
      "ID: 94144\n",
      "Commas: 8\n",
      "Colons: 4\n",
      "_________________________________\n",
      "ID: 94167\n",
      "Commas: 5\n",
      "Colons: 4\n",
      "_________________________________\n",
      "ID: 94167\n",
      "Commas: 8\n",
      "Colons: 5\n",
      "_________________________________\n",
      "ID: 94167\n",
      "Commas: 3\n",
      "Colons: 4\n",
      "_________________________________\n",
      "ID: 94167\n",
      "Commas: 3\n",
      "Colons: 5\n",
      "_________________________________\n",
      "ID: 94167\n",
      "Commas: 17\n",
      "Colons: 5\n",
      "_________________________________\n",
      "ID: 94167\n",
      "Commas: 14\n",
      "Colons: 5\n",
      "_________________________________\n",
      "ID: 94167\n",
      "Commas: 9\n",
      "Colons: 5\n",
      "_________________________________\n",
      "ID: 94167\n",
      "Commas: 9\n",
      "Colons: 4\n",
      "_________________________________\n",
      "ID: 94167\n",
      "Commas: 4\n",
      "Colons: 4\n",
      "_________________________________\n",
      "ID: 94167\n",
      "Commas: 8\n",
      "Colons: 5\n",
      "_________________________________\n",
      "ID: 94167\n",
      "Commas: 12\n",
      "Colons: 5\n",
      "_________________________________\n",
      "ID: 94167\n",
      "Commas: 5\n",
      "Colons: 5\n",
      "_________________________________\n",
      "ID: 94167\n",
      "Commas: 5\n",
      "Colons: 5\n",
      "_________________________________\n",
      "ID: 94167\n",
      "Commas: 19\n",
      "Colons: 23\n",
      "_________________________________\n",
      "ID: 94174\n",
      "Commas: 18\n",
      "Colons: 10\n",
      "_________________________________\n"
     ]
    },
    {
     "name": "stderr",
     "output_type": "stream",
     "text": [
      "2668it [00:22, 126.16it/s]"
     ]
    },
    {
     "name": "stdout",
     "output_type": "stream",
     "text": [
      "ID: 94220\n",
      "Commas: 12\n",
      "Colons: 6\n",
      "_________________________________\n",
      "ID: 94236\n",
      "Commas: 2\n",
      "Colons: 4\n",
      "_________________________________\n",
      "ID: 94236\n",
      "Commas: 5\n",
      "Colons: 6\n",
      "_________________________________\n",
      "ID: 94236\n",
      "Commas: 3\n",
      "Colons: 5\n",
      "_________________________________\n"
     ]
    },
    {
     "name": "stderr",
     "output_type": "stream",
     "text": [
      "2694it [00:22, 104.54it/s]"
     ]
    },
    {
     "name": "stdout",
     "output_type": "stream",
     "text": [
      "ID: 94253\n",
      "Commas: 25\n",
      "Colons: 10\n",
      "_________________________________\n"
     ]
    },
    {
     "name": "stderr",
     "output_type": "stream",
     "text": [
      "2735it [00:22, 113.34it/s]"
     ]
    },
    {
     "name": "stdout",
     "output_type": "stream",
     "text": [
      "ID: 94301\n",
      "Commas: 23\n",
      "Colons: 6\n",
      "_________________________________\n",
      "ID: 94315\n",
      "Commas: 5\n",
      "Colons: 4\n",
      "_________________________________\n",
      "ID: 94315\n",
      "Commas: 9\n",
      "Colons: 4\n",
      "_________________________________\n",
      "ID: 94315\n",
      "Commas: 11\n",
      "Colons: 4\n",
      "_________________________________\n",
      "ID: 94315\n",
      "Commas: 5\n",
      "Colons: 4\n",
      "_________________________________\n",
      "ID: 94315\n",
      "Commas: 4\n",
      "Colons: 4\n",
      "_________________________________\n",
      "ID: 94315\n",
      "Commas: 5\n",
      "Colons: 4\n",
      "_________________________________\n",
      "ID: 94315\n",
      "Commas: 7\n",
      "Colons: 4\n",
      "_________________________________\n",
      "ID: 94315\n",
      "Commas: 4\n",
      "Colons: 4\n",
      "_________________________________\n",
      "ID: 94315\n",
      "Commas: 4\n",
      "Colons: 4\n",
      "_________________________________\n",
      "ID: 94315\n",
      "Commas: 4\n",
      "Colons: 4\n",
      "_________________________________\n",
      "ID: 94315\n",
      "Commas: 4\n",
      "Colons: 4\n",
      "_________________________________\n",
      "ID: 94315\n",
      "Commas: 5\n",
      "Colons: 4\n",
      "_________________________________\n",
      "ID: 94315\n",
      "Commas: 5\n",
      "Colons: 4\n",
      "_________________________________\n",
      "ID: 94315\n",
      "Commas: 5\n",
      "Colons: 4\n",
      "_________________________________\n",
      "ID: 94315\n",
      "Commas: 5\n",
      "Colons: 4\n",
      "_________________________________\n",
      "ID: 94315\n",
      "Commas: 5\n",
      "Colons: 4\n",
      "_________________________________\n",
      "ID: 94315\n",
      "Commas: 9\n",
      "Colons: 8\n",
      "_________________________________\n",
      "ID: 94315\n",
      "Commas: 5\n",
      "Colons: 4\n",
      "_________________________________\n",
      "ID: 94315\n",
      "Commas: 5\n",
      "Colons: 4\n",
      "_________________________________\n"
     ]
    },
    {
     "name": "stderr",
     "output_type": "stream",
     "text": [
      "2791it [00:23, 127.02it/s]"
     ]
    },
    {
     "name": "stdout",
     "output_type": "stream",
     "text": [
      "ID: 94370\n",
      "Commas: 10\n",
      "Colons: 7\n",
      "_________________________________\n"
     ]
    },
    {
     "name": "stderr",
     "output_type": "stream",
     "text": [
      "2816it [00:23, 110.58it/s]"
     ]
    },
    {
     "name": "stdout",
     "output_type": "stream",
     "text": [
      "ID: 94397\n",
      "Commas: 3\n",
      "Colons: 6\n",
      "_________________________________\n",
      "ID: 94397\n",
      "Commas: 3\n",
      "Colons: 6\n",
      "_________________________________\n",
      "ID: 94397\n",
      "Commas: 9\n",
      "Colons: 7\n",
      "_________________________________\n",
      "ID: 94397\n",
      "Commas: 3\n",
      "Colons: 6\n",
      "_________________________________\n",
      "ID: 94397\n",
      "Commas: 9\n",
      "Colons: 4\n",
      "_________________________________\n",
      "ID: 94397\n",
      "Commas: 1\n",
      "Colons: 6\n",
      "_________________________________\n",
      "ID: 94397\n",
      "Commas: 7\n",
      "Colons: 6\n",
      "_________________________________\n",
      "ID: 94405\n",
      "Commas: 1\n",
      "Colons: 4\n",
      "_________________________________\n",
      "ID: 94405\n",
      "Commas: 1\n",
      "Colons: 4\n",
      "_________________________________\n",
      "ID: 94405\n",
      "Commas: 4\n",
      "Colons: 4\n",
      "_________________________________\n",
      "ID: 94405\n",
      "Commas: 4\n",
      "Colons: 4\n",
      "_________________________________\n",
      "ID: 94405\n",
      "Commas: 2\n",
      "Colons: 4\n",
      "_________________________________\n",
      "ID: 94405\n",
      "Commas: 1\n",
      "Colons: 4\n",
      "_________________________________\n",
      "ID: 94405\n",
      "Commas: 2\n",
      "Colons: 4\n",
      "_________________________________\n",
      "ID: 94405\n",
      "Commas: 1\n",
      "Colons: 4\n",
      "_________________________________\n",
      "ID: 94405\n",
      "Commas: 2\n",
      "Colons: 4\n",
      "_________________________________\n",
      "ID: 94405\n",
      "Commas: 2\n",
      "Colons: 4\n",
      "_________________________________\n",
      "ID: 94405\n",
      "Commas: 1\n",
      "Colons: 4\n",
      "_________________________________\n",
      "ID: 94405\n",
      "Commas: 4\n",
      "Colons: 4\n",
      "_________________________________\n",
      "ID: 94405\n",
      "Commas: 3\n",
      "Colons: 4\n",
      "_________________________________\n",
      "ID: 94405\n",
      "Commas: 2\n",
      "Colons: 4\n",
      "_________________________________\n",
      "ID: 94405\n",
      "Commas: 3\n",
      "Colons: 4\n",
      "_________________________________\n",
      "ID: 94405\n",
      "Commas: 2\n",
      "Colons: 4\n",
      "_________________________________\n",
      "ID: 94405\n",
      "Commas: 1\n",
      "Colons: 4\n",
      "_________________________________\n",
      "ID: 94412\n",
      "Commas: 23\n",
      "Colons: 4\n",
      "_________________________________\n"
     ]
    },
    {
     "name": "stderr",
     "output_type": "stream",
     "text": [
      "2870it [00:24, 118.43it/s]"
     ]
    },
    {
     "name": "stdout",
     "output_type": "stream",
     "text": [
      "ID: 94466\n",
      "Commas: 4\n",
      "Colons: 4\n",
      "_________________________________\n"
     ]
    },
    {
     "name": "stderr",
     "output_type": "stream",
     "text": [
      "2898it [00:24, 125.97it/s]"
     ]
    },
    {
     "name": "stdout",
     "output_type": "stream",
     "text": [
      "ID: 94512\n",
      "Commas: 14\n",
      "Colons: 7\n",
      "_________________________________\n",
      "ID: 94512\n",
      "Commas: 24\n",
      "Colons: 7\n",
      "_________________________________\n"
     ]
    },
    {
     "name": "stderr",
     "output_type": "stream",
     "text": [
      "2938it [00:24, 110.05it/s]"
     ]
    },
    {
     "name": "stdout",
     "output_type": "stream",
     "text": [
      "ID: 94577\n",
      "Commas: 21\n",
      "Colons: 10\n",
      "_________________________________\n",
      "ID: 94579\n",
      "Commas: 2\n",
      "Colons: 4\n",
      "_________________________________\n"
     ]
    },
    {
     "name": "stderr",
     "output_type": "stream",
     "text": [
      "2977it [00:24, 118.20it/s]"
     ]
    },
    {
     "name": "stdout",
     "output_type": "stream",
     "text": [
      "ID: 94612\n",
      "Commas: 19\n",
      "Colons: 1\n",
      "_________________________________\n"
     ]
    },
    {
     "name": "stderr",
     "output_type": "stream",
     "text": [
      "3016it [00:25, 120.15it/s]"
     ]
    },
    {
     "name": "stdout",
     "output_type": "stream",
     "text": [
      "ID: 94660\n",
      "Commas: 18\n",
      "Colons: 2\n",
      "_________________________________\n",
      "ID: 94660\n",
      "Commas: 27\n",
      "Colons: 7\n",
      "_________________________________\n"
     ]
    },
    {
     "name": "stderr",
     "output_type": "stream",
     "text": [
      "3042it [00:25, 115.57it/s]"
     ]
    },
    {
     "name": "stdout",
     "output_type": "stream",
     "text": [
      "ID: 94713\n",
      "Commas: 2\n",
      "Colons: 4\n",
      "_________________________________\n",
      "ID: 94713\n",
      "Commas: 2\n",
      "Colons: 4\n",
      "_________________________________\n",
      "ID: 94713\n",
      "Commas: 5\n",
      "Colons: 4\n",
      "_________________________________\n",
      "ID: 94718\n",
      "Commas: 10\n",
      "Colons: 4\n",
      "_________________________________\n"
     ]
    },
    {
     "name": "stderr",
     "output_type": "stream",
     "text": [
      "3082it [00:25, 115.05it/s]"
     ]
    },
    {
     "name": "stdout",
     "output_type": "stream",
     "text": [
      "ID: 94752\n",
      "Commas: 19\n",
      "Colons: 4\n",
      "_________________________________\n"
     ]
    },
    {
     "name": "stderr",
     "output_type": "stream",
     "text": [
      "3143it [00:26, 134.72it/s]"
     ]
    },
    {
     "name": "stdout",
     "output_type": "stream",
     "text": [
      "ID: 94851\n",
      "Commas: 20\n",
      "Colons: 6\n",
      "_________________________________\n",
      "ID: 94866\n",
      "Commas: 17\n",
      "Colons: 1\n",
      "_________________________________\n"
     ]
    },
    {
     "name": "stderr",
     "output_type": "stream",
     "text": [
      "3172it [00:26, 132.59it/s]"
     ]
    },
    {
     "name": "stdout",
     "output_type": "stream",
     "text": [
      "ID: 94892\n",
      "Commas: 23\n",
      "Colons: 8\n",
      "_________________________________\n"
     ]
    },
    {
     "name": "stderr",
     "output_type": "stream",
     "text": [
      "3201it [00:26, 137.79it/s]"
     ]
    },
    {
     "name": "stdout",
     "output_type": "stream",
     "text": [
      "ID: 94928\n",
      "Commas: 14\n",
      "Colons: 5\n",
      "_________________________________\n",
      "ID: 94954\n",
      "Commas: 2\n",
      "Colons: 5\n",
      "_________________________________\n",
      "ID: 94954\n",
      "Commas: 5\n",
      "Colons: 5\n",
      "_________________________________\n",
      "ID: 94954\n",
      "Commas: 1\n",
      "Colons: 5\n",
      "_________________________________\n",
      "ID: 94954\n",
      "Commas: 8\n",
      "Colons: 5\n",
      "_________________________________\n",
      "ID: 94954\n",
      "Commas: 7\n",
      "Colons: 5\n",
      "_________________________________\n",
      "ID: 94954\n",
      "Commas: 2\n",
      "Colons: 5\n",
      "_________________________________\n",
      "ID: 94954\n",
      "Commas: 1\n",
      "Colons: 5\n",
      "_________________________________\n",
      "ID: 94954\n",
      "Commas: 1\n",
      "Colons: 5\n",
      "_________________________________\n",
      "ID: 94954\n",
      "Commas: 1\n",
      "Colons: 5\n",
      "_________________________________\n"
     ]
    },
    {
     "name": "stderr",
     "output_type": "stream",
     "text": [
      "3277it [00:27, 143.07it/s]"
     ]
    },
    {
     "name": "stdout",
     "output_type": "stream",
     "text": [
      "ID: 95034\n",
      "Commas: 4\n",
      "Colons: 5\n",
      "_________________________________\n",
      "ID: 95034\n",
      "Commas: 2\n",
      "Colons: 4\n",
      "_________________________________\n",
      "ID: 95034\n",
      "Commas: 9\n",
      "Colons: 5\n",
      "_________________________________\n",
      "ID: 95034\n",
      "Commas: 5\n",
      "Colons: 4\n",
      "_________________________________\n",
      "ID: 95034\n",
      "Commas: 1\n",
      "Colons: 4\n",
      "_________________________________\n",
      "ID: 95042\n",
      "Commas: 18\n",
      "Colons: 2\n",
      "_________________________________\n"
     ]
    },
    {
     "name": "stderr",
     "output_type": "stream",
     "text": [
      "3307it [00:27, 129.70it/s]"
     ]
    },
    {
     "name": "stdout",
     "output_type": "stream",
     "text": [
      "ID: 95081\n",
      "Commas: 31\n",
      "Colons: 3\n",
      "_________________________________\n"
     ]
    },
    {
     "name": "stderr",
     "output_type": "stream",
     "text": [
      "3446it [00:28, 143.96it/s]"
     ]
    },
    {
     "name": "stdout",
     "output_type": "stream",
     "text": [
      "ID: 95247\n",
      "Commas: 18\n",
      "Colons: 5\n",
      "_________________________________\n"
     ]
    },
    {
     "name": "stderr",
     "output_type": "stream",
     "text": [
      "3476it [00:28, 137.87it/s]"
     ]
    },
    {
     "name": "stdout",
     "output_type": "stream",
     "text": [
      "ID: 95297\n",
      "Commas: 15\n",
      "Colons: 4\n",
      "_________________________________\n"
     ]
    },
    {
     "name": "stderr",
     "output_type": "stream",
     "text": [
      "3576it [00:29, 132.86it/s]"
     ]
    },
    {
     "name": "stdout",
     "output_type": "stream",
     "text": [
      "ID: 95460\n",
      "Commas: 8\n",
      "Colons: 4\n",
      "_________________________________\n",
      "ID: 95470\n",
      "Commas: 12\n",
      "Colons: 4\n",
      "_________________________________\n",
      "ID: 95470\n",
      "Commas: 8\n",
      "Colons: 4\n",
      "_________________________________\n",
      "ID: 95470\n",
      "Commas: 10\n",
      "Colons: 4\n",
      "_________________________________\n",
      "ID: 95470\n",
      "Commas: 10\n",
      "Colons: 4\n",
      "_________________________________\n",
      "ID: 95470\n",
      "Commas: 8\n",
      "Colons: 4\n",
      "_________________________________\n",
      "ID: 95470\n",
      "Commas: 8\n",
      "Colons: 4\n",
      "_________________________________\n",
      "ID: 95470\n",
      "Commas: 12\n",
      "Colons: 4\n",
      "_________________________________\n",
      "ID: 95470\n",
      "Commas: 7\n",
      "Colons: 4\n",
      "_________________________________\n",
      "ID: 95470\n",
      "Commas: 9\n",
      "Colons: 4\n",
      "_________________________________\n",
      "ID: 95470\n",
      "Commas: 9\n",
      "Colons: 4\n",
      "_________________________________\n"
     ]
    },
    {
     "name": "stderr",
     "output_type": "stream",
     "text": [
      "3602it [00:29, 109.39it/s]"
     ]
    },
    {
     "name": "stdout",
     "output_type": "stream",
     "text": [
      "ID: 95495\n",
      "Commas: 14\n",
      "Colons: 4\n",
      "_________________________________\n",
      "ID: 95495\n",
      "Commas: 27\n",
      "Colons: 8\n",
      "_________________________________\n",
      "ID: 95495\n",
      "Commas: 13\n",
      "Colons: 6\n",
      "_________________________________\n",
      "ID: 95495\n",
      "Commas: 31\n",
      "Colons: 2\n",
      "_________________________________\n",
      "ID: 95495\n",
      "Commas: 30\n",
      "Colons: 6\n",
      "_________________________________\n"
     ]
    },
    {
     "name": "stderr",
     "output_type": "stream",
     "text": [
      "3699it [00:30, 119.60it/s]"
     ]
    },
    {
     "name": "stdout",
     "output_type": "stream",
     "text": [
      "ID: 95617\n",
      "Commas: 2\n",
      "Colons: 4\n",
      "_________________________________\n",
      "ID: 95617\n",
      "Commas: 2\n",
      "Colons: 4\n",
      "_________________________________\n",
      "ID: 95617\n",
      "Commas: 7\n",
      "Colons: 8\n",
      "_________________________________\n",
      "ID: 95617\n",
      "Commas: 7\n",
      "Colons: 6\n",
      "_________________________________\n",
      "ID: 95617\n",
      "Commas: 6\n",
      "Colons: 5\n",
      "_________________________________\n",
      "ID: 95617\n",
      "Commas: 11\n",
      "Colons: 9\n",
      "_________________________________\n"
     ]
    },
    {
     "name": "stderr",
     "output_type": "stream",
     "text": [
      "3788it [00:31, 127.72it/s]"
     ]
    },
    {
     "name": "stdout",
     "output_type": "stream",
     "text": [
      "ID: 95729\n",
      "Commas: 0\n",
      "Colons: 4\n",
      "_________________________________\n",
      "ID: 95729\n",
      "Commas: 1\n",
      "Colons: 4\n",
      "_________________________________\n",
      "ID: 95729\n",
      "Commas: 0\n",
      "Colons: 4\n",
      "_________________________________\n",
      "ID: 95729\n",
      "Commas: 0\n",
      "Colons: 4\n",
      "_________________________________\n",
      "ID: 95729\n",
      "Commas: 0\n",
      "Colons: 4\n",
      "_________________________________\n",
      "ID: 95729\n",
      "Commas: 0\n",
      "Colons: 4\n",
      "_________________________________\n",
      "ID: 95729\n",
      "Commas: 0\n",
      "Colons: 4\n",
      "_________________________________\n",
      "ID: 95729\n",
      "Commas: 0\n",
      "Colons: 4\n",
      "_________________________________\n",
      "ID: 95729\n",
      "Commas: 0\n",
      "Colons: 4\n",
      "_________________________________\n",
      "ID: 95729\n",
      "Commas: 2\n",
      "Colons: 4\n",
      "_________________________________\n"
     ]
    },
    {
     "name": "stderr",
     "output_type": "stream",
     "text": [
      "3832it [00:31, 129.79it/s]"
     ]
    },
    {
     "name": "stdout",
     "output_type": "stream",
     "text": [
      "ID: 95779\n",
      "Commas: 29\n",
      "Colons: 6\n",
      "_________________________________\n",
      "ID: 95823\n",
      "Commas: 21\n",
      "Colons: 1\n",
      "_________________________________\n"
     ]
    },
    {
     "name": "stderr",
     "output_type": "stream",
     "text": [
      "3904it [00:32, 134.45it/s]"
     ]
    },
    {
     "name": "stdout",
     "output_type": "stream",
     "text": [
      "ID: 95880\n",
      "Commas: 26\n",
      "Colons: 8\n",
      "_________________________________\n"
     ]
    },
    {
     "name": "stderr",
     "output_type": "stream",
     "text": [
      "4192it [00:34, 125.41it/s]"
     ]
    },
    {
     "name": "stdout",
     "output_type": "stream",
     "text": [
      "ID: 96276\n",
      "Commas: 4\n",
      "Colons: 5\n",
      "_________________________________\n",
      "ID: 96290\n",
      "Commas: 63\n",
      "Colons: 13\n",
      "_________________________________\n",
      "ID: 96290\n",
      "Commas: 64\n",
      "Colons: 6\n",
      "_________________________________\n"
     ]
    },
    {
     "name": "stderr",
     "output_type": "stream",
     "text": [
      "4424it [00:36, 122.36it/s]"
     ]
    },
    {
     "name": "stdout",
     "output_type": "stream",
     "text": [
      "136\n"
     ]
    },
    {
     "name": "stderr",
     "output_type": "stream",
     "text": [
      "\n"
     ]
    }
   ],
   "source": [
    "counter = 0\n",
    "for index, row in tqdm(df.iterrows()):\n",
    "    article = row.text\n",
    "    sentences = sentenize(article)\n",
    "    for sentence in sentences:\n",
    "        comma_counter = sentence.count(\",\")\n",
    "        #word_counter = len(nltk.word_tokenize(sentence))\n",
    "        colon_counter = sentence.count(\":\")\n",
    "        if comma_counter > 15 or colon_counter > 3:\n",
    "            increase_counter = True\n",
    "            #counter += 1\n",
    "            print(\"ID: {}\".format(row.id))      \n",
    "            print(\"Commas: {}\".format(comma_counter))\n",
    "            #print(\"Words: {}\".format(word_counter))\n",
    "            print(\"Colons: {}\".format(colon_counter))\n",
    "            #print(sentence)\n",
    "            print(\"_________________________________\")\n",
    "    \n",
    "    if increase_counter:\n",
    "        counter += 1\n",
    "    increase_counter = False\n",
    "print(counter)"
   ]
  },
  {
   "cell_type": "code",
   "execution_count": 439,
   "metadata": {
    "scrolled": true
   },
   "outputs": [
    {
     "name": "stderr",
     "output_type": "stream",
     "text": [
      "2077it [00:00, 10470.37it/s]"
     ]
    },
    {
     "name": "stdout",
     "output_type": "stream",
     "text": [
      "ID: 92185\n",
      "Long Story Short #4: The state of #GlobalDevWomen Check out the video of this episode on our Facebook page. Want to listen to this episode on the go? Listen and subscribe: via iTunes | via SoundCloud Guest: Kate Warren, Devex Executive Vice President and careers guru Host: Kate Midden Wathen, Devex Engagement Editor Many global development organizations champion gender equality around the world, but deep inequalities persist within the industry itself. Wage gaps, unconscious biases, and organizational practices can keep women from getting to the top — or can keep them out of the development workplace entirely. While these issues aren’t unique to development, the particular requirements of development jobs such as international travel, extreme flexibility, and surprise deployments come with challenges of their own. How can development organizations — and professionals — make the industry more equitable for women? Additional reading: • Opinion: Is the USAID 1420 biodata form contributing to the gender pay gap? • This video is challenging biases in recruitment • These tech platforms are helping employers tackle inequality • Kate Gilmore: 3 tips for women on reaching the top in development • How mentoring can help women get to the top in development Watch more episodes of Long Story Short: Long Story Short #1: 5 stories to watch in 2018 Long Story Short #2: A new era for the World Bank? Long Story Short #3: What the Oxfam scandal means for the aid industry\n",
      "Active Labels:\n",
      "CE: Careers & Education\n",
      "_________________________________\n",
      "ID: 92254\n",
      "Long Story Short #1: 5 stories to watch in 2018 Check out the video of this episode on our Facebook page. Want to listen to this episode on the go? Listen and subscribe: via iTunes | via SoundCloud Guest: Paul Harris, Devex Managing Editor Host: Kate Midden Wathen, Devex Engagement Editor My headline The future of development financing. The securitization of aid. The unprecedented scale of humanitarian crises. Innovation in development and humanitarian assistance. #AidToo. In the inaugural episode of Long Story Short — the global development news show — Managing Editor Paul Harris and Engagement Editor Kate Wathen discussed the top stories to watch in 2018. Additional reading: • A development finance glossary • The Rise of Chinese Aid series • What you need to know about the EU’s new ‘aid for trade’ policies • UN humanitarian chief Lowcock says new approach needed for system ‘under strain’ • #AidToo: How development organizations can respond to sexual violence Watch more episodes of Long Story Short: Long Story Short #2: A new era for the World Bank? Long Story Short #3: What the Oxfam scandal means for the aid industry Long Story Short #4: The State of #GlobalDevWomen Long Story Short #5: The cost of desensitization Long Story Short #6: The \"America First\" development agenda Long Story Short #7: Inside the Commission on the Status of Women Long Story Short #8: The do's and don'ts of global development storytelling Long Story Short #9: UK tabloids are at war with foreign aid. Are they winning? Long Story Short #10: What NGOs should do when donations become disasters Long Story Short #11: Power, proximity and development donorship Long Story Short #12: What the World Bank Spring Meetings mean for development\n",
      "Active Labels:\n",
      "ED: Economic Development\n",
      "FU: Funding\n",
      "HA: Humanitarian Aid\n",
      "HR: Democracy, Human Rights & Governance\n",
      "II: Innovation & ICT\n",
      "TP: Trade & Policy\n",
      "_________________________________\n",
      "ID: 92261\n",
      "Long Story Short #2: A new era for the World Bank? Check out the video of this episode on our Facebook page. Want to listen to this episode on the go? Listen and subscribe: via iTunes | via SoundCloud Guest: Michael Igoe, Devex Senior Reporter Host: Kate Midden Wathen, Devex Engagement Editor World Bank President Jim Yong Kim has a radical vision for the future of the institution. In a pivot toward private capital, some are asking if a model that works against current incentives will be successful — and whether the bank’s workforce is ready for these changes. Can President Kim achieve his vision for private sector financing? What will it take — and what stands in his way? Additional reading: • Jim Yong Kim: Here’s how the World Bank is maximizing finance for development • Natalie Bridgeman Fields: Jim Kim’s World Bank is a setup for the poor • What’s at stake in the World Bank’s quest for a capital increase? • Smart Money: The World Bank looks to a future of creative financing • Jim Kim thinks more donors should leverage their funds Watch more episodes of Long Story Short: Long Story Short #1: 5 stories to watch in 2018 Long Story Short #3: What the Oxfam scandal means for the aid industry Long Story Short #4: The State of #GlobalDevWomen Long Story Short #5: The cost of desensitization Long Story Short #6: The \"America First\" development agenda Long Story Short #7: Inside the Commission on the Status of Women Long Story Short #8: The do's and don'ts of global development storytelling\n",
      "Active Labels:\n",
      "BF: Banking & Finance\n",
      "FU: Funding\n",
      "ID: Institutional Development\n",
      "_________________________________\n",
      "ID: 92272\n",
      "Long Story Short #3: What the Oxfam scandal means for the aid industry Check out the video of this episode on our Facebook page. Want to listen to this episode on the go? Listen and subscribe: via iTunes | via SoundCloud Guests: Jessica Abrahams, Devex Associate Editor, and Molly Anders, Devex U.K. Correspondent Recent revelations about the 2011 sexual exploitation by high-level Oxfam officials who went on to continue careers in humanitarian assistance have left the aid community wondering what went wrong. Advocates have pointed to longstanding issues, such as ill-equipped human resource systems and legal loopholes as contributing factors. Meanwhile, high-level officials, including DFID chief Penny Mordaunt have made strong calls to action on improving safeguarding in the sector — and increasing accountability for development partners. Does the Oxfam scandal represent a moment of reckoning for the aid industry — and what change could come as a result? Additional reading: • Oxfam announces reforms, due to meet UK aid chief after sexual misconduct scandal • Oxfam sexual abuse scandal: Are the aid sector's HR systems failing? • Accountability in the aid sector: Humanitarians can no longer be above the law • Exclusive: EU ready to tighten NGO funding rules after sex scandals • UK aid chiefs agree safeguarding action plan as DFID uncovers new incidents Watch more episodes of Long Story Short: Long Story Short #1: 5 stories to watch in 2018 Long Story Short #2: A new era for the World Bank? Long Story Short #4: The State of #GlobalDevWomen Long Story Short #5: The cost of desensitization Long Story Short #6: The \"America First\" development agenda Long Story Short #7: Inside the Commission on the Status of Women Long Story Short #8: The do's and don'ts of global development storytelling\n",
      "Active Labels:\n",
      "HA: Humanitarian Aid\n",
      "HR: Democracy, Human Rights & Governance\n",
      "ID: Institutional Development\n",
      "_________________________________\n",
      "ID: 92273\n",
      "Long Story Short #5: The cost of desensitization Check out the video of this episode on our Facebook page. Want to listen to this episode on the go? Listen and subscribe: via iTunes | via SoundCloud Guest: Amy Lieberman, Devex New York Correspondent Host: Kate Midden Wathen, Devex Engagement Editor Humanitarian crises are growing in size and scope — but people are starting to tune out. For ongoing crises in countries such as Yemen, the Democratic Republic of Congo, and Syria, the cost of this trend is steep, affecting critical aspects of response such as aid worker security, access, and coverage. What is the impact of becoming desensitized, and what role should individuals, organizations, and the media do in a saturated news climate? Additional reading: • Ceasefire set for eastern Ghouta, but humanitarian solution still out of reach • UNICEF starts 2018 with its largest appeal yet for humanitarian action • Humanitarian sector in DRC not able to access many of the affected populations • Funding shortfalls stunt humanitarian response in DRC • CARE reveals 2017's most underreported humanitarian crises — so how can we shape media coverage? Watch more episodes of Long Story Short: Long Story Short #1: 5 stories to watch in 2018 Long Story Short #2: A new era for the World Bank? Long Story Short #3: What the Oxfam scandal means for the aid industry Long Story Short #4: The State of #GlobalDevWomen\n",
      "Active Labels:\n",
      "HA: Humanitarian Aid\n",
      "_________________________________\n",
      "ID: 92346\n",
      "Long Story Short #6: The 'America First' development agenda Check out the video of this episode on our Facebook page. Want to listen to this episode on the go? Listen and subscribe: via iTunes | via SoundCloud Guests: Adva Saldinger, Devex Associate Editor, and Michael Igoe, Devex Senior Reporter A year into the Trump administration, we've seen budget cuts, job cancellations, and rumblings of a new U.S. International Development Finance Institution. What exactly would those changes mean for global development? And what’s in store for the second year of the Trump administration? Associate Editor Adva Saldinger and Senior Reporter Michael Igoe take you inside the \"America First\" development agenda. Additional reading: • US aid policy to watch in 2018 • Bipartisan bill gives US development finance a boost • Exclusive: New US DFI expected to get strong White House support • Support for new US development finance bill, even as some details are questioned • What the US National Security Strategy says about global development • Power Africa 2.0: A look at the new strategy Watch more episodes of Long Story Short: Long Story Short #1: 5 stories to watch in 2018 Long Story Short #2: A new era for the World Bank? Long Story Short #3: What the Oxfam scandal means for the aid industry Long Story Short #4: The State of #GlobalDevWomen Long Story Short #5: The cost of desensitization\n",
      "Active Labels:\n",
      "FU: Funding\n",
      "HA: Humanitarian Aid\n",
      "HR: Democracy, Human Rights & Governance\n",
      "TP: Trade & Policy\n",
      "_________________________________\n",
      "ID: 92408\n",
      "Long Story Short #7: Inside the Commission on the Status of Women Check out the video of this episode on our Facebook page. Want to listen to this episode on the go? Listen and subscribe: via iTunes | via SoundCloud Guest: Katja Iverson, Women Deliver President and CEO Host: Amy Lieberman, Devex New York Correspondent The U.N.’s Commission on the Status of Women presents an opportunity for actors from across the globe to discuss priorities when it comes to gender equality and the empowerment of women. Women Deliver CEO Katja Iverson joins New York Correspondent Amy Lieberman live from the U.N. They discuss what a typical day at the CSW looks like, and what the CSW means for priorities such as family planning and the future of the #AidToo movement. Additional reading: • 'Women's empowerment:' Ambiguous term or effective call to action? • Progress on gender equality 'unacceptably slow:' UN Women • US 'regressive' stance at CSW dominates UN's largest meeting on women • Helen Clark on #MeToo, #AidToo, and women empowerment • What it will take to enter a new era of women's economic empowerment Watch more episodes of Long Story Short: Long Story Short #1: 5 stories to watch in 2018 Long Story Short #2: A new era for the World Bank? Long Story Short #3: What the Oxfam scandal means for the aid industry Long Story Short #4: The State of #GlobalDevWomen Long Story Short #5: The cost of desensitization Long Story Short #6: The \"America First\" development agenda\n",
      "Active Labels:\n",
      "ED: Economic Development\n",
      "ID: Institutional Development\n",
      "SD: Social-Inclusive Development\n",
      "_________________________________\n",
      "ID: 92409\n",
      "Long Story Short #8: The do's and don'ts of global development storytelling Check out the video of this episode on our Facebook page. Want to listen to this episode on the go? Listen and subscribe: via iTunes | via SoundCloud Guest: Carine Umuhumuza, Devex Associate Director of Communications Host: Kate Wathen, Devex Engagement Editor Development communicators have a lot to balance — stopping the scroll, trying to go viral, and testing new strategies, all while trying to convey complex and sensitive stories. When it comes to success in #globaldev storytelling, there are a lot of do's, and a lot of don'ts. In this episode, Devex Associate Director of Communications Carine Umuhumuza shares her tips for success and examples of brands and campaigns that are creating engagement-worthy content in the era of social media. Additional reading: • On Message: Promoting progress in the social media era • 8 social media tips to start off 2018 • How to start your executive on social media • What does it take to create better representation for women in humanitarian media? • Q&A: How to tackle fake news\n",
      "Active Labels:\n",
      "MC: Media And Communications\n",
      "SD: Social-Inclusive Development\n",
      "_________________________________\n",
      "ID: 92453\n",
      "Long Story Short #9: UK tabloids are at war with foreign aid. Are they winning? Check out the video of this episode on our Facebook page. Want to listen to this episode on the go? Listen and subscribe: via iTunes | via SoundCloud Guests: Molly Anders, Devex U.K. Correspondent Host: Jessica Abrahams, Devex Associate Editor Headlines in U.K. tabloid media often paint a stark picture of aid — and it's having a real effect on programs and operations. \"British Foreign Aid to the Most Corrupt Nations Rises by 10 Percent.\" \"Britain's Foreign Aid Makes the Poor Dependent.\" \"Millions of Pounds of Foreign Aid Spent on Silly Projects.\" Devex Associate Editor Jessica Abrahams chats with U.K. Correspondent Molly Anders about her experience reporting on the influence of U.K. tabloid media on foreign aid. Additional reading: • UK media and the great aid debate • Bad news: How does media coverage affect public attitudes toward aid? • More bad news: Does the media really impact how the aid sector works? • Q&A: How to tackle fake news\n",
      "Active Labels:\n",
      "HA: Humanitarian Aid\n",
      "MC: Media And Communications\n",
      "_________________________________\n",
      "ID: 92483\n",
      "Long Story Short #10: What NGOs should do when donations become disasters Check out the video of this episode on our Facebook page. Want to listen to this episode on the go? Listen and subscribe: via iTunes | via SoundCloud Guests: Juanita Rilling, humanitarian adviser and former director of USAID Center for International Disaster Information Host: Kate Wathen, Devex engagement editor When a major disaster unfolds, people around the world gather donations to send to survivors. But acts of compassion can quickly turn into a logistical nightmare for NGOs and disaster responders working to support survivors on the ground. Humanitarian adviser Juanita Rilling joins Long Story Short to explain what disaster relief organizations need to know about handling these donations — from the tax implications to preventing them in the first place. Additional reading: • Opinion: Avoiding a second disaster in Sierra Leone • CBS: When disaster relief brings anything but relief • Center for International Disaster Information: Donations toolkit for Organizations\n",
      "Active Labels:\n",
      "HA: Humanitarian Aid\n",
      "MC: Media And Communications\n",
      "_________________________________\n",
      "ID: 92531\n",
      "Long Story Short #11: Power, proximity and development donorship Check out the video of this episode on our Facebook page. Want to listen to this episode on the go? Listen and subscribe: via iTunes | via SoundCloud Guests: Angeline Murimirwa, Executive Director of Camfed Africa, and Catherine Cheney, Devex Senior Reporter Host: Kate Wathen, Devex engagement editor This week, a high-energy gathering of social entrepreneurs, investors, and activists descended upon Oxford to discuss how to tackle some of the world’s most pressing issues. This year's theme — the power of proximity — explored how becoming proximate to people and challenges can bring about understanding, empathy, and innovative solutions. In the midst of the meetings, workshops, and networking, we took a few minutes to take our audience inside the Skoll World Forum and gain perspective from Camfed Africa Executive Director Angeline Murimirwa about the meaning of proximity and power — and how they translate into development donorship. Additional reading: • What are the secrets to nonprofit startup success? • Obama Foundation CEO on how NGOs can push back on populism • Beyond #MeToo: Female leaders talk about what needs to happen next • New $250M Audacious Project from TED announces first recipients\n",
      "Active Labels:\n",
      "HA: Humanitarian Aid\n",
      "SD: Social-Inclusive Development\n",
      "_________________________________\n",
      "ID: 92583\n",
      "Long Story Short #12: What the World Bank Spring Meetings mean for development Check out the video of this episode on our Facebook page. Want to listen to this episode on the go? Listen and subscribe: via iTunes | via SoundCloud Guests: Michael Igoe, Devex Senior Reporter and Sophie Edwards, Devex Reporter Host: Kate Midden Wathen, Devex Engagement Editor With the World Bank Spring Meetings in full swing, several high-priority themes have emerged: negotiations for a World Bank capital increase have brought about questions from shareholders about the bank’s employee salaries; shifting institutional priorities have sharpened the focus on fragile states; the first set of grants for Women Entrepreneurs Finance Initiative — more casually known as We-Fi, or the “Ivanka Fund” — have given more indication of the controversial fund’s direction. Live from the World Bank, reporters Michael Igoe and Sophie Edwards delve deeper, giving the development community the biggest stories to look out for the rest of the Spring Meetings. Additional reading: • What to expect at the World Bank Spring Meetings • Trump administration takes aim at World Bank salaries • Q&A: The World Bank's pivot to fragile states • Tackling corruption: 6 takeaways from the World Bank Spring Meetings • Concerns raised about World Bank support for private education\n",
      "Active Labels:\n",
      "BF: Banking & Finance\n",
      "FU: Funding\n",
      "ID: Institutional Development\n",
      "_________________________________\n",
      "ID: 92696\n",
      "Long Story Short #13: What's in store for Asia's development? Check out the video of this episode on our Facebook page. Want to listen to this episode on the go? Listen and subscribe: iTunes | SoundCloud Guest: Jenny Lei Ravelo, Devex reporter Host: Kate Midden Wathen, Devex engagement editor The Asian Development Bank annual meetings are underway — and in its 51st year, ADB is strategizing for the future. As leaders gather in Manila, there’s a lot to discuss — from the role of Chinese aid, to how Asia is planning for an aging population. In this episode, engagement editor Kate Midden Wathen and reporter Jenny Lei Ravelo take you inside the ADB annual meetings’ top stories. Additional reading: • ADB annual meeting preview: What we're looking into • Q&A: An in-depth look at ADB's development effectiveness review • How ADB is working to get 'both engines firing' on regional cooperation • Q&A: AIIB CFO on what to expect from the new bank\n",
      "Active Labels:\n",
      "BF: Banking & Finance\n",
      "II: Innovation & ICT\n",
      "_________________________________\n",
      "ID: 92739\n",
      "Long Story Short #14: Government crackdowns and the future of the Open Society Foundation Check out the video of this episode on our Facebook page. Want to listen to this episode on the go? Listen and subscribe: iTunes | SoundCloud Guest: Michael Igoe, Devex senior reporter Host: Kate Midden, Devex engagement editor As the space for civil society’s work closes, what’s in store for one of the world’s largest philanthropies — the Open Society Foundation — and its grantees? In this episode, Devex Engagement Editor Kate Midden and Senior Reporter Michael Igoe discuss how blacklists, regulatory restrictions, and dismantling systems are contributing to a shrinking civil space — and how an organization committed to fostering democratic societies is looking to respond. Additional reading: • Q&A: How Hungary dismantled its refugee asylum system • As Pakistan cracks down on NGOs, civil society questions next steps • 'Massive anxiety' as Turkey cracks down on international NGOs • Legal limbo leaves Kenya civil society vulnerable to targeting\n",
      "Active Labels:\n",
      "HR: Democracy, Human Rights & Governance\n",
      "_________________________________\n",
      "ID: 92810\n",
      "Long Story Short #15: The global response to Venezuela's humanitarian crisis Check out the video of this episode on our Facebook page. Want to listen to this episode on the go? Listen and subscribe: iTunes Guest: Teresa Welsh, Devex reporter Host: Kate Midden, Devex engagement editor The situation in Venezuela has been deteriorating rapidly. Almost 90 percent of Venezuelans are living below the poverty line, and 50,000 Venezuelans cross the border to Colombia each day. The IMF projects inflation will reach more than 13,000 percent this year. Devex Engagement Editor Kate Midden and Reporter Teresa Welsh discuss how Venezuela reached this point, and the complexities for local, regional, and global entities responding to the crisis. Additional reading: • Maduro victory in Venezuela leaves aid organizations bracing for more refugees • US announces additional $18.5M for Venezuela response while calling for regime change • Aid in Colombia isn't a magnet for fleeing Venezuelans • Colombia aid groups under strain as Venezuela crisis spills over\n",
      "Active Labels:\n",
      "HA: Humanitarian Aid\n",
      "HR: Democracy, Human Rights & Governance\n",
      "_________________________________\n",
      "ID: 92836\n",
      "Long Story Short #16: Inside the World Health Assembly Check out the video of this episode on our Facebook page. Want to listen to this episode on the go? Listen and subscribe: iTunes | SoundCloud Guests: Loyce Pace, Global Health Council president and executive director and Jenny Lei Ravelo, Devex senior reporter Host: Kate Midden, Devex engagement editor Civil society’s new role. The journey toward universal health coverage. Ebola response. There is a lot being discussed — and a lot at stake — at the 71st World Health Assembly. Live from Geneva, GHC President and Executive Director Loyce Pace and Devex Senior Reporter Jenny Lei Ravelo take us through the top stories of one of the largest global health gatherings in the world. Additional reading from the meetings: • What you need to know about the 71st WHA • World Health Assembly kicks off with focus on health workers, universal coverage • Politics and health clash as Taiwan's bid for observer status falls at WHA • Q&A: Sally Davies on the rising threat of antimicrobial resistance • Governments step up the snakebite battle\n",
      "Active Labels:\n",
      "GH: Global Health\n",
      "HA: Humanitarian Aid\n",
      "_________________________________\n",
      "ID: 92866\n",
      "Long Story Short #17: 15 years of PEPFAR Check out the video of this episode on our Facebook page. Want to listen to this episode on the go? Listen and subscribe: iTunes | SoundCloud Guests: Adva Saldinger, Devex associate editor Host: Kate Midden, Devex engagement editor In 2003, the United States launched the President’s Emergency Plan for AIDS Relief — the world’s largest investment in a single disease. 15 years later, what has PEPFAR accomplished and — in the face of changing demographics, threats to funding, and a new strategy — what’s in store for the battle against HIV/AIDS? As part of an ongoing look at the legacy of PEPFAR, Engagement Editor Kate Midden and Associate Editor Adva Saldinger discuss the origins of the historical program — and how the program may evolve into the future. Additional reading: • 15 years later, PEPFAR is still at war with a global epidemic • World at risk of losing control of HIV and AIDS epidemic, PEPFAR architect says • Is PEPFAR a Trump budget winner? Not so fast… • Amb. Birx on PEPFAR in the Trump era • PEPFAR to 'accelerate' implementation in 13 countries under new strategy\n",
      "Active Labels:\n",
      "GH: Global Health\n",
      "TP: Trade & Policy\n",
      "_________________________________\n",
      "ID: 92897\n",
      "Long Story Short #18: What the European Development Days mean for development — and women This week’s episode is audio-only. Listen and subscribe: iTunes | SoundCloud Guests: Vince Chadwick, Devex reporter Host: Kate Midden, Devex engagement editor 8,000 professionals gathered in Brussels this week for the European Development Days. This year’s theme was gender equality, with conversations surrounding the fundamental inequality that underpins discrimination, violence, and imbalances: the inequality of power. In this week’s special edition episode, Devex reporter Vince Chadwick weighs in on whether the European Development Days matter — and what might come of them. We also hear from advocates and leaders, including comedienne Nidhi Goyal and Oxfam Executive Director Winnie Byanyima on the #MeToo movement, and European Investment Bank Head of Strategy Maria Shaw-Barragan on EIB’s gender strategy. Additional reading: • Do the European Development Days matter? • EU greenlights Oxfam but poised to suspend others over safeguarding concerns • Opinion: EU can stop the global rollback of girls' rights\n",
      "Active Labels:\n",
      "HR: Democracy, Human Rights & Governance\n",
      "ID: Institutional Development\n",
      "SD: Social-Inclusive Development\n",
      "_________________________________\n",
      "ID: 92985\n",
      "Long Story Short #19: Inside the Ebola response Check out the video of this episode on our Facebook page. Want to listen to this episode on the go? Listen and subscribe: iTunes | SoundCloud Guest: Christin Roby, Devex West Africa correspondent Host: Kate Midden, Devex engagement editor Last month, just four years after the 2014 Ebola epidemic took 11,000 lives across West Africa, the World Health Organization announced a new outbreak in the Democratic Republic of the Congo. The confirmed cases in DRC drew international concern — and a speedy response from the DRC government and its international partners. In this episode, Devex Engagement Editor Kate Midden and West Africa Correspondent Christin Roby discuss the Ebola response, ongoing challenges, and how the current situation compares to past outbreaks. Additional reading: • Aid groups respond rapidly in DRC as Ebola cases confirmed in major city • DRC Ebola response focuses on awareness campaigns, border controls • DRC bordering countries begin Ebola preparedness training • Ebola outbreak in DRC on 'epidemiological knife-edge,' says WHO official • First pledges announced to combat Ebola in DRC\n",
      "Active Labels:\n",
      "GH: Global Health\n",
      "_________________________________\n",
      "ID: 93033\n",
      "Long Story Short #20: A conversation about race, leadership, and global development Check out the video of this episode on our Facebook page. Want to listen to this episode on the go? Listen and subscribe: iTunes | SoundCloud Guests: Angela Bruce-Raeburn, associate director for advocacy, Global Health Advocacy Incubator Kate Warren, executive vice president, Devex Host: Kate Midden, engagement editor, Devex Fifty-one percent of global development organizations have zero leaders of color. Twenty percent have zero women. The result? A workforce that is not as international — nor intersectional — as the communities our industry works with. In this #GlobalDevWomen edition of Long Story Short, Angela Bruce-Raeburn and Kate Warren share how organizations can work towards creating a more diverse workforce — and what happens when this isn’t a priority. Additional reading: • [Twitter Chat] #GlobalDevWomen: A conversation on race, leadership and global development • Opinion: But wait until they see your black face • Opinion: Who gets to be part of development's exclusive club? • Opinion: A guide to busting unconscious bias • Opinion: Closing the gender leadership gap in development\n",
      "Active Labels:\n",
      "CE: Careers & Education\n",
      "SD: Social-Inclusive Development\n",
      "_________________________________\n",
      "ID: 93117\n",
      "Long Story Short #21: The biggest trends in impact investing Check out the video of this episode on our Facebook page. Want to listen to this episode on the go? Listen and subscribe: iTunes | SoundCloud Guests: Adva Saldinger, associate editor, Devex Host: Amy Lieberman, reporter, Devex In the face of increasing uncertainty from traditional donors — and a looming 2030 deadline for achieving the Sustainable Development Goals — the development industry is looking to private investors to finance development. One of the fastest-growing practices? Impact investing. On the heels of the Vatican Impact Investing Conference, reporter Amy Lieberman and associate editor Adva Saldinger discuss what impact investing has accomplished, how it’s evolving, and what’s in store next. Additional reading: • Impact investing growth continues as industry begins tracking to SDGs • Can a UN social impact fund spark further reform at the organization? • Leveraging impact investing to achieve the SDGs\n",
      "Active Labels:\n",
      "BF: Banking & Finance\n",
      "CE: Careers & Education\n",
      "ED: Economic Development\n",
      "PS: Private Sector\n",
      "_________________________________\n",
      "ID: 93154\n",
      "Long Story Short #22: Can foreign aid curb the Central America crisis? Check out the video of this episode on our Facebook page. Want to listen to this episode on the go? Listen and subscribe: iTunes | SoundCloud Guest: Teresa Welsh, reporter, Devex Host: Kate Midden, engagement editor, Devex The United States’ policy of separating families at the U.S. border has brought renewed global attention to the Central America crisis. In this episode, reporter Teresa Welsh and engagement editor Kate Midden discuss foreign aid's mixed impact in Central America, the root causes of migration and displacement, how donors and multilateral organizations have responded so far, and how the response strategy has changed over the past few months. Additional reading: • UN, international NGOs boost Central America presence amid migrant and refugee crisis • 'Play the long game:' US must continue aid in Central America, analysts say • Trump's Central America threat backs USAID chief into a corner\n",
      "Active Labels:\n",
      "HA: Humanitarian Aid\n",
      "HR: Democracy, Human Rights & Governance\n",
      "TP: Trade & Policy\n",
      "_________________________________\n",
      "ID: 93200\n",
      "Long Story Short #23: Inside the global HIV/AIDS response Check out the video of this episode on our Facebook page. Want to listen to this episode on the go? Listen and subscribe: iTunes | SoundCloud Guests: Mercy Ngulube, youth advocate and trustee, Sophia Forum Sophie Edwards, reporter, Devex Host: Kate Midden, engagement editor, Devex Ahead of the International AIDS conference in Amsterdam, experts warned that progress on HIV/AIDS is stalling. What’s behind the concerning trend — and what will it take to get on track to meet ambitious targets for 2020 and 2030? Live from AIDS 2018, this conversation covers the top stories to watch in the HIV/AIDS response — from youth engagement to integration of programming with tuberculosis, sexual and reproductive health, and more. Additional reading: • The 'end of AIDS' is not even nearly in sight, experts warn • Launch of $1.2B coalition to expand HIV services for men • UNAIDS chief confronted by anti-harassment protestors on stage in Amsterdam • Christians and the new age of AIDS • Ambassador Birx on PEPFAR's budget, country ownership, and how to tackle the epidemic • A look at PEPFAR's strategy: Controversies and motivations\n",
      "Active Labels:\n",
      "GH: Global Health\n",
      "HA: Humanitarian Aid\n",
      "HR: Democracy, Human Rights & Governance\n",
      "_________________________________\n",
      "ID: 93276\n",
      "Long Story Short #24: Breastfeeding in humanitarian crises Check out the video of this episode on our Facebook page. Want to listen to this episode on the go? Listen and subscribe: iTunes | SoundCloud Guests: Teresa Welsh, reporter, Devex Host: Kate Midden, engagement editor, Devex In the midst of crisis — when many lack access to basic needs such as food, shelter, and health care — breastfeeding can be a life-saving intervention for infants. During World Breastfeeding Week, Reporter Teresa Welsh and Engagement Editor Kate Midden discussed how humanitarian organizations are working to ensure mothers can continue to breastfeed, even in emergency situations. Additional reading: • Breast is best even in emergency situations, humanitarian orgs say • New UN guidance aims to boost exclusive breastfeeding worldwide • Opinion: Breast-feeding for economic growth and prosperity • Breast milk for newborns: A key to sustainable development • Opinion: We must improve the global state of breastfeeding\n",
      "Active Labels:\n",
      "GH: Global Health\n",
      "HA: Humanitarian Aid\n",
      "SD: Social-Inclusive Development\n",
      "_________________________________\n",
      "ID: 93279\n",
      "Long Story Short #25: Can development assistance combat violent extremism? Check out the video of this episode on our Facebook page. Want to listen to this episode on the go? Listen and subscribe: iTunes | SoundCloud Guests: Michael Igoe, reporter, Devex Host: Kate Midden, engagement editor, Devex On Aug. 7, 1998, Al Qaeda-linked terrorists attacked United States embassies in Kenya and Tanzania, signaling a major shift: Directing overseas development assistance toward efforts to counter violent extremism. Twenty years after the attacks, Devex Reporter Michael Igoe and Engagement Editor Kate Midden discuss how development organizations became involved in countering violent extremism, what they’ve accomplished — and what’s ahead for these efforts. Additional reading: • 20 years after a shocking attack, US aid groups grapple with countering violent extremism • Why more groups are calling on comedy to counter violent extremism • Faith-based groups concerned over US education strategy link to countering extremism • Opinion: 5 tips to improve programs that tackle violent extremism\n",
      "Active Labels:\n",
      "HA: Humanitarian Aid\n",
      "HR: Democracy, Human Rights & Governance\n",
      "TP: Trade & Policy\n",
      "_________________________________\n",
      "ID: 93292\n",
      "Long Story Short: World Humanitarian Day edition At the outset of 2018, United Nations humanitarian chief Mark Lowcock described a humanitarian system “under strain” due to a record number of protracted crises across the Middle East and Africa — and a growing gap between requested and granted funding. In recognition of World Humanitarian Day, we look back on five key conversations about the state of humanitarian crises — and what they mean for the professionals working on the front line of crisis response — in Long Story Short, our global development news show. 1. The cost of desensitization When the public becomes desensitized to humanitarian crises, it sends a ripple effect across the development industry — impacting funding, access, and aid worker security. Devex New York Correspondent Amy Lieberman quantifies the cost of tuning out — and what this means for ongoing crises in countries such as Yemen, the Democratic Republic of the Congo, and Syria. 2. The global response to Venezuela's humanitarian crisis The humanitarian situation in Venezuela has been deteriorating rapidly, with nearly 90 percent of Venezuelans living below the poverty line, 50,000 Venezuelans crossing the border to Colombia each day, with the International Monetary Fund projecting inflation to reach more than 13,000 percent this year. Reporter Teresa Welsh discussed how Venezuela reached this point, and the complexities for local, regional, and global entities responding to the crisis. 3. Inside the Ebola response In May, just four years after the 2014 Ebola epidemic took 11,000 lives across West Africa, the World Health Organization announced a new outbreak in DRC. The confirmed cases drew international concern — and a speedy response from the DRC government and its international partners. Devex West Africa Correspondent Christin Roby took us inside the humanitarian response. 4. What NGOs should do when donations become disasters When a major disaster unfolds, people around the world gather donations to send to survivors. But acts of compassion can quickly turn into a logistical nightmare for NGOs and disaster responders working to support survivors on the ground. Humanitarian adviser Juanita Rilling joined Long Story Short to explain what disaster relief organizations need to know about handling these donations — from the tax implications to preventing them in the first place. 5. Breastfeeding in humanitarian crises In the midst of crisis — when many lack access to basic needs such as food, shelter, and health care — breastfeeding can be a life-saving intervention for infants. During World Breastfeeding Week, reporter Teresa Welsh discussed how humanitarian organizations are working to ensure mothers can continue to breastfeed, even in emergency situations. Tune into Long Story Short Thursdays at noon ET on Facebook. You can also listen to each episode on SoundCloud and iTunes.\n",
      "Active Labels:\n",
      "GH: Global Health\n",
      "HA: Humanitarian Aid\n",
      "HR: Democracy, Human Rights & Governance\n",
      "SD: Social-Inclusive Development\n",
      "_________________________________\n",
      "ID: 93399\n",
      "Long Story Short #26: What global development can learn from Nike Check out the video of this episode on our Facebook page. Want to listen to this episode on the go? Listen and subscribe: iTunes | SoundCloud Guest: Carine Umuhumuza, Devex associate director for communications Host: Kate Midden, Devex engagement editor In honor of 30 years of #JustDoIt, Nike unveiled a controversial new face for its signature campaign: Activist and former NFL quarterback Colin Kaepernick. Announced with a simple tweet, the move generated an outpouring of online responses, leading to an estimated $43 million in free advertising for the company. What can global development learn from Nike’s high-risk, high-return campaign refresh? In this episode, Devex communications guru Carine Umuhumuza shares four key lessons for organizations working to create engaging, share-worthy content. Additional reading: • On Message: Creating community with intention • PATH's rebrand: A scalable focus on the future • On Message: Promoting progress in the social media era • 5 lessons from humanitarian storytellers\n",
      "Active Labels:\n",
      "CE: Careers & Education\n",
      "MC: Media And Communications\n",
      "PS: Private Sector\n",
      "_________________________________\n",
      "ID: 93434\n",
      "Long Story Short #27: How the UN is rethinking its response to sexual harassment Check out the audio of this episode on: iTunes | SoundCloud Guest: Amy Lieberman, Devex reporter Host: Kate Midden, Devex engagement editor Some who have reported sexual abuse at the United Nations have described challenging bureaucratic hurdles, inconsistent processes, and deep emotional and professional stress as a result of their complaints. How are things changing at the U.N. and will these changes have an impact? In this episode, U.N. correspondent Amy Lieberman weighs in from New York. Additional reading: • The murky process of reporting sexual harassment at the UN • For UN whistleblowers and survivors, reporting can have costly, emotional toll • UN report finds gaps, lack of protection for whistleblowers • Q&A: UN Women's first spokesperson on sexual harassment talks necessary changes at UN • UN launches staff helpline to address sexual misconduct information gaps\n",
      "Active Labels:\n",
      "ID: Institutional Development\n",
      "SD: Social-Inclusive Development\n",
      "_________________________________\n",
      "ID: 93481\n",
      "Long Story Short #28: What's next for climate action? Check out the audio of this episode on: iTunes | SoundCloud Guest: Catherine Cheney, Devex reporter Host: Kate Midden, Devex engagement editor Climate negotiations in Bangkok. The announcement of a United Nations climate summit in 2019. The Global Climate Action Summit in San Francisco. It’s been a big month for climate action. What do the key stories from the convenings, commitments, and announcements reveal about the direction of climate change advocacy and action? West Coast Correspondent Catherine Cheney and Engagement Editor Kate Midden discuss the future of climate action in between the Global Climate Action Summit and the U.N. General Assembly. Additional reading: • Global health community steps up climate action • Q&A: UN disaster risk reduction expert Jo Scheuer explains why a new approach is key • Bangkok climate talk leaves 'heavy lifting' to Poland COP24 • How Bill Gates thinks about climate change, innovation, and the SDGs • Feeding a growing world as it faces climate change\n",
      "Active Labels:\n",
      "GH: Global Health\n",
      "NR: Environment & Natural Resources\n",
      "TP: Trade & Policy\n",
      "_________________________________\n",
      "ID: 93548\n",
      "Long Story Short #29: Top stories from the 73rd UN General Assembly Check out the video of this episode on our Facebook page. Want to listen to this episode on the go? Listen and subscribe: iTunes | SoundCloud Guest: Amy Lieberman, Devex U.N. correspondent Host: Kate Midden, Devex engagement editor A lukewarm high-level meeting on tuberculosis. NCDs. Trump’s foreign assistance review. It’s been an eventful week at the 73rd U.N. General Assembly and Global Goals Week. Live from New York, U.N. Correspondent Amy Lieberman and Engagement Editor Kate Midden unpack the biggest stories from one of the biggest events for the global development community. Additional reading: • As UNGA kicks off, Guterres calls for urgency • At NCD summit, a push to address ignored disease burden • In Trump's US aid review, can development principles prevail? • UN warns of worsening famine in Yemen • UN chief António Guterres cautions financing will impact reform process\n",
      "Active Labels:\n",
      "GH: Global Health\n",
      "HA: Humanitarian Aid\n",
      "HR: Democracy, Human Rights & Governance\n",
      "ID: Institutional Development\n",
      "TP: Trade & Policy\n",
      "_________________________________\n",
      "ID: 93589\n",
      "Long Story Short #30: The new US development finance institution, explained Want to listen to this episode on the go? Listen and subscribe: iTunes | SoundCloud Guest: Adva Saldinger, associate editor, Devex Host: Kate Midden, engagement editor, Devex After almost a year of discussion and debate, the BUILD Act — which, if enacted would create a new United States development finance institution — passed on Oct. 3. The U.S. International Development Finance Corporation would absorb the Overseas Private Investment Corporation as well as several U.S. Agency for International Development functions. Last week, Associate Editor Adva Saldinger and Engagement Editor Kate Midden explored what it took to get to this point, how the bank will function, and what it means for the future of development financing. Additional reading: • A new US development finance agency takes flight • Exclusive: Plans underway for new US development finance bank • Exclusive: New US DFI expected to get strong White House support • Q&A: OPIC's Ray Washburne on the proposed US development finance institution\n",
      "Active Labels:\n",
      "BF: Banking & Finance\n",
      "ED: Economic Development\n",
      "PS: Private Sector\n",
      "_________________________________\n",
      "ID: 93646\n",
      "Long Story Short #31: Inside the World Bank Annual Meetings Check out the video of this episode on our Facebook page. Want to listen to this episode on the go? Listen and subscribe: iTunes | SoundCloud Guest: Sophie Edwards and Michael Igoe, Devex reporters Host: Kate Midden, Devex engagement editor The world’s central bank governors, multilateral chiefs, and civil society leaders gathered this week in Bali, Indonesia, for the World Bank and International Monetary Fund annual meetings. Between the launch of the highly anticipated human capital index, policy shifts away from coal financing, and a civil society showdown over the World Bank’s new report over the future of work, the meetings have brought forth pointed and at times tense conversations about the trajectory of global development. Against the backdrop is a country reeling from a devastating earthquake and tsunami — and an embattled civil society presence seeking to have their voices heard. Which countries topped the human capital index list — and which lagged behind? How did civil society respond to the meetings? What does the Bali FinTech agenda mean for global development? In this episode, reporters Sophie Edwards and Michael Igoe take a deeper look at the top stories coming out of the meetings. Additional reading: • World Bank launches highly anticipated human capital index • Opinion: A new IFC vision for greening banks in emerging markets • World Bank annual meetings face politics, global debt, and climate disasters • World Bank drops support for Kosovo's controversial coal project • Civil society groups welcome IFC coal plan but push for more Catch up on what happened at the World Bank Annual Meetings in Indonesia, where Devex reporters Michael Igoe and Sophie Edwards were on the ground.\n",
      "Active Labels:\n",
      "BF: Banking & Finance\n",
      "FU: Funding\n",
      "HR: Democracy, Human Rights & Governance\n",
      "ID: Institutional Development\n",
      "NR: Environment & Natural Resources\n",
      "_________________________________\n",
      "ID: 93691\n",
      "Long Story Short #32: Responding to Indonesia's dual disaster Listen to this episode: on iTunes | on SoundCloud Guest: Kelli Rogers, Devex Asia correspondent Host: Deborah Charles, Devex news editor Late last month, a devastating dual disaster struck the Indonesian island of Sulawesi. Thousands were injured and tens of thousands required assistance following the magnitude 7.5 earthquake and tsunami featuring 6-meter high waves hitting communities in Palu and Dongala. The subsequent devastation has proved challenging for the response and raised questions about the country’s disaster preparedness. In this episode, Asia Correspondent Kelli Rogers and News Editor Deborah Charles discuss what unfolded, how the catastrophe compared to others in the disaster-prone Asia-Pacific region — and what it means for disaster resilience and preparedness moving forward. Additional reading: • Indonesia disaster reveals community preparedness shortfalls • In Palu, relief teams push to reach worst-hit areas on foot • Asia-Pacific should look inward to foster disaster preparedness, expert says • 3,000 Rohingya refugees train to tackle natural disasters\n",
      "Active Labels:\n",
      "IN: Infrastructure\n",
      "NR: Environment & Natural Resources\n",
      "TP: Trade & Policy\n",
      "_________________________________\n",
      "ID: 93729\n",
      "Long Story Short #33: The battle over European aid Guest: Vince Chadwick, Devex reporter Host: Kate Midden, Devex engagement editor The European Commission and European Investment Bank are both vying for control over the bloc's aid spending — each saying it’s best positioned to oversee coordination of guarantee instruments by European development institutions. In this episode, Brussels correspondent Vince Chadwick and engagement editor Kate Midden discuss the origins of the power struggle, how the battle over EU aid has played out, and what it means for the future of lending in the region. Note: In this episode we refer to a “wise persons” group, initially due to issue recommendations on Europe’s development architecture to EU heads of state in Dec. 2018. Since recording, we learned the group, whose members are yet to be finalized, is now expected to present proposals for consideration by leaders in March 2019. Go in-depth: • Exclusive: Unpublished report praises EIB development tool amid budget row • EU institutions cross swords over future of development finance • Amid populist tensions, EU aid advocates weigh next move in budget battle • Q&A: EIB President Werner Hoyer on European aid turf war, Iran, and more In other development news: • Last week, DFID held its highly anticipated Safeguarding Summit to address the sexual abuse scandal that has rocked the aid sector — and was met with controversy. Here are the takeaways. • U.S. President Donald Trump has threatened to cut aid to Central America. Here’s what that could mean for the region. • In Dubai, the U.N. World Data Forum focused on building capacity of national data and statistical systems. Here's what you missed.\n",
      "Active Labels:\n",
      "FU: Funding\n",
      "ID: Institutional Development\n",
      "_________________________________\n",
      "ID: 93768\n",
      "Long Story Short #34: What the 'migrant caravan' means for US aid Listen and subscribe: iTunes | SoundCloud Guest: Teresa Welsh, Devex reporter Host: Kate Midden, Devex engagement editor In response to an estimated 7,000 people making their way through Mexico from Central America — with the goal of reaching the U.S. border — U.S. President Donald Trump has threatened to cut U.S. aid to the region. In this episode, reporter Teresa Welsh and engagement editor Kate Midden explore why several thousand people across Central America have banded together for the journey, the differing U.S. government responses, and what cuts to aid could mean for the region. Go in-depth: • Central American caravan shows changing realities of migration • US ambassador to El Salvador contradicts Trump on aid • Long Story Short #22: Can foreign aid curb the Central America crisis? • NGOs grapple with shifting demographics of Central America's migrants and refugees In other development news: • Three months after the breakdown of its last board meeting, the Green Climate Fund appears to have its house back in order. How it got back on track. • The U.K. Department for International Development may not have saved as many maternal lives as it claims, according to the U.K. aid watchdog. Inside the oversight report’s findings. • Last week, impact investing was a major focus of the Social Capital Markets conference. An in-depth look at the global state of the sector.\n",
      "Active Labels:\n",
      "HA: Humanitarian Aid\n",
      "HR: Democracy, Human Rights & Governance\n",
      "TP: Trade & Policy\n",
      "_________________________________\n",
      "ID: 93807\n",
      "Long Story Short #35: How higher education can democratize the development workforce Listen and subscribe: iTunes | SoundCloud Guest: Sethuraman Panchanathan, Knowledge enterprise executive vice president and chief research and innovation officer, Arizona State University Host: Kate Midden, Devex engagement editor There is increasing recognition that development initiatives should be owned and led by people living and operating at the local level — yet the global development workforce often doesn't reflect this reality. The qualifications most global development institutions require for jobs — especially those with decision-making power — exclude much of the world who may not have access to these learning experiences. In this episode, Arizona State University’s Sethuraman Panchanathan and Devex’s Kate Midden take an in-depth look at what online degree programs, private sector partnerships, and a shift in attitudes offer the future of global development education. Go in-depth: • Opinion: Creating educational pathways for development professionals • Keeping up with global development: Skills in demand • Sign me up: 20 unique courses and programs in global development • New pathway to a master's degree is good news for global development professionals\n",
      "Active Labels:\n",
      "CE: Careers & Education\n",
      "ED: Economic Development\n",
      "_________________________________\n",
      "ID: 93857\n",
      "Long Story Short #36: The future of family planning Check out the video of this episode on our Facebook page. Want to listen to this episode on the go? Listen and subscribe: iTunes | SoundCloud Guests: Karl Hofmann, president and CEO, PSI, and Jessa Blades, managing director, IDEO.org Host: Sophie Edwards, reporter, Devex Human-centered design is increasingly being used to upend traditional development programming. How can this creative approach to problem-solving disrupt the family planning space and design solutions for family planning’s future — adolescents? Live from the International Family Planning Conference in Kigali, Rwanda, reporter Sophie Edwards and experts Karl Hofmann and Jessa Blades discuss the practical considerations for adolescent programming — and what it takes to implement solutions based on human-centered design. Go in-depth: • Progress on family planning way off target, FP2020 update reveals • Safeguarding adolescents when using HCD in family planning • Opinion: Family planning gives women a future. It shouldn't be up for debate. • How family planning can help save cheetahs\n",
      "Active Labels:\n",
      "GH: Global Health\n",
      "_________________________________\n",
      "ID: 93912\n",
      "Long Story Short #37: US foreign assistance review, explained Guest: Michael Igoe, Devex reporter Host: Kate Midden, Devex engagement editor Earlier this year, United States President Donald Trump alluded to a foreign aid review — the outcome of which is expected to set the tone for another round of harsh White House budget proposals. Since the announcement, little has been revealed about the process and the few signals the administration has sent have been mixed. In this episode, senior reporter Michael Igoe and engagement editor Kate Midden discuss what we know about the foreign aid review, what we don’t — and what it means for U.S. aid. Go in-depth: • In Trump's US aid review, can development principles prevail? • The next battle for US aid is about to begin • Opinion: The White House foreign aid review is long overdue. Here's how to get reform right. • USAID adopts a hard line on China's development approach\n",
      "Active Labels:\n",
      "HA: Humanitarian Aid\n",
      "HR: Democracy, Human Rights & Governance\n",
      "TP: Trade & Policy\n",
      "_________________________________\n",
      "ID: 93961\n",
      "Long Story Short #38: 1 year of #AidToo Want to listen to this episode on the go? Listen and subscribe: iTunes | SoundCloud Guest: Jessica Abrahams, editor, Devex Host: Kate Midden, engagement editor, Devex This week marks the one year anniversary of #AidToo — the campaign moniker for the global conversation about sexual violence in the aid and international development sector. In this episode, editors Jessica Abrahams and Kate Midden explore the unique issues the aid sector faces — power imbalances between national and international staff, challenges with international background checks, and barriers to effective safeguarding policies — as well as the biggest moments in #AidToo this year. Additional reading: • Commitments and chaos at London's #AidToo summit • Could a global register of aid workers prevent sexual abuse? • Opinion: Without systemic change, safeguarding will only keep INGOs safe — not people • Oxfam sexual abuse scandal: Are the aid sector's HR systems failing? • Aid sector 'sluggish and delusional' in responding to sexual abuse, MPs find • Opinion: Sex abuse survivors are speaking up. This time, we can't let them down. Update, Dec. 7, 2018: In this episode, we referred to Angela Bruce Raeburn as the executive director of the Global Health Advocacy Incubator. She is the associate director.\n",
      "Active Labels:\n",
      "HA: Humanitarian Aid\n",
      "HR: Democracy, Human Rights & Governance\n",
      "ID: Institutional Development\n",
      "_________________________________\n",
      "ID: 94029\n",
      "Long Story Short #39: What COP24 means for global development Guests: Michael Igoe, senior reporter and Andrew Green, freelance contributor Host: Kate Midden, engagement editor This year’s United Nations climate talks in Katowice have raised major questions about the influence of fossil fuel companies on global climate policy, the ability of negotiators to push forward an ambitious climate agenda, and the fortitude of the Paris Agreement. Against a conflicting backdrop of alarming new climate science and pro-coal superpowers working against the tide of progress, the fate of the Paris Rulebook — the guiding document for implementing the Paris Agreement — hangs in the balance. From the heart of Polish coal country, Devex’s Michael Igoe, Andrew Green, and Kate Midden explore major stories from the Conference of Parties so far — and what this year’s negotiations mean for global development. Additional reading: • 4 things to watch at COP24 • Activists sound alarm as human rights guidelines are dropped at COP • Why the World Bank decided against an emissions target • Opinion: Can transition countries become climate leaders?\n",
      "Active Labels:\n",
      "HR: Democracy, Human Rights & Governance\n",
      "NR: Environment & Natural Resources\n",
      "TP: Trade & Policy\n",
      "_________________________________\n"
     ]
    },
    {
     "name": "stderr",
     "output_type": "stream",
     "text": [
      "4424it [00:00, 10405.74it/s]"
     ]
    },
    {
     "name": "stdout",
     "output_type": "stream",
     "text": [
      "40\n",
      "36\n"
     ]
    },
    {
     "name": "stderr",
     "output_type": "stream",
     "text": [
      "\n"
     ]
    }
   ],
   "source": [
    "counter = 0\n",
    "no_label = 0\n",
    "labels = ['AG', 'BF', 'CE', 'ED', 'EN', 'FU', 'GH', 'HA', 'HR', 'ID', 'II', 'IN', 'MC', 'NR', 'PM', 'PS', 'RE', 'SD', 'TP', 'UD', 'WS']\n",
    "for index, row in tqdm(df.iterrows()):\n",
    "    article = row.text\n",
    "    \n",
    "    if \"Long Story Short\" == article[:16]:\n",
    "        print(\"ID: {}\".format(row.id))     \n",
    "        print(article)\n",
    "        active_labels = [label for label in labels if row.loc[label]==1]\n",
    "        if not \"MC\" in active_labels:\n",
    "            no_label += 1\n",
    "        print(\"Active Labels:\")\n",
    "        for key, value in abbrev_mapping.items():\n",
    "            if key in active_labels:\n",
    "                print(\"{}: {}\".format(key, value))\n",
    "        print(\"_________________________________\")\n",
    "        counter += 1\n",
    "print(counter)\n",
    "print(no_label)"
   ]
  },
  {
   "cell_type": "code",
   "execution_count": 438,
   "metadata": {},
   "outputs": [
    {
     "data": {
      "text/plain": [
       "'Long Story Short'"
      ]
     },
     "execution_count": 438,
     "metadata": {},
     "output_type": "execute_result"
    }
   ],
   "source": [
    "x = \"Long Story Short bla bla\"\n",
    "x[:16]"
   ]
  },
  {
   "cell_type": "code",
   "execution_count": 443,
   "metadata": {},
   "outputs": [],
   "source": [
    "eval_set = pd.read_csv(\"../data/train-eval-split/1/df_eval_1.csv\")"
   ]
  },
  {
   "cell_type": "code",
   "execution_count": 444,
   "metadata": {},
   "outputs": [
    {
     "data": {
      "text/plain": [
       "885"
      ]
     },
     "execution_count": 444,
     "metadata": {},
     "output_type": "execute_result"
    }
   ],
   "source": [
    "len(eval_set)"
   ]
  },
  {
   "cell_type": "markdown",
   "metadata": {},
   "source": [
    "# Text Augmentation"
   ]
  },
  {
   "cell_type": "code",
   "execution_count": 412,
   "metadata": {},
   "outputs": [],
   "source": [
    "def print_article_with_labels(id_=None, index=None):\n",
    "    assert id_ is not None or index is not None\n",
    "    \n",
    "    if index is not None:\n",
    "        id_ = df.id.iloc[index]        \n",
    "    \n",
    "    is_id = df.id == id_\n",
    "    article = df[is_id].text.values[0]\n",
    "    print(\"ID: {}\\n_____________________\".format(id_))\n",
    "    print(article)\n",
    "    print(\"_____________________\\nLabels:\")\n",
    "    for key, value in df[is_id].iloc[0].iteritems():\n",
    "        if value==1:\n",
    "            print(abbrev_mapping[key])"
   ]
  },
  {
   "cell_type": "code",
   "execution_count": null,
   "metadata": {},
   "outputs": [],
   "source": [
    "os.environ[\"AUG_MODEL_DIR\"] = \"./aug_models\"\n",
    "model_path = os.environ.get(\"AUG_MODEL_DIR\")"
   ]
  },
  {
   "cell_type": "code",
   "execution_count": null,
   "metadata": {},
   "outputs": [],
   "source": [
    "df.head(10)"
   ]
  },
  {
   "cell_type": "code",
   "execution_count": null,
   "metadata": {},
   "outputs": [],
   "source": [
    "print_article_with_labels(id_=94003)"
   ]
  },
  {
   "cell_type": "markdown",
   "metadata": {},
   "source": [
    "### Training TF-IDF"
   ]
  },
  {
   "cell_type": "code",
   "execution_count": null,
   "metadata": {},
   "outputs": [],
   "source": [
    "tokens = [nltk.word_tokenize(text)]\n",
    "tfidf = nmw.TfIdf()\n",
    "tfidf.train(tokens)\n",
    "tfidf.save(model_path)"
   ]
  },
  {
   "cell_type": "markdown",
   "metadata": {},
   "source": [
    "### Augmentors"
   ]
  },
  {
   "cell_type": "code",
   "execution_count": null,
   "metadata": {},
   "outputs": [],
   "source": [
    "dutil.download_glove(model_name=\"glove.6B\", dest_dir=os.environ.get(\"AUG_MODEL_DIR\"))\n",
    "dutil.download_glove(model_name=\"glove.840B.300d\", dest_dir=os.environ.get(\"AUG_MODEL_DIR\"))"
   ]
  },
  {
   "cell_type": "code",
   "execution_count": null,
   "metadata": {},
   "outputs": [],
   "source": [
    "aug_syn_ppdb = naw.SynonymAug(aug_src=\"ppdb\", \n",
    "                              model_path=model_path + \"/ppdb-2.0-s-all\")"
   ]
  },
  {
   "cell_type": "code",
   "execution_count": null,
   "metadata": {},
   "outputs": [],
   "source": [
    "aug_tfidf = naw.TfIdfAug(model_path=model_path,\n",
    "                         action=\"substitute\")"
   ]
  },
  {
   "cell_type": "code",
   "execution_count": null,
   "metadata": {},
   "outputs": [],
   "source": [
    "text = \"How social entrepreneurs are using technology to accelerate change OXFORD, United Kingdom — Advances in mobile technology, artificial intelligence, and machine learning have given rise to a whole new way of approaching — and solving — real-world problems. And as the number of mobile internet users continues to grow, so do the possibilities of reaching more people with new solutions. This year’s Skoll World Forum and the annual Skoll Awards for Social Entrepreneurship showcased stellar examples of social entrepreneurs at the forefront of bridging the gap between tech promises and real problem-solving in their communities. Read more about this year’s cohort of Skoll Awardees and how they’re using technology and data to solve issues ranging from tackling counterfeit drugs and seeds to improving drug supply chains and mental health. Explore the visual feature.\""
   ]
  },
  {
   "cell_type": "code",
   "execution_count": null,
   "metadata": {},
   "outputs": [],
   "source": [
    "print(\"Original: {}\\n\".format(text))\n",
    "augmented_text = aug_tfidf.augment(text)\n",
    "print(\"TF-IDF: {}\\n\".format(augmented_text))"
   ]
  },
  {
   "cell_type": "code",
   "execution_count": null,
   "metadata": {},
   "outputs": [],
   "source": [
    "aug_syn_wordnet = naw.SynonymAug(aug_src=\"wordnet\",\n",
    "                                 aug_max=None)"
   ]
  },
  {
   "cell_type": "code",
   "execution_count": null,
   "metadata": {},
   "outputs": [],
   "source": [
    "def augment_article(text, augmenters=[], augmentations_per_augmenter=1, languages=[]):\n",
    "    augmented_texts = [text]\n",
    "    for augmenter in augmenters:\n",
    "        augmented_text = augmenter.augment(text, n=augmentations_per_augmenter)\n",
    "        if augmentations_per_augmenter==1:\n",
    "            augmented_texts.append(augmented_text)\n",
    "        else:\n",
    "            augmented_texts += augmented_text\n",
    "    translator = Translator()\n",
    "    for language in languages:\n",
    "        text_trans = translator.translate(text=text, dest=language, src=\"en\")\n",
    "        text_back_trans = translator.translate(text=text_trans.text, dest=\"en\", src=language)\n",
    "        \n",
    "        augmented_texts.append(text_back_trans.text)\n",
    "        \n",
    "    return augmented_texts"
   ]
  },
  {
   "cell_type": "code",
   "execution_count": null,
   "metadata": {},
   "outputs": [],
   "source": [
    "text = \"The name Amnesty International has long been associated with human rights and justice for those whose rights have been violated around the world.\""
   ]
  },
  {
   "cell_type": "code",
   "execution_count": null,
   "metadata": {},
   "outputs": [],
   "source": [
    "augmenations = augment_article(text, \n",
    "                augmenters=[aug_syn_wordnet, aug_syn_ppdb], \n",
    "                augmentations_per_augmenter=1, \n",
    "                languages=[\"zh-cn\", \"de\", \"fi\", \"hi\", \"ar\", \"tr\"])"
   ]
  },
  {
   "cell_type": "code",
   "execution_count": null,
   "metadata": {},
   "outputs": [],
   "source": [
    "for augmentation in augmenations:\n",
    "    print(augmentation)\n",
    "    print(\"\\n\")"
   ]
  },
  {
   "cell_type": "markdown",
   "metadata": {},
   "source": [
    "# Explorative Data Analsis "
   ]
  },
  {
   "cell_type": "code",
   "execution_count": 460,
   "metadata": {},
   "outputs": [],
   "source": [
    "categories = list(abbrev_mapping.keys())"
   ]
  },
  {
   "cell_type": "code",
   "execution_count": 446,
   "metadata": {},
   "outputs": [
    {
     "data": {
      "text/plain": [
       "{'AG': 'Agriculture & Rural Development',\n",
       " 'BF': 'Banking & Finance',\n",
       " 'CE': 'Careers & Education',\n",
       " 'ED': 'Economic Development',\n",
       " 'EN': 'Energy',\n",
       " 'FU': 'Funding',\n",
       " 'GH': 'Global Health',\n",
       " 'HA': 'Humanitarian Aid',\n",
       " 'HR': 'Democracy, Human Rights & Governance',\n",
       " 'ID': 'Institutional Development',\n",
       " 'II': 'Innovation & ICT',\n",
       " 'IN': 'Infrastructure',\n",
       " 'MC': 'Media And Communications',\n",
       " 'NR': 'Environment & Natural Resources',\n",
       " 'PM': 'Project Management',\n",
       " 'PS': 'Private Sector',\n",
       " 'RE': 'Research',\n",
       " 'SD': 'Social-Inclusive Development',\n",
       " 'TP': 'Trade & Policy',\n",
       " 'UD': 'Urban Development',\n",
       " 'WS': 'Water & Sanitation'}"
      ]
     },
     "execution_count": 446,
     "metadata": {},
     "output_type": "execute_result"
    }
   ],
   "source": [
    "abbrev_mapping"
   ]
  },
  {
   "cell_type": "markdown",
   "metadata": {},
   "source": [
    "### Articles per Label"
   ]
  },
  {
   "cell_type": "code",
   "execution_count": 207,
   "metadata": {},
   "outputs": [],
   "source": [
    "def print_label_frequencies(df, categories, save_path=None, figsize=(15,8)):\n",
    "    print(\"Number of Datapoints: {}\".format(len(df)))\n",
    "    sns.set(font_scale=2)\n",
    "    plt.figure(figsize=figsize)\n",
    "    ax = sns.barplot(categories, df.loc[:, categories].sum().values)\n",
    "\n",
    "    plt.ylabel(\"Number of Articles\", fontsize=18)\n",
    "    plt.xlabel(\"Article Category\", fontsize=18)\n",
    "    #plt.title(\"Number of Datapoints: {}\".format(len(new_dataframe)), fontsize=18)\n",
    "\n",
    "    rects = ax.patches\n",
    "    category_labels = df.loc[:, categories].astype(int).sum().values\n",
    "    for rect, label in zip(rects, category_labels):\n",
    "        height = rect.get_height()\n",
    "        if len(category_labels) < 10:\n",
    "            rect.set_width(rect.get_width()/2)\n",
    "            rect.set_x(rect.get_x() + rect.get_width()/2)\n",
    "        ax.text(rect.get_x() + rect.get_width()/2, height, label, ha=\"center\", va=\"bottom\", fontsize=12)\n",
    "    \n",
    "    if save_path is not None:\n",
    "        plt.savefig(save_path, format=\"png\")\n",
    "    plt.show()"
   ]
  },
  {
   "cell_type": "code",
   "execution_count": 984,
   "metadata": {},
   "outputs": [
    {
     "name": "stdout",
     "output_type": "stream",
     "text": [
      "Number of Datapoints: 4424\n"
     ]
    },
    {
     "data": {
      "image/png": "[encoded data removed]",
      "text/plain": [
       "<Figure size 1080x576 with 1 Axes>"
      ]
     },
     "metadata": {},
     "output_type": "display_data"
    }
   ],
   "source": [
    "# save_path = \"/Users/bradloff/Documents/masterthesis/thesis/graphics/augmented_articles_per_category.png\"\n",
    "categories = list(abbrev_mapping.keys())\n",
    "print_label_frequencies(df, categories)"
   ]
  },
  {
   "cell_type": "markdown",
   "metadata": {},
   "source": [
    "### Number of Labels"
   ]
  },
  {
   "cell_type": "code",
   "execution_count": 53,
   "metadata": {},
   "outputs": [
    {
     "data": {
      "image/png": "[encoded data removed]",
      "text/plain": [
       "<Figure size 1080x576 with 1 Axes>"
      ]
     },
     "metadata": {},
     "output_type": "display_data"
    }
   ],
   "source": [
    "row_sums = df.loc[:,categories].sum(axis=1)\n",
    "multilabel_counts = row_sums.value_counts().to_frame()\n",
    "multilabel_counts[\"index\"] = multilabel_counts.index\n",
    "multilabel_counts.columns = [\"amount\", \"index\"]\n",
    "multilabel_counts.sort_values(by=\"index\", inplace=True)\n",
    "\n",
    "sns.set(font_scale=2)\n",
    "plt.figure(figsize=(15,8))\n",
    "\n",
    "ax = sns.barplot(multilabel_counts[\"index\"], multilabel_counts[\"amount\"].values)\n",
    "\n",
    "#plt.title(\"Articles with multiple Labels\", fontsize=24)\n",
    "plt.ylabel(\"Number of Articles\", fontsize=18)\n",
    "plt.xlabel(\"Number of Labels\", fontsize=18)\n",
    "\n",
    "rects = ax.patches\n",
    "amount_labels = multilabel_counts.values\n",
    "for rect, label in zip(rects, amount_labels):\n",
    "    height = rect.get_height()\n",
    "    ax.text(x=rect.get_x() + rect.get_width()/2, \n",
    "            y=height, \n",
    "            s=label[0], \n",
    "            ha=\"center\", \n",
    "            va=\"bottom\", \n",
    "            fontsize=12)\n",
    "plt.savefig(\"/Users/bradloff/Documents/masterthesis/thesis/graphics/number_labels.png\", format=\"png\")\n",
    "plt.show()"
   ]
  },
  {
   "cell_type": "code",
   "execution_count": 54,
   "metadata": {},
   "outputs": [
    {
     "data": {
      "text/plain": [
       "1155"
      ]
     },
     "execution_count": 54,
     "metadata": {},
     "output_type": "execute_result"
    }
   ],
   "source": [
    "label_df = df.drop(labels=[\"id\", \"text\"], axis=1)\n",
    "unique_labels_df = label_df.drop_duplicates()\n",
    "len(unique_labels_df)"
   ]
  },
  {
   "cell_type": "markdown",
   "metadata": {},
   "source": [
    "### Word Cloud"
   ]
  },
  {
   "cell_type": "code",
   "execution_count": null,
   "metadata": {},
   "outputs": [],
   "source": [
    "label = \"UD\"\n",
    "is_label = df.loc[:,label] == 1 \n",
    "subset = df[is_label]\n",
    "text = subset.text.values\n",
    "\n",
    "plt.figure(figsize=(40,25))\n",
    "cloud = WordCloud(\n",
    "                    stopwords=STOPWORDS,\n",
    "                    background_color=\"black\",\n",
    "                    collocations=False,\n",
    "                    width=2500,\n",
    "                    height=1800,\n",
    "                ).generate(\" \".join(text))\n",
    "\n",
    "plt.axis(\"off\")\n",
    "plt.title(abbrev_mapping[label], fontsize=50)\n",
    "plt.imshow(cloud)\n",
    "plt.show()"
   ]
  },
  {
   "cell_type": "markdown",
   "metadata": {},
   "source": [
    "### Token Length"
   ]
  },
  {
   "cell_type": "code",
   "execution_count": 55,
   "metadata": {},
   "outputs": [
    {
     "data": {
      "image/png": "[encoded data removed]",
      "text/plain": [
       "<Figure size 1080x576 with 1 Axes>"
      ]
     },
     "metadata": {},
     "output_type": "display_data"
    }
   ],
   "source": [
    "sns.set(font_scale=2)\n",
    "plt.figure(figsize=(15,8))\n",
    "\n",
    "lengths = np.array([len(input_id) for input_id in input_ids])\n",
    "ax = sns.distplot(lengths, kde=False, norm_hist=False)\n",
    "#plt.title(\"Distribution: Lenght of tokenized sentences\", fontsize=24)\n",
    "plt.xlabel(\"Lenght of tokenized Article\", fontsize=18)\n",
    "plt.ylabel(\"Count\", fontsize=18)\n",
    "plt.savefig(\"/Users/bradloff/Documents/masterthesis/thesis/graphics/histogram_tokens.png\", format=\"png\")\n",
    "plt.show()"
   ]
  },
  {
   "cell_type": "code",
   "execution_count": 56,
   "metadata": {},
   "outputs": [
    {
     "name": "stdout",
     "output_type": "stream",
     "text": [
      "Median: 1190.5\n",
      "Mean: 1300.2714737793851\n",
      "STD: 639.1976260120616\n",
      "Minimum: 78\n",
      "Maximum: 6282\n"
     ]
    }
   ],
   "source": [
    "print(\"Median: {}\".format(np.median(lengths)))\n",
    "print(\"Mean: {}\".format(lengths.mean()))\n",
    "print(\"STD: {}\".format(lengths.std()))\n",
    "print(\"Minimum: {}\".format(lengths.min()))\n",
    "print(\"Maximum: {}\".format(lengths.max()))"
   ]
  },
  {
   "cell_type": "code",
   "execution_count": null,
   "metadata": {},
   "outputs": [],
   "source": [
    "for index, length in enumerate(lengths):\n",
    "    if length > 300 and length < 350:\n",
    "        print(index)"
   ]
  },
  {
   "cell_type": "markdown",
   "metadata": {},
   "source": [
    "#### K80 Memory Constraints"
   ]
  },
  {
   "cell_type": "code",
   "execution_count": null,
   "metadata": {},
   "outputs": [],
   "source": [
    "amount_splits_estimate = [length/150 for length in lengths]\n",
    "too_long_for_k80 = sum(np.where(np.array(amount_splits_estimate)>30, 1, 0))\n",
    "print(\"Number of articles not fitting into K80 memory (12GB): {}\".format(too_long_for_k80))"
   ]
  },
  {
   "cell_type": "markdown",
   "metadata": {},
   "source": [
    "### Correlation Matrix "
   ]
  },
  {
   "cell_type": "code",
   "execution_count": 255,
   "metadata": {},
   "outputs": [
    {
     "data": {
      "image/png": "[encoded data removed]",
      "text/plain": [
       "<Figure size 1080x1080 with 2 Axes>"
      ]
     },
     "metadata": {},
     "output_type": "display_data"
    }
   ],
   "source": [
    "not_labels = ['AG', 'BF', 'CE', 'ED', 'EN', 'HA', 'HR', 'II', 'IN', 'MC', 'NR', 'PM', 'PS', 'RE', 'UD', 'WS']\n",
    "correlation = df.drop([\"id\", \"text\"]+not_labels, axis=1).corr()\n",
    "sns.set(style=\"whitegrid\")\n",
    "mask = np.zeros_like(correlation, dtype=np.bool)\n",
    "mask[np.triu_indices_from(mask)] = True\n",
    "f, ax = plt.subplots(figsize=(15,15))\n",
    "cmap = sns.diverging_palette(255,0, as_cmap=True)\n",
    "sns.heatmap(correlation, mask=mask, cmap=cmap, vmax=0.5, center=0,\n",
    "            square=True, linewidths=.5, cbar_kws={\"shrink\": .5}, annot=True)\n",
    "\n",
    "#plt.savefig(\"/Users/bradloff/Documents/masterthesis/thesis/graphics/label_correlation.png\", format=\"png\")\n",
    "plt.show()"
   ]
  },
  {
   "cell_type": "markdown",
   "metadata": {},
   "source": [
    "## Unlabeled Dataset"
   ]
  },
  {
   "cell_type": "code",
   "execution_count": null,
   "metadata": {},
   "outputs": [],
   "source": [
    "with open(\"../data/data_lm_devex_mw.txt\") as all_data:\n",
    "    all_articles = all_data.read()"
   ]
  },
  {
   "cell_type": "code",
   "execution_count": null,
   "metadata": {},
   "outputs": [],
   "source": [
    "tokenezid_data = transformer.tokenizer.encode(all_articles)"
   ]
  },
  {
   "cell_type": "code",
   "execution_count": null,
   "metadata": {},
   "outputs": [],
   "source": [
    "len(tokenezid_data)"
   ]
  },
  {
   "cell_type": "markdown",
   "metadata": {},
   "source": [
    "### Summaries"
   ]
  },
  {
   "cell_type": "code",
   "execution_count": null,
   "metadata": {},
   "outputs": [],
   "source": [
    "summary_df = pd.read_csv(\"../data/article_confirmed_roberta-lm_summary.csv\")"
   ]
  },
  {
   "cell_type": "code",
   "execution_count": null,
   "metadata": {},
   "outputs": [],
   "source": [
    "logging.getLogger(\"transformers.tokenization_utils_base\").setLevel(logging.ERROR)\n",
    "for index, summary in enumerate(summary_df.summary_cluster.values):\n",
    "    try:\n",
    "        tokens = transformer.tokenizer(summary)\n",
    "    except:\n",
    "        print(index)\n",
    "logging.getLogger(\"transformers.tokenization_utils_base\").setLevel(logging.WARNING)"
   ]
  },
  {
   "cell_type": "code",
   "execution_count": null,
   "metadata": {},
   "outputs": [],
   "source": [
    "with IncreasedLoggingLevel(\"transformers.tokenization_utils_base\") as x:\n",
    "    input_ids_cluster = [transformer.tokenizer(text) for text in tqdm(summary_df.summary_cluster.values)] \n",
    "    input_ids_textrank = [transformer.tokenizer(text) for text in tqdm(summary_df.summary_textrank.values)] "
   ]
  },
  {
   "cell_type": "code",
   "execution_count": null,
   "metadata": {},
   "outputs": [],
   "source": [
    "sns.set(font_scale=2)\n",
    "plt.figure(figsize=(15,8))\n",
    "\n",
    "lengths = np.array([len(tokenization[\"input_ids\"]) for tokenization in input_ids_cluster])\n",
    "ax = sns.distplot(lengths, kde=False, norm_hist=False)\n",
    "#plt.title(\"Distribution: Lenght of tokenized sentences\", fontsize=24)\n",
    "plt.xlabel(\"Lenght of tokenized Article\", fontsize=18)\n",
    "plt.ylabel(\"Count\", fontsize=18)\n",
    "plt.savefig(\"/Users/bradloff/Documents/masterthesis/thesis/graphics/histogram_tokens_summary_cluster.png\", format=\"png\")\n",
    "plt.show()\n",
    "\n",
    "print(\"Median: {}\".format(np.median(lengths)))\n",
    "print(\"Mean: {}\".format(lengths.mean()))\n",
    "print(\"STD: {}\".format(lengths.std()))\n",
    "print(\"Minimum: {}\".format(lengths.min()))\n",
    "print(\"Maximum: {}\".format(lengths.max()))"
   ]
  },
  {
   "cell_type": "code",
   "execution_count": null,
   "metadata": {},
   "outputs": [],
   "source": [
    "sns.set(font_scale=2)\n",
    "plt.figure(figsize=(15,8))\n",
    "\n",
    "lengths = np.array([len(tokenization[\"input_ids\"]) for tokenization in input_ids_textrank])\n",
    "ax = sns.distplot(lengths, kde=False, norm_hist=False)\n",
    "#plt.title(\"Distribution: Lenght of tokenized sentences\", fontsize=24)\n",
    "plt.xlabel(\"Lenght of tokenized Article\", fontsize=18)\n",
    "plt.ylabel(\"Count\", fontsize=18)\n",
    "plt.savefig(\"/Users/bradloff/Documents/masterthesis/thesis/graphics/histogram_tokens_summary_textrank.png\", format=\"png\")\n",
    "plt.show()\n",
    "\n",
    "print(\"Median: {}\".format(np.median(lengths)))\n",
    "print(\"Mean: {}\".format(lengths.mean()))\n",
    "print(\"STD: {}\".format(lengths.std()))\n",
    "print(\"Minimum: {}\".format(lengths.min()))\n",
    "print(\"Maximum: {}\".format(lengths.max()))"
   ]
  },
  {
   "cell_type": "markdown",
   "metadata": {},
   "source": [
    "# Data Split"
   ]
  },
  {
   "cell_type": "code",
   "execution_count": null,
   "metadata": {},
   "outputs": [],
   "source": [
    "summary_df = pd.read_csv(\"../data/article_confirmed_summary.csv\")"
   ]
  },
  {
   "cell_type": "code",
   "execution_count": 28,
   "metadata": {},
   "outputs": [],
   "source": [
    "from sklearn.model_selection import train_test_split"
   ]
  },
  {
   "cell_type": "code",
   "execution_count": 30,
   "metadata": {},
   "outputs": [],
   "source": [
    "for seed in range(5):\n",
    "    df_train, df_eval = train_test_split(summary_df, test_size=0.2, random_state=seed)\n",
    "    df_train.to_csv(\"../data/train-eval-split/{}/df_train_{}.csv\".format(str(seed), str(seed)), index=False)\n",
    "    df_eval.to_csv(\"../data/train-eval-split/{}/df_eval_{}.csv\".format(str(seed), str(seed)), index=False)"
   ]
  },
  {
   "cell_type": "code",
   "execution_count": 96,
   "metadata": {},
   "outputs": [],
   "source": [
    "top5_labels = [\"FU\", \"GH\", \"ID\", \"SD\", \"TP\"]"
   ]
  },
  {
   "cell_type": "code",
   "execution_count": 97,
   "metadata": {},
   "outputs": [],
   "source": [
    "def restrict_labels(df, labels):\n",
    "    return df.loc[:,[\"id\",\"text\", \"summary_cluster\", \"summary_textrank\"]+labels]"
   ]
  },
  {
   "cell_type": "code",
   "execution_count": 103,
   "metadata": {},
   "outputs": [
    {
     "data": {
      "text/plain": [
       "0"
      ]
     },
     "execution_count": 103,
     "metadata": {},
     "output_type": "execute_result"
    }
   ],
   "source": [
    "sum(restricted_df.iloc[0,:].loc[top5_labels].values)"
   ]
  },
  {
   "cell_type": "code",
   "execution_count": 104,
   "metadata": {},
   "outputs": [],
   "source": [
    "def sum_labels(row):\n",
    "    return sum(row.loc[top5_labels].values)"
   ]
  },
  {
   "cell_type": "code",
   "execution_count": 105,
   "metadata": {},
   "outputs": [],
   "source": [
    "restricted_df = restrict_labels(summary_df, top5_labels)\n",
    "restricted_df[\"number_active\"] = restricted_df.apply(func=sum_labels,axis=1)"
   ]
  },
  {
   "cell_type": "code",
   "execution_count": 106,
   "metadata": {},
   "outputs": [
    {
     "data": {
      "text/plain": [
       "0       0\n",
       "1       1\n",
       "2       0\n",
       "3       0\n",
       "4       0\n",
       "       ..\n",
       "4419    1\n",
       "4420    1\n",
       "4421    3\n",
       "4422    2\n",
       "4423    1\n",
       "Name: number_active, Length: 4424, dtype: int64"
      ]
     },
     "execution_count": 106,
     "metadata": {},
     "output_type": "execute_result"
    }
   ],
   "source": [
    "restricted_df[\"number_active\"]"
   ]
  },
  {
   "cell_type": "markdown",
   "metadata": {},
   "source": [
    "# Augmentation"
   ]
  },
  {
   "cell_type": "code",
   "execution_count": 530,
   "metadata": {},
   "outputs": [],
   "source": [
    "translator = Translator()\n",
    "languages = [\"zh-cn\", \"de\", \"fi\", \"hi\", \"ar\", \"tr\"]"
   ]
  },
  {
   "cell_type": "code",
   "execution_count": 531,
   "metadata": {},
   "outputs": [],
   "source": [
    "aug_syn_ppdb = naw.SynonymAug(aug_src=\"ppdb\",\n",
    "                              model_path=\"aug_models/ppdb-2.0-s-all\",\n",
    "                              aug_max=None)\n",
    "\n",
    "aug_syn_wordnet = naw.SynonymAug(aug_src=\"wordnet\",\n",
    "                                 aug_max=None)"
   ]
  },
  {
   "cell_type": "code",
   "execution_count": 9,
   "metadata": {},
   "outputs": [],
   "source": [
    "summary_df = pd.read_csv(\"../data/article_confirmed_summary.csv\")"
   ]
  },
  {
   "cell_type": "code",
   "execution_count": 290,
   "metadata": {},
   "outputs": [],
   "source": [
    "augmentations_df = pd.read_csv(\"../data/article_confirmed_summary_augmentations.csv\")"
   ]
  },
  {
   "cell_type": "code",
   "execution_count": 528,
   "metadata": {},
   "outputs": [],
   "source": [
    "%run -i \"../news-topic-cls/core/data/augmentation.py\""
   ]
  },
  {
   "cell_type": "code",
   "execution_count": 291,
   "metadata": {},
   "outputs": [
    {
     "data": {
      "text/html": [
       "<div>\n",
       "<style scoped>\n",
       "    .dataframe tbody tr th:only-of-type {\n",
       "        vertical-align: middle;\n",
       "    }\n",
       "\n",
       "    .dataframe tbody tr th {\n",
       "        vertical-align: top;\n",
       "    }\n",
       "\n",
       "    .dataframe thead th {\n",
       "        text-align: right;\n",
       "    }\n",
       "</style>\n",
       "<table border=\"1\" class=\"dataframe\">\n",
       "  <thead>\n",
       "    <tr style=\"text-align: right;\">\n",
       "      <th></th>\n",
       "      <th>augmentation_id</th>\n",
       "      <th>reference_id</th>\n",
       "      <th>augmented_article</th>\n",
       "      <th>augmented_summary_cluster</th>\n",
       "      <th>augmented_summary_textrank</th>\n",
       "      <th>AG</th>\n",
       "      <th>BF</th>\n",
       "      <th>CE</th>\n",
       "      <th>ED</th>\n",
       "      <th>EN</th>\n",
       "      <th>...</th>\n",
       "      <th>IN</th>\n",
       "      <th>MC</th>\n",
       "      <th>NR</th>\n",
       "      <th>PM</th>\n",
       "      <th>PS</th>\n",
       "      <th>RE</th>\n",
       "      <th>SD</th>\n",
       "      <th>TP</th>\n",
       "      <th>UD</th>\n",
       "      <th>WS</th>\n",
       "    </tr>\n",
       "  </thead>\n",
       "  <tbody>\n",
       "    <tr>\n",
       "      <th>0</th>\n",
       "      <td>0</td>\n",
       "      <td>29186</td>\n",
       "      <td>Development jobs in Peru: What you require to ...</td>\n",
       "      <td>Information technology be insufferable to see ...</td>\n",
       "      <td>What to fetch Once in Cuzco, surgery anyplace ...</td>\n",
       "      <td>0</td>\n",
       "      <td>0</td>\n",
       "      <td>1</td>\n",
       "      <td>0</td>\n",
       "      <td>0</td>\n",
       "      <td>...</td>\n",
       "      <td>0</td>\n",
       "      <td>0</td>\n",
       "      <td>0</td>\n",
       "      <td>0</td>\n",
       "      <td>0</td>\n",
       "      <td>0</td>\n",
       "      <td>0</td>\n",
       "      <td>0</td>\n",
       "      <td>0</td>\n",
       "      <td>0</td>\n",
       "    </tr>\n",
       "    <tr>\n",
       "      <th>1</th>\n",
       "      <td>1</td>\n",
       "      <td>29186</td>\n",
       "      <td>Development jobs in Peru: What you need to kno...</td>\n",
       "      <td>Information technology was unacceptable to see...</td>\n",
       "      <td>What to bring Once in Cuzco, or anywhere in Pe...</td>\n",
       "      <td>0</td>\n",
       "      <td>0</td>\n",
       "      <td>1</td>\n",
       "      <td>0</td>\n",
       "      <td>0</td>\n",
       "      <td>...</td>\n",
       "      <td>0</td>\n",
       "      <td>0</td>\n",
       "      <td>0</td>\n",
       "      <td>0</td>\n",
       "      <td>0</td>\n",
       "      <td>0</td>\n",
       "      <td>0</td>\n",
       "      <td>0</td>\n",
       "      <td>0</td>\n",
       "      <td>0</td>\n",
       "    </tr>\n",
       "  </tbody>\n",
       "</table>\n",
       "<p>2 rows × 26 columns</p>\n",
       "</div>"
      ],
      "text/plain": [
       "   augmentation_id  reference_id  \\\n",
       "0                0         29186   \n",
       "1                1         29186   \n",
       "\n",
       "                                   augmented_article  \\\n",
       "0  Development jobs in Peru: What you require to ...   \n",
       "1  Development jobs in Peru: What you need to kno...   \n",
       "\n",
       "                           augmented_summary_cluster  \\\n",
       "0  Information technology be insufferable to see ...   \n",
       "1  Information technology was unacceptable to see...   \n",
       "\n",
       "                          augmented_summary_textrank  AG  BF  CE  ED  EN  ...  \\\n",
       "0  What to fetch Once in Cuzco, surgery anyplace ...   0   0   1   0   0  ...   \n",
       "1  What to bring Once in Cuzco, or anywhere in Pe...   0   0   1   0   0  ...   \n",
       "\n",
       "   IN  MC  NR  PM  PS  RE  SD  TP  UD  WS  \n",
       "0   0   0   0   0   0   0   0   0   0   0  \n",
       "1   0   0   0   0   0   0   0   0   0   0  \n",
       "\n",
       "[2 rows x 26 columns]"
      ]
     },
     "execution_count": 291,
     "metadata": {},
     "output_type": "execute_result"
    }
   ],
   "source": [
    "augmentations_df.head(2)"
   ]
  },
  {
   "cell_type": "code",
   "execution_count": 313,
   "metadata": {},
   "outputs": [
    {
     "name": "stderr",
     "output_type": "stream",
     "text": [
      "100%|██████████| 53076/53076 [00:07<00:00, 7487.89it/s]\n"
     ]
    }
   ],
   "source": [
    "for index, row in tqdm(augmentations_df.iterrows(), total=len(augmentations_df), position=0, leave=True):\n",
    "    if \"MISSING\" in row.augmented_article and len(row.augmented_article.strip()) <= 13:\n",
    "        original_text = summary_df[summary_df.id==row.reference_id].text.values[0]\n",
    "        language = row.augmented_article.strip()[8:]\n",
    "        try:\n",
    "            backtrans = backtranslation(text=original_text, \n",
    "                                       translator=translator, \n",
    "                                       language=language)\n",
    "\n",
    "            augmentations_df.loc[index, \"augmented_article\"] = backtrans\n",
    "        except Exception as err:\n",
    "            print(\"{}: ID {}; Augmentation: {} ; Article\".format(err.__class__.__name__, row.reference_id, row.augmentation_id))\n",
    "        \n",
    "    if \"MISSING\" in row.augmented_summary_cluster and len(row.augmented_summary_cluster.strip()) <= 13:\n",
    "        original_text = summary_df[summary_df.id==row.reference_id].summary_cluster.values[0]\n",
    "        language = row.augmented_summary_cluster.strip()[8:]\n",
    "        try:\n",
    "            backtrans = backtranslation(text=original_text, \n",
    "                                       translator=translator, \n",
    "                                       language=language)\n",
    "\n",
    "            augmentations_df.loc[index, \"augmented_summary_cluster\"] = backtrans\n",
    "        except Exception as err:\n",
    "            print(\"{}: ID {}; Augmentation: {} ; Summary Cluster\".format(err.__class__.__name__, row.reference_id, row.augmentation_id))\n",
    "            \n",
    "    if \"MISSING\" in row.augmented_summary_textrank and len(row.augmented_summary_textrank.strip()) <= 13:\n",
    "        original_text = summary_df[summary_df.id==row.reference_id].summary_textrank.values[0]\n",
    "        language = row.augmented_summary_textrank.strip()[8:]\n",
    "        try:\n",
    "            backtrans = backtranslation(text=original_text, \n",
    "                                       translator=translator, \n",
    "                                       language=language)\n",
    "            augmentations_df.loc[index, \"augmented_summary_textrank\"] = backtrans\n",
    "        except Exception as err:\n",
    "            print(\"{}: ID {}; Augmentation: {} ; Summary Textrank\".format(err.__class__.__name__, row.reference_id, row.augmentation_id))"
   ]
  },
  {
   "cell_type": "code",
   "execution_count": 314,
   "metadata": {},
   "outputs": [],
   "source": [
    "augmentations_df.to_csv(\"../data/article_confirmed_summary_augmentations.csv\", index=False)"
   ]
  },
  {
   "cell_type": "code",
   "execution_count": 303,
   "metadata": {},
   "outputs": [],
   "source": [
    "id_ = 96050\n",
    "augmentation = 11\n",
    "text_type=\"summary_textrank\"\n",
    "lang = languages[augmentation - 6]\n",
    "text = summary_df[summary_df.id == id_].loc[:,text_type].values[0]"
   ]
  },
  {
   "cell_type": "code",
   "execution_count": 304,
   "metadata": {
    "collapsed": true
   },
   "outputs": [
    {
     "data": {
      "text/plain": [
       "'The road project adversely impacted the watershed in Honduras’ dry corridor by forcing additional sediment into the water supply, which the community was already struggling to keep clean to ensure sufficient water for human consumption, said San Antonio del Norte Mayor Eulalio Maldonado Moreno. He said that continuous water management allows the community to understand exactly how access to water impacts development, and how it can be retained and stored to ensure future security. With help from a watershed management program led by nonprofit Global Communities, San Antonio del Norte has mitigated the impact of the road construction and improved other aspects of its system to secure the water supply for the population. The project is part of a wider effort called the Dry Corridor Alliance, signed by the Honduran government and international partners in 2014, which aims to improve life in the poverty-prone area by reducing malnutrition, increasing access to water, and stimulating the local economy. “We’ve done an analysis with the Dry Corridor Alliance to review water quality and quantity,” said Jorge Gomez, member of a water council in the dry corridor. Construction of a bridge in this area also allows community members living on the other side of the stream to cross it even when flows are higher, ensuring water does not become a barrier to movement. In addition to infrastructure improvements, local water councils receive training on effective watershed management. An insurance policy Ensuring effective water conservation for agriculture in the dry corridor is also key to food security and economic stability. According to Caballero, the work focused on ensuring water quality for both human and agricultural production systems to increase food security and promote economic development. But having a constant water supply even in dry months has stretched their season to three harvests per year, meaning they can now plant a more diverse set of crops, including green beans, zucchini, watermelon, and sweet potato.'"
      ]
     },
     "execution_count": 304,
     "metadata": {},
     "output_type": "execute_result"
    }
   ],
   "source": [
    "text"
   ]
  },
  {
   "cell_type": "code",
   "execution_count": 305,
   "metadata": {},
   "outputs": [
    {
     "data": {
      "text/plain": [
       "'MISSING tr '"
      ]
     },
     "execution_count": 305,
     "metadata": {},
     "output_type": "execute_result"
    }
   ],
   "source": [
    "filtered_df = augmentations_df[(augmentations_df.reference_id == id_) & (augmentations_df.augmentation_id==augmentation)]\n",
    "aug_text = filtered_df.loc[:,\"augmented_summary_textrank\".format(text_type)].values[0]\n",
    "aug_text"
   ]
  },
  {
   "cell_type": "code",
   "execution_count": 312,
   "metadata": {
    "collapsed": true
   },
   "outputs": [
    {
     "name": "stdout",
     "output_type": "stream",
     "text": [
      "TIME: 0.8134322166442871\n",
      "Augmentation: \n",
      "Eulalio Maldonado Moreno, Mayor of San Antonio del Norte, said the road project negatively impacted the basin in Honduras' dry corridor, by forcing additional sediment into the water source that the community is already struggling to keep clean to provide enough water for human consumption. He said that continuous water management has allowed the community to fully understand how access to water affects development and how it can be contained and stored to ensure future safety. With the help of a watershed management program led by the nonprofit Global Communities, San Antonio del Norte reduced the impact of road construction and improved other aspects of its system to secure the population's water supply. The project is part of a broader effort signed by the Honduran government and international partners in 2014, called the Dry Corridor Alliance, which aims to improve life in the poverty-prone region by reducing malnutrition, increasing access to water and stimulating the local economy. . \"We did an analysis with the Dry Corridor Alliance to review water quality and quantity,\" said Jorge Gomez, a water council member in the dry corridor. The construction of a bridge in this area ensures that the water does not interfere with movement by allowing community members living on the other side of the river to cross the bridge even when the flow is higher. In addition to infrastructure improvements, local water councils receive training in effective watershed management. An insurance policy Effective water savings for agriculture in the dry corridor is also crucial to food security and economic stability. According to Caballero, the study focused on ensuring water quality for both human and agricultural production systems in order to increase food security and promote economic development. But having a stable water supply even in dry months has extended the season to three harvests a year, which means they can now plant a wider variety of crops like green beans, squash, watermelon and sweet potatoes.\n"
     ]
    }
   ],
   "source": [
    "start = time.time()\n",
    "backtrans = backtranslation(text=text, \n",
    "                           translator=translator, \n",
    "                           language=lang)\n",
    "stop = time.time()\n",
    "print(\"TIME: {}\".format(stop-start))\n",
    "print(\"Augmentation: \\n{}\".format(backtrans))"
   ]
  },
  {
   "cell_type": "code",
   "execution_count": 319,
   "metadata": {},
   "outputs": [],
   "source": [
    "duplicates = augmentations_df.duplicated(subset=[\"augmented_summary_textrank\"], keep=False)"
   ]
  },
  {
   "cell_type": "code",
   "execution_count": 320,
   "metadata": {},
   "outputs": [
    {
     "data": {
      "text/plain": [
       "11"
      ]
     },
     "execution_count": 320,
     "metadata": {},
     "output_type": "execute_result"
    }
   ],
   "source": [
    "sum(duplicates.values)"
   ]
  },
  {
   "cell_type": "markdown",
   "metadata": {},
   "source": [
    "### Explorative Analysis on augmented Dataset"
   ]
  },
  {
   "cell_type": "code",
   "execution_count": 988,
   "metadata": {},
   "outputs": [
    {
     "name": "stderr",
     "output_type": "stream",
     "text": [
      "100%|██████████| 2/2 [00:29<00:00, 14.59s/it]\n"
     ]
    }
   ],
   "source": [
    "def generate_augmentations(row, categories, label_counter):\n",
    "    labels = row.loc[categories].values\n",
    "    active_labels = label_counter[labels.astype(bool)]\n",
    "    \n",
    "    min_active = min(active_labels)\n",
    "    max_overall = max(label_counter)\n",
    "    \n",
    "    augmented_df = pd.DataFrame(columns=[\"id\", \"text\"] + categories)\n",
    "    \n",
    "    if max_overall in active_labels:\n",
    "        return augmented_df\n",
    "    \n",
    "    number_augmentations = min(math.ceil(max_overall/min_active),12)\n",
    "    \n",
    "    augmented_text = [\"test\"] * number_augmentations\n",
    "    \n",
    "    augmented_ids = [int(str(row.id) + str(new_id)) for new_id in range(number_augmentations)]\n",
    "    \n",
    "    augmented_labels = np.array([list(labels),] * number_augmentations)\n",
    "    \n",
    "    \n",
    "    augmented_df[\"id\"] = augmented_ids\n",
    "    augmented_df[\"text\"] = augmented_text\n",
    "    augmented_df[categories] = augmented_labels\n",
    "    \n",
    "    return augmented_df\n",
    "\n",
    "categories = list(summary_df.drop(columns=[\"id\", \"text\", \"summary_cluster\", \"summary_textrank\"]).columns)\n",
    "categories = [\"WS\", \"none_active\"]\n",
    "df_restricted = df\n",
    "df_restricted.loc[:,\"none_active\"] = 0\n",
    "\n",
    "def construct_none(row, categories=categories):\n",
    "    if sum(row.loc[categories].values) == 0:\n",
    "        row.none_active = 1\n",
    "    return row\n",
    "\n",
    "df_restricted = df_restricted.apply(func=construct_none, axis=1)\n",
    "label_counter_original = df_restricted.loc[:, categories].sum().values\n",
    "counter_dict = {category: counter for category,counter in zip(categories, label_counter_original)}\n",
    "sorted_labels = sorted(categories, key=lambda key:counter_dict[key], reverse=False)\n",
    "df_aug = df_restricted\n",
    "\n",
    "for category in tqdm(sorted_labels, total=len(sorted_labels), position=0, leave=True):\n",
    "    active_df = df_restricted[df_restricted.loc[:,category]==1]\n",
    "    for index, row in active_df.iterrows():\n",
    "        if int(str(row.id) + \"0\") not in df_aug.id.values:\n",
    "            label_counter = df_aug.loc[:, categories].sum().values\n",
    "            augmented_df = generate_augmentations(row, categories, label_counter)\n",
    "\n",
    "            df_aug = pd.concat([df_aug, augmented_df])"
   ]
  },
  {
   "cell_type": "code",
   "execution_count": 989,
   "metadata": {},
   "outputs": [
    {
     "name": "stdout",
     "output_type": "stream",
     "text": [
      "Number of Datapoints: 5247\n"
     ]
    },
    {
     "data": {
      "image/png": "[encoded data removed]",
      "text/plain": [
       "<Figure size 1080x576 with 1 Axes>"
      ]
     },
     "metadata": {},
     "output_type": "display_data"
    }
   ],
   "source": [
    "print_label_frequencies(df_aug, categories, save_path=None)"
   ]
  },
  {
   "cell_type": "code",
   "execution_count": 669,
   "metadata": {},
   "outputs": [],
   "source": [
    "label_counter = df_aug.loc[:,categories].astype(int).sum().values"
   ]
  },
  {
   "cell_type": "code",
   "execution_count": 671,
   "metadata": {},
   "outputs": [
    {
     "data": {
      "text/plain": [
       "305.28929070704095"
      ]
     },
     "execution_count": 671,
     "metadata": {},
     "output_type": "execute_result"
    }
   ],
   "source": [
    "label_counter.std()"
   ]
  },
  {
   "cell_type": "markdown",
   "metadata": {},
   "source": [
    "### Evaluate Augmentations on Training Sets"
   ]
  },
  {
   "cell_type": "code",
   "execution_count": 717,
   "metadata": {},
   "outputs": [],
   "source": [
    "seed=3\n",
    "number_labels=5\n",
    "\n",
    "original_set_path = \"../data/train-eval-split/{}/df_train_{}.csv\".format(str(seed), str(seed))\n",
    "aug_path = \"../data/train-eval-split/{}/df_train_{}_augmented_{}labels.csv\".format(str(seed), str(seed), str(number_labels))"
   ]
  },
  {
   "cell_type": "code",
   "execution_count": 718,
   "metadata": {},
   "outputs": [],
   "source": [
    "train_df = pd.read_csv(original_set_path)\n",
    "aug_df = pd.read_csv(aug_path)"
   ]
  },
  {
   "cell_type": "code",
   "execution_count": 715,
   "metadata": {},
   "outputs": [],
   "source": [
    "categories = list(train_df.drop(columns=[\"id\", \"text\", \"summary_cluster\", \"summary_textrank\"]).columns)"
   ]
  },
  {
   "cell_type": "code",
   "execution_count": 719,
   "metadata": {},
   "outputs": [],
   "source": [
    "categories = [\"GH\", \"FU\", \"TP\", \"ID\", \"SD\"]"
   ]
  },
  {
   "cell_type": "code",
   "execution_count": 707,
   "metadata": {},
   "outputs": [],
   "source": [
    "categories = [\"GH\"]"
   ]
  },
  {
   "cell_type": "code",
   "execution_count": 720,
   "metadata": {},
   "outputs": [
    {
     "name": "stdout",
     "output_type": "stream",
     "text": [
      "Number of Datapoints: 3958\n"
     ]
    },
    {
     "data": {
      "image/png": "[encoded data removed]",
      "text/plain": [
       "<Figure size 1080x576 with 1 Axes>"
      ]
     },
     "metadata": {},
     "output_type": "display_data"
    }
   ],
   "source": [
    "print_label_frequencies(aug_df, categories, save_path=None)"
   ]
  },
  {
   "cell_type": "code",
   "execution_count": null,
   "metadata": {},
   "outputs": [],
   "source": []
  }
 ],
 "metadata": {
  "kernelspec": {
   "display_name": "Python [conda env:thesis] *",
   "language": "python",
   "name": "conda-env-thesis-py"
  },
  "language_info": {
   "codemirror_mode": {
    "name": "ipython",
    "version": 3
   },
   "file_extension": ".py",
   "mimetype": "text/x-python",
   "name": "python",
   "nbconvert_exporter": "python",
   "pygments_lexer": "ipython3",
   "version": "3.7.5"
  }
 },
 "nbformat": 4,
 "nbformat_minor": 4
}
